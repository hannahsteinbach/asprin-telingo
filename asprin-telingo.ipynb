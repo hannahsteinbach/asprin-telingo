{
 "cells": [
  {
   "cell_type": "markdown",
   "id": "9dc8e0fd",
   "metadata": {},
   "source": [
    "# Combining asprin and telingo for temporal preferences: A guidebook ⌚🫶🏼"
   ]
  },
  {
   "cell_type": "markdown",
   "id": "b9fa3ac6",
   "metadata": {},
   "source": [
    "This notebook presents possibilities for preference implementations in ASP, combining `asprin` and `telingo` to model temporal preferences. We model three different problems (dinner, monkey, travel) from two papers: \n",
    "\n",
    "1) Bienvenu, M., Fritz, C., & McIlraith, S. A. (2011). Specifying and computing preferred plans. Artificial Intelligence, 175(7-8), 1308-1345: https://www.sciencedirect.com/science/article/pii/S0004370210002109\n",
    "\n",
    "2)  Son, T. C., & Pontelli, E. (2006). Planning with preferences using logic programming. Theory and Practice of Logic Programming, 6(5), 559-607. https://www.cambridge.org/core/journals/theory-and-practice-of-logic-programming/article/planning-with-preferences-using-logic-programming/441D04E11B5B0008367591DA813382A7"
   ]
  },
  {
   "cell_type": "markdown",
   "id": "a187f231",
   "metadata": {},
   "source": [
    "## Dinner Problem 🍝🧑🏻‍🍳🛒"
   ]
  },
  {
   "cell_type": "markdown",
   "id": "9df96698",
   "metadata": {},
   "source": [
    "Modelling after paper: **Bienvenu, M., Fritz, C., & McIlraith, S. A. (2011). Specifying and computing preferred plans. Artificial Intelligence, 175(7-8), 1308-1345:** https://www.sciencedirect.com/science/article/pii/S0004370210002109"
   ]
  },
  {
   "cell_type": "markdown",
   "id": "000f440b",
   "metadata": {},
   "source": [
    "Problem Framing in natural language:\n",
    "    \n",
    "*\"Example 3.1 (The Dinner Domain). It’s dinner time and Claire is tired and hungry. Her goal is to be at home with her hunger sated. There are three possible ways for Claire to get food: she can cook something at home, order in take-out food, or go to a restaurant. To cook a meal, Claire needs to know how to make the meal and she must have the necessary ingredients, which might require a trip to the grocery store. She also needs a clean kitchen in which to prepare her meal. Ordering take-out is much simpler: she only has to order and eat the meal. Going to a restaurant requires getting to the restaurant, ordering, eating, and then returning home.\"*"
   ]
  },
  {
   "cell_type": "markdown",
   "id": "b1273677",
   "metadata": {},
   "source": [
    "The axiomatization of the dinner example is given on p. 1335 - 1336 and can be translated into ASP as follows: "
   ]
  },
  {
   "cell_type": "code",
   "execution_count": 1,
   "id": "9f9f3317",
   "metadata": {},
   "outputs": [
    {
     "name": "stdout",
     "output_type": "stream",
     "text": [
      "Overwriting dinner/instances.lp\n"
     ]
    }
   ],
   "source": [
    "%%file dinner/instances.lp\n",
    "% p. 1336\n",
    "\n",
    "% MEALS\n",
    "\n",
    "% meal(x) ≡ x = pizza ∨ x = tacos ∨ x = fajitas ∨ x = spaghetti\n",
    "% ∨ x = sweetsourpork ∨ x = crêpes ∨ x = duck ∨ x = salad\n",
    "\n",
    "meal(pizza). meal(tacos). meal(fajitas).meal(spaghetti).\n",
    "meal(sweetsourpork). meal(crepes). meal(duck). meal(salad).\n",
    "\n",
    "% TYPES OF MEALS\n",
    "\n",
    "% vegetarian(x) ≡ x = salad\n",
    "% italian(x) ≡ x = spaghetti ∨ x = pizza\n",
    "% mexican(x) ≡ x = tacos ∨ x = fajitas\n",
    "% french(x) ≡ x = crêpes ∨ x = duck\n",
    "% chinese(x) ≡ x = sweetsourpork\n",
    "\n",
    "\n",
    "vegetarian(salad). italian(spaghetti). italian(pizza). mexican(tacos).\n",
    "mexican(fajitas). french(crepes). french(duck). chinese(sweetsourpork).\n",
    "\n",
    "\n",
    "% LOCATIONS\n",
    "\n",
    "% location(x) ≡ x = home ∨ x = store ∨ x = italianRest\n",
    "% ∨ x = frenchRest ∨ x = chineseRest ∨ x = pizzaPlace\n",
    "% (†) close(x, y) ≡ x = home ∧ y = italianRest\n",
    "\n",
    "location(home). location(store). location(italianRest). location(frenchRest).\n",
    "location(chineseRest). location(pizzaPlace). close(home, italianRest).\n",
    "\n",
    "\n",
    "% TYPES OF RESTAURANTS\n",
    "\n",
    "% takeOutRest(x) ≡ x = chineseRest ∨ x = pizzaPlace\n",
    "% dineInRest(x) ≡ x = italianRest ∨ x = frenchRest\n",
    "\n",
    "takeOutRest(chineseRest). takeOutRest(pizzaPlace).\n",
    "dineInRest(italianRest). dineInRest(frenchRest).\n",
    "\n",
    "\n",
    "% RESTAURANT OFFERINGS\n",
    "\n",
    "% onMenu(x, y) ≡ y = italianRest ∧ (x = spaghetti ∨ x = pizza)\n",
    "% ∨ y = frenchRest ∧ (x = crêpes ∨ x = duck)\n",
    "% ∨ y = pizzaPlace ∧ x = pizza\n",
    "% ∨ y = chineseRest ∧ x = sweetsourpork\n",
    "\n",
    "onMenu(spaghetti, italianRest). onMenu(pizza, italianRest).\n",
    "onMenu(crepes, frenchRest). onMenu(duck, frenchRest).\n",
    "onMenu(pizza, pizzaPlace). onMenu(sweetsourpork, chineseRest).\n",
    "\n",
    "% KNOWLEDGE OF RECIPES\n",
    "\n",
    "% knowsHowToMake(x) ≡ x = crêpes ∨ x = spaghetti ∨ x = tacos\n",
    "% ∨ x = fajitas ∨ x = salad\n",
    "\n",
    "knowsHowToMake(crepes). knowsHowToMake(spaghetti). knowsHowToMake(tacos).\n",
    "knowsHowToMake(fajitas). knowsHowToMake(salad)."
   ]
  },
  {
   "cell_type": "markdown",
   "id": "60936090",
   "metadata": {},
   "source": [
    "The action theory is represented in ASP as follows: "
   ]
  },
  {
   "cell_type": "code",
   "execution_count": 16,
   "id": "50b84ebf",
   "metadata": {},
   "outputs": [
    {
     "name": "stdout",
     "output_type": "stream",
     "text": [
      "Overwriting dinner/dinner.lp\n"
     ]
    }
   ],
   "source": [
    "%%file dinner/dinner.lp\n",
    "\n",
    "% p. 1335\n",
    "% ACTION PRECONDITION AXIOMS\n",
    "\n",
    "% Poss(drive(x, y), s) ≡ location(x) ∧ location(y) ∧ x != y ∧ at(x, s)\n",
    "action(drive(X,Y)) :- location(X), location(Y), X != Y.\n",
    "prec(drive(X, Y), at(X), true) :- action(drive(X,Y)).\n",
    "\n",
    "% Poss(walk(x, y), s) ≡ location(x) ∧ location(y) ∧ x != y ∧ at(x, s)\n",
    "action(walk(X,Y)) :- location(X), location(Y), X != Y.\n",
    "prec(walk(X, Y), at(X), true) :- action(walk(X,Y)).\n",
    "\n",
    "% Poss(cook(x), s) ≡ meal(x) ∧ knowsHowToMake(x) ∧ at(home, s) ∧ hasIngredients(x, s) ∧ kitchenClean(s)\n",
    "action(cook(X)) :- knowsHowToMake(X), meal(X).\n",
    "prec(cook(X), at(home), true) :- action(cook(X)).\n",
    "prec(cook(X), hasIngredients(X), true) :- action(cook(X)).\n",
    "prec(cook(X), kitchenClean, true) :- action(cook(X)).\n",
    "\n",
    "\n",
    "% Poss(eat(x), s) ≡ meal(x) ∧ (∃y(at(y, s) ∧ readyToEat(x, y, s)))\n",
    "action(eat(X)) :- meal(X).\n",
    "\n",
    "\n",
    "prec(eat(X), readyToEat(X,Y), true) : holds(at(Y)) :- action(eat(X)).\n",
    "\n",
    "%Poss(buyIngredients(x), s) ≡ meal(x) ∧ ¬hasIngredients(x) ∧ at(store, s)\n",
    "action(buyIngredients(X)) :- meal(X).\n",
    "prec(buyIngredients(X), at(store), true) :- action(buyIngredients(X)).\n",
    "prec(buyIngredients(X), holds(hasIngredients(X)), false) :- action(buyIngredients(X)).\n",
    "\n",
    "% Poss(orderTakeout(x, y), s) ≡ meal(x) ∧ takeOutRest(y) ∧ onMenu(x, y) ∧ at(home, s)\n",
    "action(orderTakeout(X,Y)) :- meal(X), takeOutRest(Y), onMenu(X,Y).\n",
    "prec(orderTakeout(X,Y), at(home), true) :- action(orderTakeout(X,Y)).\n",
    "\n",
    "% Poss(orderRestaurant(x, y), s) ≡ meal(x) ∧ dineInRest(y) ∧ onMenu(x, y) ∧ at(y, s)\n",
    "action(orderRestaurant(X,Y)) :- meal(X), dineInRest(Y), onMenu(X,Y).\n",
    "prec(orderRestaurant(X,Y), at(Y), true) :- action(orderRestaurant(X,Y)).\n",
    "\n",
    "% Poss(cleanDishes, s) ≡ at(home, s)\n",
    "action(cleanDishes).\n",
    "prec(cleanDishes, at(home), true) :- action(cleanDishes).\n",
    "\n",
    ":- prec(A,F,true), occurs(A), not prev(holds(F)).\n",
    ":- prec(A,F,false), occurs(A), prev(holds(F)).\n",
    "\n",
    "% EFFECTS\n",
    "\n",
    "% a = drive(x, y) → at(y, do(a, s))\n",
    "eff(drive(X,Y), at(Y), true) :- action(drive(X,Y)).\n",
    "\n",
    "% a = drive(x, y) → ¬at(x, do(a, s))\n",
    "eff(drive(X,Y), at(X), false) :- action(drive(X,Y)).\n",
    "\n",
    "% a = walk(x, y) → at(y, do(a, s))\n",
    "eff(walk(X,Y), at(Y), true) :- action(walk(X,Y)).\n",
    "\n",
    "% a = walk(x, y) → ¬at(x, do(a, s))\n",
    "eff(walk(X,Y), at(X), false) :- action(walk(X,Y)).\n",
    "\n",
    "% isSnowing(s) ∧ a = walk(x, y) → cold(do(a, s))\n",
    "condeffect(walk(X,Y), (), cold, true) :- action(walk(X,Y)).\n",
    "condition(walk(X,Y), (), isSnowing, true) :- action(walk(X,Y)).\n",
    "\n",
    "% a = cook(x) → readyToEat(x, home, do(a, s))\n",
    "eff(cook(X), readyToEat(X, home), true) :- action(cook(X)).\n",
    "\n",
    "% a = cook(x) → ¬hasIngredients(x, do(a, s))\n",
    "eff(cook(X), hasIngredients(X), false) :- action(cook(X)).\n",
    "\n",
    "% a = cook(x) → ¬kitchenClean(do(a, s))\n",
    "eff(cook(X), kitchenClean, false) :- action(cook(X)).\n",
    "\n",
    "% a = eat(x) → sated(do(a, s))\n",
    "eff(eat(X), sated, true) :- action(eat(X)).\n",
    "\n",
    "% at(y, s) ∧ a = eat(x) → ¬readyToEat(x, y, do(a, s))\n",
    "condeffect(eat(X), (Y), readyToEat(X,Y), false) :- action(eat(X)), location(Y).\n",
    "condition(eat(X), (Y), at(Y), true) :- location(Y), action(eat(X)).\n",
    "\n",
    "% a = buyIngredients(x) → hasIngredients(x, do(a, s))\n",
    "eff(buyIngredients(X), hasIngredients(X), true) :- action(buyIngredients(X)).\n",
    "\n",
    "% a = orderTakeout(x, y) → readyToEat(x, home, do(a, s))\n",
    "eff(orderTakeout(X,Y), readyToEat(X,home), true) :- action(orderTakeout(X,Y)).\n",
    "\n",
    "% a = orderRestaurant(x, y) → readyToEat(x, y, do(a, s))\n",
    "eff(orderRestaurant(X,Y), readyToEat(X,Y), true) :- action(orderRestaurant(X,Y)).\n",
    "\n",
    "% a = cleanDishes → kitchenClean(do(a, s))\n",
    "eff(cleanDishes, kitchenClean, true) :- action(cleanDishes).\n",
    "\n",
    "\n",
    "% Initial States\n",
    "% at(home, S0)\n",
    "holds(at(home)) :- initially.\n",
    "\n",
    "% kitchenClean(S0)\n",
    "holds(kitchenClean) :-initially.\n",
    "\n",
    "% hasIngredients(crêpes, S0)\n",
    "holds(hasIngredients(crepes)) :- initially.\n",
    "\n",
    "\n",
    "{holds(isSnowing)}.\n",
    "\n",
    "% actions (these are all choices)\n",
    "{occurs(X) : action(X)}1.\n",
    "\n",
    "\n",
    "% Her goal is to be at home with her hunger sated\n",
    ":- not eventually(holds(sated)).\n",
    ":- finally, not holds(at(home)).\n",
    "\n",
    "% Inertia\n",
    "wnext(holds(F)) :- holds(F), not wnext(neg(F)).\n",
    "\n",
    "\n",
    "% Update by effects\n",
    "holds(F) :- occurs(A), eff(A, F, true).\n",
    "neg(F) :- occurs(A), eff(A, F, false).\n",
    "\n",
    "holds(F) :- occurs(A), condeffect(A, X, F, true), holds(G) : condition(A,X,G,true);\n",
    "                                                  not holds(G) : condition(A,X,G,false).\n",
    "\n",
    "neg(F) :- occurs(A), condeffect(A, X, F, false), holds(G) : condition(A,X,G,true);\n",
    "                                                 not holds(G) : condition(A,X,G,false).\n",
    "\n",
    "#external initially.\n",
    "#external finally.\n",
    "#external eventually(holds(sated)).\n",
    "#external drive(X,Y) : location(X), location(Y).\n",
    "#external isSnowing.\n",
    "#external at(X) : location(X).\n",
    "#external prev(holds(F)) : prec(A,F,true).\n",
    "#external wnext(neg(F)) : prec(A,F,true).\n",
    "#external condition(A,X,G,false) : action(A), location(X), at(G). % do we need this?\n",
    "\n",
    "% show statements\n",
    "#show show(occurs(X)) : action(X).\n",
    "%#show show(holds(isSnowing))."
   ]
  },
  {
   "cell_type": "markdown",
   "id": "d8fc03a6",
   "metadata": {},
   "source": [
    "There are several answer sets satifying the goal, starting from horizon=2:"
   ]
  },
  {
   "cell_type": "code",
   "execution_count": 20,
   "id": "93d850d4",
   "metadata": {},
   "outputs": [
    {
     "name": "stdout",
     "output_type": "stream",
     "text": [
      "clingo version 5.4.0\n",
      "Reading from - ...\n",
      "Solving...\n",
      "Answer: 1\n",
      "(occurs(orderTakeout(sweetsourpork,chineseRest)),1) (occurs(eat(sweetsourpork)),2)\n",
      "Answer: 2\n",
      "(occurs(orderTakeout(pizza,pizzaPlace)),1) (occurs(eat(pizza)),2)\n",
      "Answer: 3\n",
      "(occurs(cook(crepes)),1) (occurs(eat(crepes)),2)\n",
      "SATISFIABLE\n",
      "\n",
      "Models       : 3\n",
      "Calls        : 1\n",
      "Time         : 1.979s (Solving: 0.00s 1st Model: 0.00s Unsat: 0.00s)\n",
      "CPU Time     : 1.984s\n"
     ]
    }
   ],
   "source": [
    "!clingo dinner/dinner.lp dinner/instances.lp  0 --output=reify | clingo - meta-telingo.lp -c horizon=2 0 --project"
   ]
  },
  {
   "cell_type": "markdown",
   "id": "0aa03fe0",
   "metadata": {},
   "source": [
    "Now we will look at the 11 preferences (soft constraints) as proposed by Bienvenu et al. (2011), presented in p. 1311-p-1312."
   ]
  },
  {
   "cell_type": "markdown",
   "id": "05ce3456",
   "metadata": {},
   "source": [
    "### Trajectory Property Formulas (TPF):"
   ]
  },
  {
   "cell_type": "markdown",
   "id": "bb596362",
   "metadata": {},
   "source": [
    "*\"TPFs are used to describe properties of trajectories (sequences of actions and states). The TPFs f , r, and final(f ) are used to describe the static properties of states belonging to a trajectory, while the TPF occ(a) allows one to describe the types of actions that occur along a trajectory. These basic TPFs then serve as building blocks for creating more complex TPFs using the standard Boolean connectives, quantifiers, and temporal operators.\"* (p. 1311)"
   ]
  },
  {
   "cell_type": "markdown",
   "id": "702ac519",
   "metadata": {},
   "source": [
    "**1. `hasIngredients(spaghetti) ∧ knowsHowToMake(spaghetti) (P1)`**"
   ]
  },
  {
   "cell_type": "markdown",
   "id": "f5700345",
   "metadata": {},
   "source": [
    "→ *\"The first TPF (P1) states that in the initial situation Claire has the ingredients and the know-how to cook spaghetti.\"* (p. 1311)"
   ]
  },
  {
   "cell_type": "markdown",
   "id": "89621a98",
   "metadata": {},
   "source": [
    "We translate this formula as:"
   ]
  },
  {
   "cell_type": "markdown",
   "id": "b010ae09",
   "metadata": {},
   "source": [
    "In `dinner/auxiliary.lp`: \n",
    "\n",
    "`p1_aux :- initially, holds(hasIngredients(spaghetti)), knowsHowToMake(spaghetti).`"
   ]
  },
  {
   "cell_type": "code",
   "execution_count": 18,
   "id": "63fcde69",
   "metadata": {},
   "outputs": [
    {
     "name": "stdout",
     "output_type": "stream",
     "text": [
      "Overwriting dinner/pref.lp\n"
     ]
    }
   ],
   "source": [
    "%%file dinner/pref.lp\n",
    "#optimize(p1).\n",
    "\n",
    "#preference(p1,more(cardinality)){\n",
    "   and(initially, p1_aux)\n",
    "   }."
   ]
  },
  {
   "cell_type": "code",
   "execution_count": 22,
   "id": "6b416f5c",
   "metadata": {},
   "outputs": [
    {
     "name": "stdout",
     "output_type": "stream",
     "text": [
      "asprin version 3.1.1\n",
      "Reading from - ...\n",
      "Solving...\n",
      "Answer: 1\n",
      "(occurs(eat(pizza)),2) (occurs(orderTakeout(pizza,pizzaPlace)),1)\n",
      "OPTIMUM FOUND\n",
      "Answer: 2\n",
      "(occurs(eat(pizza)),2) (occurs(orderTakeout(pizza,pizzaPlace)),1)\n",
      "OPTIMUM FOUND *\n",
      "Answer: 3\n",
      "(occurs(eat(pizza)),2) (occurs(orderTakeout(pizza,pizzaPlace)),1)\n",
      "OPTIMUM FOUND *\n",
      "Answer: 4\n",
      "(occurs(eat(pizza)),2) (occurs(orderTakeout(pizza,pizzaPlace)),1)\n",
      "OPTIMUM FOUND *\n",
      "Answer: 5\n",
      "(occurs(eat(pizza)),2) (occurs(orderTakeout(pizza,pizzaPlace)),1)\n",
      "OPTIMUM FOUND *\n",
      "Answer: 6\n",
      "(occurs(eat(pizza)),2) (occurs(orderTakeout(pizza,pizzaPlace)),1)\n",
      "OPTIMUM FOUND *\n",
      "Answer: 7\n",
      "(occurs(eat(pizza)),2) (occurs(orderTakeout(pizza,pizzaPlace)),1)\n",
      "OPTIMUM FOUND *\n",
      "Answer: 8\n",
      "(occurs(eat(pizza)),2) (occurs(orderTakeout(pizza,pizzaPlace)),1)\n",
      "OPTIMUM FOUND *\n",
      "Answer: 9\n",
      "(occurs(eat(sweetsourpork)),2) (occurs(orderTakeout(sweetsourpork,chineseRest)),1)\n",
      "OPTIMUM FOUND *\n",
      "Answer: 10\n",
      "(occurs(eat(sweetsourpork)),2) (occurs(orderTakeout(sweetsourpork,chineseRest)),1)\n",
      "OPTIMUM FOUND *\n",
      "Answer: 11\n",
      "(occurs(eat(sweetsourpork)),2) (occurs(orderTakeout(sweetsourpork,chineseRest)),1)\n",
      "OPTIMUM FOUND *\n",
      "Answer: 12\n",
      "(occurs(eat(sweetsourpork)),2) (occurs(orderTakeout(sweetsourpork,chineseRest)),1)\n",
      "OPTIMUM FOUND *\n",
      "Answer: 13\n",
      "(occurs(eat(sweetsourpork)),2) (occurs(orderTakeout(sweetsourpork,chineseRest)),1)\n",
      "OPTIMUM FOUND *\n",
      "Answer: 14\n",
      "(occurs(eat(sweetsourpork)),2) (occurs(orderTakeout(sweetsourpork,chineseRest)),1)\n",
      "OPTIMUM FOUND *\n",
      "Answer: 15\n",
      "(occurs(eat(sweetsourpork)),2) (occurs(orderTakeout(sweetsourpork,chineseRest)),1)\n",
      "OPTIMUM FOUND *\n",
      "Answer: 16\n",
      "(occurs(eat(sweetsourpork)),2) (occurs(orderTakeout(sweetsourpork,chineseRest)),1)\n",
      "OPTIMUM FOUND *\n",
      "Answer: 17\n",
      "(occurs(cook(crepes)),1) (occurs(eat(crepes)),2)\n",
      "OPTIMUM FOUND *\n",
      "Answer: 18\n",
      "(occurs(cook(crepes)),1) (occurs(eat(crepes)),2)\n",
      "OPTIMUM FOUND *\n",
      "Answer: 19\n",
      "(occurs(cook(crepes)),1) (occurs(eat(crepes)),2)\n",
      "OPTIMUM FOUND *\n",
      "Answer: 20\n",
      "(occurs(cook(crepes)),1) (occurs(eat(crepes)),2)\n",
      "OPTIMUM FOUND *\n",
      "Answer: 21\n",
      "(occurs(cook(crepes)),1) (occurs(eat(crepes)),2)\n",
      "OPTIMUM FOUND *\n",
      "Answer: 22\n",
      "(occurs(cook(crepes)),1) (occurs(eat(crepes)),2)\n",
      "OPTIMUM FOUND *\n",
      "Answer: 23\n",
      "(occurs(cook(crepes)),1) (occurs(eat(crepes)),2)\n",
      "OPTIMUM FOUND *\n",
      "Answer: 24\n",
      "(occurs(cook(crepes)),1) (occurs(eat(crepes)),2)\n",
      "OPTIMUM FOUND *\n",
      "\n",
      "Models       : 24\n",
      "  Optimum    : yes\n",
      "  Optimal    : 24\n",
      "Calls        : 4\n",
      "Time         : 2.758s (Solving: 0.01s 1st Model: 0.01s Unsat: 0.00s)\n",
      "CPU Time     : 2.672s\n"
     ]
    }
   ],
   "source": [
    "!clingo dinner/dinner.lp dinner/instances.lp dinner/auxiliary.lp dinner/pref-externals.lp  0 --output=reify | asprin - meta-telingo.lp dinner/pref.lp meta-telingo-extension.lp -c horizon=2 0"
   ]
  },
  {
   "cell_type": "markdown",
   "id": "c233d4c0",
   "metadata": {},
   "source": [
    "We see that the models are the same as before adding the preference since `holds(hasIngredients(spaghetti))` is never true initially. "
   ]
  },
  {
   "cell_type": "markdown",
   "id": "5aedfb4e",
   "metadata": {},
   "source": [
    "**2. `∃x(hasIngredients(x) & knowsHowToMake(x)) (P2)`**"
   ]
  },
  {
   "cell_type": "markdown",
   "id": "0c65088d",
   "metadata": {},
   "source": [
    "→ *\"(P2) is more general, expressing that in the initial situation Claire has the ingredients for something she knows how to make.\"* (p.1311)"
   ]
  },
  {
   "cell_type": "markdown",
   "id": "865a2f24",
   "metadata": {},
   "source": [
    "We translate this formula as:"
   ]
  },
  {
   "cell_type": "markdown",
   "id": "67c9853c",
   "metadata": {},
   "source": [
    "In `dinner/auxiliary.lp`: \n",
    "\n",
    "`p2_aux :- initially, holds(hasIngredients(X)), knowsHowToMake(X).`"
   ]
  },
  {
   "cell_type": "code",
   "execution_count": 23,
   "id": "acfa5a5a",
   "metadata": {},
   "outputs": [
    {
     "name": "stdout",
     "output_type": "stream",
     "text": [
      "Overwriting dinner/pref.lp\n"
     ]
    }
   ],
   "source": [
    "%%file dinner/pref.lp\n",
    "#optimize(p2).\n",
    "\n",
    "#preference(p2,more(cardinality)){\n",
    "   and(initially, p2_aux)\n",
    "   }."
   ]
  },
  {
   "cell_type": "code",
   "execution_count": 24,
   "id": "e6b76fc6",
   "metadata": {},
   "outputs": [
    {
     "name": "stdout",
     "output_type": "stream",
     "text": [
      "asprin version 3.1.1\n",
      "Reading from - ...\n",
      "Solving...\n",
      "Answer: 1\n",
      "(occurs(eat(pizza)),2) (occurs(orderTakeout(pizza,pizzaPlace)),1)\n",
      "OPTIMUM FOUND\n",
      "Answer: 2\n",
      "(occurs(eat(pizza)),2) (occurs(orderTakeout(pizza,pizzaPlace)),1)\n",
      "OPTIMUM FOUND *\n",
      "Answer: 3\n",
      "(occurs(eat(pizza)),2) (occurs(orderTakeout(pizza,pizzaPlace)),1)\n",
      "OPTIMUM FOUND *\n",
      "Answer: 4\n",
      "(occurs(eat(pizza)),2) (occurs(orderTakeout(pizza,pizzaPlace)),1)\n",
      "OPTIMUM FOUND *\n",
      "Answer: 5\n",
      "(occurs(eat(pizza)),2) (occurs(orderTakeout(pizza,pizzaPlace)),1)\n",
      "OPTIMUM FOUND *\n",
      "Answer: 6\n",
      "(occurs(eat(pizza)),2) (occurs(orderTakeout(pizza,pizzaPlace)),1)\n",
      "OPTIMUM FOUND *\n",
      "Answer: 7\n",
      "(occurs(eat(pizza)),2) (occurs(orderTakeout(pizza,pizzaPlace)),1)\n",
      "OPTIMUM FOUND *\n",
      "Answer: 8\n",
      "(occurs(eat(pizza)),2) (occurs(orderTakeout(pizza,pizzaPlace)),1)\n",
      "OPTIMUM FOUND *\n",
      "Answer: 9\n",
      "(occurs(eat(sweetsourpork)),2) (occurs(orderTakeout(sweetsourpork,chineseRest)),1)\n",
      "OPTIMUM FOUND *\n",
      "Answer: 10\n",
      "(occurs(eat(sweetsourpork)),2) (occurs(orderTakeout(sweetsourpork,chineseRest)),1)\n",
      "OPTIMUM FOUND *\n",
      "Answer: 11\n",
      "(occurs(eat(sweetsourpork)),2) (occurs(orderTakeout(sweetsourpork,chineseRest)),1)\n",
      "OPTIMUM FOUND *\n",
      "Answer: 12\n",
      "(occurs(eat(sweetsourpork)),2) (occurs(orderTakeout(sweetsourpork,chineseRest)),1)\n",
      "OPTIMUM FOUND *\n",
      "Answer: 13\n",
      "(occurs(eat(sweetsourpork)),2) (occurs(orderTakeout(sweetsourpork,chineseRest)),1)\n",
      "OPTIMUM FOUND *\n",
      "Answer: 14\n",
      "(occurs(eat(sweetsourpork)),2) (occurs(orderTakeout(sweetsourpork,chineseRest)),1)\n",
      "OPTIMUM FOUND *\n",
      "Answer: 15\n",
      "(occurs(eat(sweetsourpork)),2) (occurs(orderTakeout(sweetsourpork,chineseRest)),1)\n",
      "OPTIMUM FOUND *\n",
      "Answer: 16\n",
      "(occurs(eat(sweetsourpork)),2) (occurs(orderTakeout(sweetsourpork,chineseRest)),1)\n",
      "OPTIMUM FOUND *\n",
      "Answer: 17\n",
      "(occurs(cook(crepes)),1) (occurs(eat(crepes)),2)\n",
      "OPTIMUM FOUND *\n",
      "Answer: 18\n",
      "(occurs(cook(crepes)),1) (occurs(eat(crepes)),2)\n",
      "OPTIMUM FOUND *\n",
      "Answer: 19\n",
      "(occurs(cook(crepes)),1) (occurs(eat(crepes)),2)\n",
      "OPTIMUM FOUND *\n",
      "Answer: 20\n",
      "(occurs(cook(crepes)),1) (occurs(eat(crepes)),2)\n",
      "OPTIMUM FOUND *\n",
      "Answer: 21\n",
      "(occurs(cook(crepes)),1) (occurs(eat(crepes)),2)\n",
      "OPTIMUM FOUND *\n",
      "Answer: 22\n",
      "(occurs(cook(crepes)),1) (occurs(eat(crepes)),2)\n",
      "OPTIMUM FOUND *\n",
      "Answer: 23\n",
      "(occurs(cook(crepes)),1) (occurs(eat(crepes)),2)\n",
      "OPTIMUM FOUND *\n",
      "Answer: 24\n",
      "(occurs(cook(crepes)),1) (occurs(eat(crepes)),2)\n",
      "OPTIMUM FOUND *\n",
      "\n",
      "Models       : 24\n",
      "  Optimum    : yes\n",
      "  Optimal    : 24\n",
      "Calls        : 4\n",
      "Time         : 2.958s (Solving: 0.00s 1st Model: 0.00s Unsat: 0.00s)\n",
      "CPU Time     : 2.672s\n"
     ]
    }
   ],
   "source": [
    "!clingo dinner/dinner.lp dinner/instances.lp dinner/auxiliary.lp dinner/pref-externals.lp  0 --output=reify | asprin - meta-telingo.lp dinner/pref.lp meta-telingo-extension.lp -c horizon=2 0"
   ]
  },
  {
   "cell_type": "markdown",
   "id": "1845da30",
   "metadata": {},
   "source": [
    "Again, the answer sets are the same as without the preference since Claire always has the ingredients for something she knows how to make (crepes)."
   ]
  },
  {
   "cell_type": "markdown",
   "id": "04980c42",
   "metadata": {},
   "source": [
    "**3. `final(kitchenClean)(P3)`**"
   ]
  },
  {
   "cell_type": "markdown",
   "id": "6b054b81",
   "metadata": {},
   "source": [
    "→ *\"(P3) states that in the final situation the kitchen is clean.\"* (p.1311)"
   ]
  },
  {
   "cell_type": "markdown",
   "id": "d1fb4cb2",
   "metadata": {},
   "source": [
    "We translate this formula as: "
   ]
  },
  {
   "cell_type": "markdown",
   "id": "c1b935c4",
   "metadata": {},
   "source": [
    "In `dinner/auxiliary.lp`: \n",
    "\n",
    "`p3_aux :- finally, holds(kitchenClean).`"
   ]
  },
  {
   "cell_type": "code",
   "execution_count": 25,
   "id": "fa42306c",
   "metadata": {},
   "outputs": [
    {
     "name": "stdout",
     "output_type": "stream",
     "text": [
      "Overwriting dinner/pref.lp\n"
     ]
    }
   ],
   "source": [
    "%%file dinner/pref.lp\n",
    "#optimize(p3).\n",
    "\n",
    "#preference(p3,more(cardinality)){\n",
    "   eventually(p3_aux)\n",
    "   }."
   ]
  },
  {
   "cell_type": "code",
   "execution_count": 26,
   "id": "0c10bf6e",
   "metadata": {},
   "outputs": [
    {
     "name": "stdout",
     "output_type": "stream",
     "text": [
      "asprin version 3.1.1\n",
      "Reading from - ...\n",
      "Solving...\n",
      "Answer: 1\n",
      "(occurs(eat(pizza)),2) (occurs(orderTakeout(pizza,pizzaPlace)),1)\n",
      "OPTIMUM FOUND\n",
      "Answer: 2\n",
      "(occurs(eat(pizza)),2) (occurs(orderTakeout(pizza,pizzaPlace)),1)\n",
      "OPTIMUM FOUND *\n",
      "Answer: 3\n",
      "(occurs(eat(pizza)),2) (occurs(orderTakeout(pizza,pizzaPlace)),1)\n",
      "OPTIMUM FOUND *\n",
      "Answer: 4\n",
      "(occurs(eat(pizza)),2) (occurs(orderTakeout(pizza,pizzaPlace)),1)\n",
      "OPTIMUM FOUND *\n",
      "Answer: 5\n",
      "(occurs(eat(pizza)),2) (occurs(orderTakeout(pizza,pizzaPlace)),1)\n",
      "OPTIMUM FOUND *\n",
      "Answer: 6\n",
      "(occurs(eat(pizza)),2) (occurs(orderTakeout(pizza,pizzaPlace)),1)\n",
      "OPTIMUM FOUND *\n",
      "Answer: 7\n",
      "(occurs(eat(pizza)),2) (occurs(orderTakeout(pizza,pizzaPlace)),1)\n",
      "OPTIMUM FOUND *\n",
      "Answer: 8\n",
      "(occurs(eat(pizza)),2) (occurs(orderTakeout(pizza,pizzaPlace)),1)\n",
      "OPTIMUM FOUND *\n",
      "Answer: 9\n",
      "(occurs(eat(sweetsourpork)),2) (occurs(orderTakeout(sweetsourpork,chineseRest)),1)\n",
      "OPTIMUM FOUND *\n",
      "Answer: 10\n",
      "(occurs(eat(sweetsourpork)),2) (occurs(orderTakeout(sweetsourpork,chineseRest)),1)\n",
      "OPTIMUM FOUND *\n",
      "Answer: 11\n",
      "(occurs(eat(sweetsourpork)),2) (occurs(orderTakeout(sweetsourpork,chineseRest)),1)\n",
      "OPTIMUM FOUND *\n",
      "Answer: 12\n",
      "(occurs(eat(sweetsourpork)),2) (occurs(orderTakeout(sweetsourpork,chineseRest)),1)\n",
      "OPTIMUM FOUND *\n",
      "Answer: 13\n",
      "(occurs(eat(sweetsourpork)),2) (occurs(orderTakeout(sweetsourpork,chineseRest)),1)\n",
      "OPTIMUM FOUND *\n",
      "Answer: 14\n",
      "(occurs(eat(sweetsourpork)),2) (occurs(orderTakeout(sweetsourpork,chineseRest)),1)\n",
      "OPTIMUM FOUND *\n",
      "Answer: 15\n",
      "(occurs(eat(sweetsourpork)),2) (occurs(orderTakeout(sweetsourpork,chineseRest)),1)\n",
      "OPTIMUM FOUND *\n",
      "Answer: 16\n",
      "(occurs(eat(sweetsourpork)),2) (occurs(orderTakeout(sweetsourpork,chineseRest)),1)\n",
      "OPTIMUM FOUND *\n",
      "\n",
      "Models       : 16\n",
      "  Optimum    : yes\n",
      "  Optimal    : 16\n",
      "Calls        : 4\n",
      "Time         : 2.657s (Solving: 0.00s 1st Model: 0.00s Unsat: 0.00s)\n",
      "CPU Time     : 2.516s\n"
     ]
    }
   ],
   "source": [
    "!clingo dinner/dinner.lp dinner/instances.lp dinner/auxiliary.lp dinner/pref-externals.lp  0 --output=reify | asprin - meta-telingo.lp dinner/pref.lp meta-telingo-extension.lp -c horizon=2 0"
   ]
  },
  {
   "cell_type": "markdown",
   "id": "b0e98df8",
   "metadata": {},
   "source": [
    "As opposed to before, `occurs(cook(crepes), 1)` and `occurs(eat(crepes), 2)` are not part of the answer sets anymore since cooking forces the kitchen to not be clean anymore, contradicting the preference. "
   ]
  },
  {
   "cell_type": "markdown",
   "id": "6daaab9b",
   "metadata": {},
   "source": [
    "**4. `always(at(home)) (P4)`**"
   ]
  },
  {
   "cell_type": "markdown",
   "id": "33de96ca",
   "metadata": {},
   "source": [
    "→ *\"The TPF (P4) states that Claire remains at home throughout the trajectory.\"* (p.1311)"
   ]
  },
  {
   "cell_type": "markdown",
   "id": "4fcdce1f",
   "metadata": {},
   "source": [
    "We translate this formula as: "
   ]
  },
  {
   "cell_type": "markdown",
   "id": "69586911",
   "metadata": {},
   "source": [
    "In `dinner/auxiliary.lp`: \n",
    "\n",
    "`always(p4_aux) :- initially, always(holds(at(home))).`"
   ]
  },
  {
   "cell_type": "code",
   "execution_count": 29,
   "id": "9a478ee5",
   "metadata": {},
   "outputs": [
    {
     "name": "stdout",
     "output_type": "stream",
     "text": [
      "Overwriting dinner/pref.lp\n"
     ]
    }
   ],
   "source": [
    "%%file dinner/pref.lp\n",
    "#optimize(p4).\n",
    "\n",
    "#preference(p4,more(cardinality)){\n",
    "   always(p4_aux)\n",
    "   }."
   ]
  },
  {
   "cell_type": "markdown",
   "id": "0298128a",
   "metadata": {},
   "source": [
    "For this preference, `horizon=2` is too short since this is not enough time for Claire to leave the house anyway. So we put `horizon=4` now."
   ]
  },
  {
   "cell_type": "markdown",
   "id": "5bf71918",
   "metadata": {},
   "source": [
    "Without preference: "
   ]
  },
  {
   "cell_type": "code",
   "execution_count": 1,
   "id": "b2485fe1",
   "metadata": {},
   "outputs": [
    {
     "name": "stdout",
     "output_type": "stream",
     "text": [
      "clingo version 5.4.0\n",
      "Reading from - ...\n",
      "Solving...\n",
      "Answer: 1\n",
      "(occurs(orderTakeout(pizza,pizzaPlace)),1) (occurs(eat(pizza)),2) (occurs(walk(home,pizzaPlace)),3) (occurs(walk(pizzaPlace,home)),4)\n",
      "Answer: 2\n",
      "(occurs(orderTakeout(pizza,pizzaPlace)),1) (occurs(eat(pizza)),2) (occurs(walk(home,pizzaPlace)),3) (occurs(drive(pizzaPlace,home)),4)\n",
      "Answer: 3\n",
      "(occurs(orderTakeout(pizza,pizzaPlace)),1) (occurs(eat(pizza)),2) (occurs(walk(home,pizzaPlace)),3) (occurs(drive(pizzaPlace,home)),4)\n",
      "Answer: 4\n",
      "(occurs(orderTakeout(pizza,pizzaPlace)),1) (occurs(eat(pizza)),2) (occurs(walk(home,pizzaPlace)),3) (occurs(drive(pizzaPlace,home)),4)\n",
      "Answer: 5\n",
      "(occurs(orderTakeout(pizza,pizzaPlace)),1) (occurs(eat(pizza)),2) (occurs(walk(home,pizzaPlace)),3) (occurs(drive(pizzaPlace,home)),4)\n",
      "Answer: 6\n",
      "(occurs(orderTakeout(pizza,pizzaPlace)),1) (occurs(eat(pizza)),2) (occurs(walk(home,pizzaPlace)),3) (occurs(drive(pizzaPlace,home)),4)\n",
      "Answer: 7\n",
      "(occurs(orderTakeout(pizza,pizzaPlace)),1) (occurs(eat(pizza)),2) (occurs(walk(home,pizzaPlace)),3) (occurs(drive(pizzaPlace,home)),4)\n",
      "Answer: 8\n",
      "(occurs(orderTakeout(pizza,pizzaPlace)),1) (occurs(eat(pizza)),2) (occurs(walk(home,pizzaPlace)),3) (occurs(walk(pizzaPlace,home)),4)\n",
      "Answer: 9\n",
      "(occurs(orderTakeout(pizza,pizzaPlace)),1) (occurs(eat(pizza)),2) (occurs(walk(home,pizzaPlace)),3) (occurs(walk(pizzaPlace,home)),4)\n",
      "Answer: 10\n",
      "(occurs(orderTakeout(pizza,pizzaPlace)),1) (occurs(eat(pizza)),2) (occurs(walk(home,pizzaPlace)),3) (occurs(walk(pizzaPlace,home)),4)\n",
      "SATISFIABLE\n",
      "\n",
      "Models       : 10+\n",
      "Calls        : 1\n",
      "Time         : 0.550s (Solving: 0.00s 1st Model: 0.00s Unsat: 0.00s)\n",
      "CPU Time     : 0.500s\n"
     ]
    }
   ],
   "source": [
    "!clingo dinner/dinner.lp dinner/instances.lp  0 --output=reify | clingo - meta-telingo.lp -c horizon=4 20"
   ]
  },
  {
   "cell_type": "markdown",
   "id": "e49bc84c",
   "metadata": {},
   "source": [
    "With preference: "
   ]
  },
  {
   "cell_type": "code",
   "execution_count": 2,
   "id": "68700a36",
   "metadata": {},
   "outputs": [
    {
     "name": "stdout",
     "output_type": "stream",
     "text": [
      "asprin version 3.1.1\n",
      "Reading from - ...\n",
      "Solving...\n",
      "Answer: 1\n",
      "assigned_weight(p11,0) assigned_weight(p10,4) assigned_weight(p13,4) (occurs(cleanDishes),2) (occurs(cook(crepes)),4) (occurs(eat(pizza)),3) (occurs(orderTakeout(pizza,pizzaPlace)),1)\n",
      "OPTIMUM FOUND\n",
      "Answer: 2\n",
      "assigned_weight(p11,0) assigned_weight(p10,4) assigned_weight(p13,4) (occurs(cook(crepes)),3) (occurs(eat(pizza)),2) (occurs(eat(crepes)),4) (occurs(orderTakeout(pizza,pizzaPlace)),1)\n",
      "OPTIMUM FOUND *\n",
      "Answer: 3\n",
      "assigned_weight(p11,0) assigned_weight(p10,4) assigned_weight(p13,4) (occurs(cook(crepes)),3) (occurs(eat(pizza)),2) (occurs(eat(crepes)),4) (occurs(orderTakeout(pizza,pizzaPlace)),1)\n",
      "OPTIMUM FOUND *\n",
      "Answer: 4\n",
      "assigned_weight(p11,0) assigned_weight(p10,4) assigned_weight(p13,4) (occurs(cook(crepes)),3) (occurs(eat(pizza)),2) (occurs(eat(crepes)),4) (occurs(orderTakeout(pizza,pizzaPlace)),1)\n",
      "OPTIMUM FOUND *\n",
      "Answer: 5\n",
      "assigned_weight(p11,0) assigned_weight(p10,4) assigned_weight(p13,4) (occurs(cook(crepes)),3) (occurs(eat(pizza)),2) (occurs(eat(crepes)),4) (occurs(orderTakeout(pizza,pizzaPlace)),1)\n",
      "OPTIMUM FOUND *\n",
      "Answer: 6\n",
      "assigned_weight(p11,0) assigned_weight(p10,4) assigned_weight(p13,4) (occurs(cook(crepes)),3) (occurs(eat(pizza)),2) (occurs(eat(crepes)),4) (occurs(orderTakeout(pizza,pizzaPlace)),1)\n",
      "OPTIMUM FOUND *\n",
      "Answer: 7\n",
      "assigned_weight(p11,0) assigned_weight(p10,4) assigned_weight(p13,4) (occurs(cook(crepes)),3) (occurs(eat(pizza)),2) (occurs(eat(crepes)),4) (occurs(orderTakeout(pizza,pizzaPlace)),1)\n",
      "OPTIMUM FOUND *\n",
      "Answer: 8\n",
      "assigned_weight(p11,0) assigned_weight(p10,4) assigned_weight(p13,4) (occurs(cook(crepes)),3) (occurs(eat(pizza)),2) (occurs(eat(crepes)),4) (occurs(orderTakeout(pizza,pizzaPlace)),1)\n",
      "OPTIMUM FOUND *\n",
      "Answer: 9\n",
      "assigned_weight(p11,0) assigned_weight(p10,4) assigned_weight(p13,4) (occurs(cook(crepes)),3) (occurs(eat(pizza)),2) (occurs(eat(crepes)),4) (occurs(orderTakeout(pizza,pizzaPlace)),1)\n",
      "OPTIMUM FOUND *\n",
      "Answer: 10\n",
      "assigned_weight(p11,0) assigned_weight(p10,4) assigned_weight(p13,4) (occurs(cook(crepes)),3) (occurs(eat(pizza)),2) (occurs(eat(crepes)),4) (occurs(orderTakeout(pizza,pizzaPlace)),1)\n",
      "OPTIMUM FOUND *\n",
      "\n",
      "Models       : 10+\n",
      "  Optimum    : yes\n",
      "  Optimal    : 10\n",
      "Calls        : 3\n",
      "Time         : 1.412s (Solving: 0.08s 1st Model: 0.02s Unsat: 0.05s)\n",
      "CPU Time     : 1.281s\n"
     ]
    }
   ],
   "source": [
    "!clingo dinner/dinner.lp dinner/instances.lp dinner/auxiliary.lp dinner/pref-externals.lp  0 --output=reify | asprin - meta-telingo.lp dinner/pref.lp meta-telingo-extension.lp -c horizon=4 20 "
   ]
  },
  {
   "cell_type": "markdown",
   "id": "3fb0e5d8",
   "metadata": {},
   "source": [
    "Here, `occurs(drive)` and `occurs(walk)` are never part of answer sets, Claire never leaves home. "
   ]
  },
  {
   "cell_type": "markdown",
   "id": "ddabf133",
   "metadata": {},
   "source": [
    "**5. `∃x eventually(occ(cook(x)))(P5)`**\n",
    "\n",
    "**6. `∃x∃y eventually(occ(orderTakeout(x, y)))(P6)`**\n",
    "\n",
    "**7. `∃x∃y eventually(occ(orderRestaurant(x, y)))(P7)`**"
   ]
  },
  {
   "cell_type": "markdown",
   "id": "cd22ea5c",
   "metadata": {},
   "source": [
    "→ *\"(P5)–(P7) state\n",
    "respectively that at some point in time Claire cooks, orders in take-out, or orders a meal in a restaurant.\"* (p.1311)"
   ]
  },
  {
   "cell_type": "markdown",
   "id": "e0bec4b0",
   "metadata": {},
   "source": [
    "These formula can be translated as: "
   ]
  },
  {
   "cell_type": "markdown",
   "id": "c34ca99f",
   "metadata": {},
   "source": [
    "In `dinner/auxiliary.lp`: \n",
    "    \n",
    "**`P5`**\n",
    "\n",
    "`eventually(occurs(cook)) :- occurs(cook(_))`.\n",
    "\n",
    "`p5_aux :- initially, eventually(occurs(cook(X)))`.\n",
    "\n",
    "\n",
    "**`P6`**\n",
    "\n",
    "`eventually(occurs(orderTakeout)) :- occurs(orderTakeout(X,Y))`.\n",
    "\n",
    "`eventually(p6_aux) :- initially, eventually(occurs(orderTakeout))`.\n",
    "\n",
    "\n",
    "**`P7`**\n",
    "\n",
    "`eventually(occurs(orderRestaurant)) :- occurs(orderRestaurant(X,Y))`.\n",
    "\n",
    "`eventually(p7_aux) :- initially, eventually(occurs(orderRestaurant))`."
   ]
  },
  {
   "cell_type": "code",
   "execution_count": 32,
   "id": "be6eb124",
   "metadata": {},
   "outputs": [
    {
     "name": "stdout",
     "output_type": "stream",
     "text": [
      "Overwriting dinner/pref.lp\n"
     ]
    }
   ],
   "source": [
    "%%file dinner/pref.lp\n",
    "\n",
    "% (P5) x eventually(occ(cook(x)))\n",
    "\n",
    "#optimize(p5).\n",
    "\n",
    "#preference(p5,more(cardinality)){\n",
    "   eventually(p5_aux)\n",
    "   }."
   ]
  },
  {
   "cell_type": "code",
   "execution_count": 33,
   "id": "bb30a3b4",
   "metadata": {},
   "outputs": [
    {
     "name": "stdout",
     "output_type": "stream",
     "text": [
      "asprin version 3.1.1\n",
      "Reading from - ...\n",
      "Solving...\n",
      "Answer: 1\n",
      "(occurs(eat(pizza)),2) (occurs(orderTakeout(pizza,pizzaPlace)),1)\n",
      "Answer: 2\n",
      "(occurs(cook(crepes)),1) (occurs(eat(crepes)),2)\n",
      "OPTIMUM FOUND\n",
      "Answer: 3\n",
      "(occurs(cook(crepes)),1) (occurs(eat(crepes)),2)\n",
      "OPTIMUM FOUND *\n",
      "Answer: 4\n",
      "(occurs(cook(crepes)),1) (occurs(eat(crepes)),2)\n",
      "OPTIMUM FOUND *\n",
      "Answer: 5\n",
      "(occurs(cook(crepes)),1) (occurs(eat(crepes)),2)\n",
      "OPTIMUM FOUND *\n",
      "Answer: 6\n",
      "(occurs(cook(crepes)),1) (occurs(eat(crepes)),2)\n",
      "OPTIMUM FOUND *\n",
      "Answer: 7\n",
      "(occurs(cook(crepes)),1) (occurs(eat(crepes)),2)\n",
      "OPTIMUM FOUND *\n",
      "Answer: 8\n",
      "(occurs(cook(crepes)),1) (occurs(eat(crepes)),2)\n",
      "OPTIMUM FOUND *\n",
      "Answer: 9\n",
      "(occurs(cook(crepes)),1) (occurs(eat(crepes)),2)\n",
      "OPTIMUM FOUND *\n",
      "\n",
      "Models       : 9\n",
      "  Optimum    : yes\n",
      "  Optimal    : 8\n",
      "Calls        : 5\n",
      "Time         : 2.671s (Solving: 0.01s 1st Model: 0.00s Unsat: 0.00s)\n",
      "CPU Time     : 2.609s\n"
     ]
    }
   ],
   "source": [
    "!clingo dinner/dinner.lp dinner/instances.lp dinner/auxiliary.lp dinner/pref-externals.lp  0 --output=reify | asprin - meta-telingo.lp dinner/pref.lp meta-telingo-extension.lp -c horizon=2 0"
   ]
  },
  {
   "cell_type": "markdown",
   "id": "52f51d0c",
   "metadata": {},
   "source": [
    "→ Claire cooks something."
   ]
  },
  {
   "cell_type": "code",
   "execution_count": 34,
   "id": "13e39576",
   "metadata": {},
   "outputs": [
    {
     "name": "stdout",
     "output_type": "stream",
     "text": [
      "Overwriting dinner/pref.lp\n"
     ]
    }
   ],
   "source": [
    "%%file dinner/pref.lp\n",
    "\n",
    "% (P6) xy(eventually(occ(orderTakeout(x, y))))\n",
    "\n",
    "#optimize(p6).\n",
    "\n",
    "#preference(p6,more(cardinality)){\n",
    "   eventually(p6_aux)\n",
    "}.\n"
   ]
  },
  {
   "cell_type": "code",
   "execution_count": 35,
   "id": "0a4d4378",
   "metadata": {},
   "outputs": [
    {
     "name": "stdout",
     "output_type": "stream",
     "text": [
      "asprin version 3.1.1\n",
      "Reading from - ...\n",
      "Solving...\n",
      "Answer: 1\n",
      "(occurs(eat(pizza)),2) (occurs(orderTakeout(pizza,pizzaPlace)),1)\n",
      "OPTIMUM FOUND\n",
      "Answer: 2\n",
      "(occurs(eat(pizza)),2) (occurs(orderTakeout(pizza,pizzaPlace)),1)\n",
      "OPTIMUM FOUND *\n",
      "Answer: 3\n",
      "(occurs(eat(pizza)),2) (occurs(orderTakeout(pizza,pizzaPlace)),1)\n",
      "OPTIMUM FOUND *\n",
      "Answer: 4\n",
      "(occurs(eat(pizza)),2) (occurs(orderTakeout(pizza,pizzaPlace)),1)\n",
      "OPTIMUM FOUND *\n",
      "Answer: 5\n",
      "(occurs(eat(pizza)),2) (occurs(orderTakeout(pizza,pizzaPlace)),1)\n",
      "OPTIMUM FOUND *\n",
      "Answer: 6\n",
      "(occurs(eat(pizza)),2) (occurs(orderTakeout(pizza,pizzaPlace)),1)\n",
      "OPTIMUM FOUND *\n",
      "Answer: 7\n",
      "(occurs(eat(pizza)),2) (occurs(orderTakeout(pizza,pizzaPlace)),1)\n",
      "OPTIMUM FOUND *\n",
      "Answer: 8\n",
      "(occurs(eat(pizza)),2) (occurs(orderTakeout(pizza,pizzaPlace)),1)\n",
      "OPTIMUM FOUND *\n",
      "Answer: 9\n",
      "(occurs(eat(sweetsourpork)),2) (occurs(orderTakeout(sweetsourpork,chineseRest)),1)\n",
      "OPTIMUM FOUND *\n",
      "Answer: 10\n",
      "(occurs(eat(sweetsourpork)),2) (occurs(orderTakeout(sweetsourpork,chineseRest)),1)\n",
      "OPTIMUM FOUND *\n",
      "Answer: 11\n",
      "(occurs(eat(sweetsourpork)),2) (occurs(orderTakeout(sweetsourpork,chineseRest)),1)\n",
      "OPTIMUM FOUND *\n",
      "Answer: 12\n",
      "(occurs(eat(sweetsourpork)),2) (occurs(orderTakeout(sweetsourpork,chineseRest)),1)\n",
      "OPTIMUM FOUND *\n",
      "Answer: 13\n",
      "(occurs(eat(sweetsourpork)),2) (occurs(orderTakeout(sweetsourpork,chineseRest)),1)\n",
      "OPTIMUM FOUND *\n",
      "Answer: 14\n",
      "(occurs(eat(sweetsourpork)),2) (occurs(orderTakeout(sweetsourpork,chineseRest)),1)\n",
      "OPTIMUM FOUND *\n",
      "Answer: 15\n",
      "(occurs(eat(sweetsourpork)),2) (occurs(orderTakeout(sweetsourpork,chineseRest)),1)\n",
      "OPTIMUM FOUND *\n",
      "Answer: 16\n",
      "(occurs(eat(sweetsourpork)),2) (occurs(orderTakeout(sweetsourpork,chineseRest)),1)\n",
      "OPTIMUM FOUND *\n",
      "\n",
      "Models       : 16\n",
      "  Optimum    : yes\n",
      "  Optimal    : 16\n",
      "Calls        : 4\n",
      "Time         : 2.816s (Solving: 0.00s 1st Model: 0.00s Unsat: 0.00s)\n",
      "CPU Time     : 2.656s\n"
     ]
    }
   ],
   "source": [
    "!clingo dinner/dinner.lp dinner/instances.lp dinner/auxiliary.lp dinner/pref-externals.lp  0 --output=reify | asprin - meta-telingo.lp dinner/pref.lp meta-telingo-extension.lp -c horizon=2 0 "
   ]
  },
  {
   "cell_type": "markdown",
   "id": "ca488977",
   "metadata": {},
   "source": [
    "→ Claire orders takeout."
   ]
  },
  {
   "cell_type": "code",
   "execution_count": 36,
   "id": "69e3ec5b",
   "metadata": {},
   "outputs": [
    {
     "name": "stdout",
     "output_type": "stream",
     "text": [
      "Overwriting dinner/pref.lp\n"
     ]
    }
   ],
   "source": [
    "%%file dinner/pref.lp\n",
    "\n",
    "\n",
    "% (P7) xy(eventually(occ(orderRestaurant(x, y))))\n",
    "\n",
    "#optimize(p7).\n",
    "\n",
    "#preference(p7,more(cardinality)){\n",
    "   eventually(p7_aux)\n",
    "}.\n"
   ]
  },
  {
   "cell_type": "code",
   "execution_count": 37,
   "id": "6f9fa474",
   "metadata": {},
   "outputs": [
    {
     "name": "stdout",
     "output_type": "stream",
     "text": [
      "asprin version 3.1.1\n",
      "Reading from - ...\n",
      "Solving...\n",
      "Answer: 1\n",
      "(occurs(eat(pizza)),2) (occurs(orderTakeout(pizza,pizzaPlace)),1)\n",
      "OPTIMUM FOUND\n",
      "Answer: 2\n",
      "(occurs(cook(crepes)),1) (occurs(eat(crepes)),2)\n",
      "OPTIMUM FOUND *\n",
      "Answer: 3\n",
      "(occurs(cook(crepes)),1) (occurs(eat(crepes)),2)\n",
      "OPTIMUM FOUND *\n",
      "Answer: 4\n",
      "(occurs(cook(crepes)),1) (occurs(eat(crepes)),2)\n",
      "OPTIMUM FOUND *\n",
      "Answer: 5\n",
      "(occurs(cook(crepes)),1) (occurs(eat(crepes)),2)\n",
      "OPTIMUM FOUND *\n",
      "Answer: 6\n",
      "(occurs(cook(crepes)),1) (occurs(eat(crepes)),2)\n",
      "OPTIMUM FOUND *\n",
      "Answer: 7\n",
      "(occurs(cook(crepes)),1) (occurs(eat(crepes)),2)\n",
      "OPTIMUM FOUND *\n",
      "Answer: 8\n",
      "(occurs(cook(crepes)),1) (occurs(eat(crepes)),2)\n",
      "OPTIMUM FOUND *\n",
      "Answer: 9\n",
      "(occurs(cook(crepes)),1) (occurs(eat(crepes)),2)\n",
      "OPTIMUM FOUND *\n",
      "Answer: 10\n",
      "(occurs(eat(pizza)),2) (occurs(orderTakeout(pizza,pizzaPlace)),1)\n",
      "OPTIMUM FOUND *\n",
      "Answer: 11\n",
      "(occurs(eat(pizza)),2) (occurs(orderTakeout(pizza,pizzaPlace)),1)\n",
      "OPTIMUM FOUND *\n",
      "Answer: 12\n",
      "(occurs(eat(pizza)),2) (occurs(orderTakeout(pizza,pizzaPlace)),1)\n",
      "OPTIMUM FOUND *\n",
      "Answer: 13\n",
      "(occurs(eat(pizza)),2) (occurs(orderTakeout(pizza,pizzaPlace)),1)\n",
      "OPTIMUM FOUND *\n",
      "Answer: 14\n",
      "(occurs(eat(pizza)),2) (occurs(orderTakeout(pizza,pizzaPlace)),1)\n",
      "OPTIMUM FOUND *\n",
      "Answer: 15\n",
      "(occurs(eat(pizza)),2) (occurs(orderTakeout(pizza,pizzaPlace)),1)\n",
      "OPTIMUM FOUND *\n",
      "Answer: 16\n",
      "(occurs(eat(pizza)),2) (occurs(orderTakeout(pizza,pizzaPlace)),1)\n",
      "OPTIMUM FOUND *\n",
      "Answer: 17\n",
      "(occurs(eat(sweetsourpork)),2) (occurs(orderTakeout(sweetsourpork,chineseRest)),1)\n",
      "OPTIMUM FOUND *\n",
      "Answer: 18\n",
      "(occurs(eat(sweetsourpork)),2) (occurs(orderTakeout(sweetsourpork,chineseRest)),1)\n",
      "OPTIMUM FOUND *\n",
      "Answer: 19\n",
      "(occurs(eat(sweetsourpork)),2) (occurs(orderTakeout(sweetsourpork,chineseRest)),1)\n",
      "OPTIMUM FOUND *\n",
      "Answer: 20\n",
      "(occurs(eat(sweetsourpork)),2) (occurs(orderTakeout(sweetsourpork,chineseRest)),1)\n",
      "OPTIMUM FOUND *\n",
      "Answer: 21\n",
      "(occurs(eat(sweetsourpork)),2) (occurs(orderTakeout(sweetsourpork,chineseRest)),1)\n",
      "OPTIMUM FOUND *\n",
      "Answer: 22\n",
      "(occurs(eat(sweetsourpork)),2) (occurs(orderTakeout(sweetsourpork,chineseRest)),1)\n",
      "OPTIMUM FOUND *\n",
      "Answer: 23\n",
      "(occurs(eat(sweetsourpork)),2) (occurs(orderTakeout(sweetsourpork,chineseRest)),1)\n",
      "OPTIMUM FOUND *\n",
      "Answer: 24\n",
      "(occurs(eat(sweetsourpork)),2) (occurs(orderTakeout(sweetsourpork,chineseRest)),1)\n",
      "OPTIMUM FOUND *\n",
      "\n",
      "Models       : 24\n",
      "  Optimum    : yes\n",
      "  Optimal    : 24\n",
      "Calls        : 4\n",
      "Time         : 2.928s (Solving: 0.01s 1st Model: 0.00s Unsat: 0.00s)\n",
      "CPU Time     : 2.719s\n"
     ]
    }
   ],
   "source": [
    "!clingo dinner/dinner.lp dinner/instances.lp dinner/auxiliary.lp dinner/pref-externals.lp  0 --output=reify | asprin - meta-telingo.lp dinner/pref.lp meta-telingo-extension.lp -c horizon=2 0"
   ]
  },
  {
   "cell_type": "markdown",
   "id": "3c42de35",
   "metadata": {},
   "source": [
    "→ All models satisfy the goal since `horizon=2` is not enough time to order at the restaurant"
   ]
  },
  {
   "cell_type": "code",
   "execution_count": 38,
   "id": "a83cb48c",
   "metadata": {},
   "outputs": [
    {
     "name": "stdout",
     "output_type": "stream",
     "text": [
      "asprin version 3.1.1\n",
      "Reading from - ...\n",
      "Solving...\n",
      "Answer: 1\n",
      "(occurs(cleanDishes),1) (occurs(cook(crepes)),4) (occurs(eat(pizza)),3) (occurs(orderTakeout(pizza,pizzaPlace)),2)\n",
      "Answer: 2\n",
      "(occurs(drive(italianRest,home)),4) (occurs(drive(home,italianRest)),1) (occurs(eat(spaghetti)),3) (occurs(orderRestaurant(spaghetti,italianRest)),2)\n",
      "OPTIMUM FOUND\n",
      "Answer: 3\n",
      "(occurs(drive(frenchRest,home)),4) (occurs(drive(home,frenchRest)),1) (occurs(eat(crepes)),3) (occurs(orderRestaurant(crepes,frenchRest)),2)\n",
      "OPTIMUM FOUND *\n",
      "Answer: 4\n",
      "(occurs(drive(frenchRest,home)),4) (occurs(drive(home,frenchRest)),1) (occurs(eat(crepes)),3) (occurs(orderRestaurant(crepes,frenchRest)),2)\n",
      "OPTIMUM FOUND *\n",
      "Answer: 5\n",
      "(occurs(drive(frenchRest,home)),4) (occurs(drive(home,frenchRest)),1) (occurs(eat(crepes)),3) (occurs(orderRestaurant(crepes,frenchRest)),2)\n",
      "OPTIMUM FOUND *\n",
      "Answer: 6\n",
      "(occurs(drive(frenchRest,home)),4) (occurs(drive(home,frenchRest)),1) (occurs(eat(crepes)),3) (occurs(orderRestaurant(crepes,frenchRest)),2)\n",
      "OPTIMUM FOUND *\n",
      "Answer: 7\n",
      "(occurs(drive(frenchRest,home)),4) (occurs(drive(home,frenchRest)),1) (occurs(eat(crepes)),3) (occurs(orderRestaurant(crepes,frenchRest)),2)\n",
      "OPTIMUM FOUND *\n",
      "Answer: 8\n",
      "(occurs(drive(frenchRest,home)),4) (occurs(drive(home,frenchRest)),1) (occurs(eat(crepes)),3) (occurs(orderRestaurant(crepes,frenchRest)),2)\n",
      "OPTIMUM FOUND *\n",
      "Answer: 9\n",
      "(occurs(drive(frenchRest,home)),4) (occurs(drive(home,frenchRest)),1) (occurs(eat(crepes)),3) (occurs(orderRestaurant(crepes,frenchRest)),2)\n",
      "OPTIMUM FOUND *\n",
      "Answer: 10\n",
      "(occurs(drive(frenchRest,home)),4) (occurs(drive(home,frenchRest)),1) (occurs(eat(crepes)),3) (occurs(orderRestaurant(crepes,frenchRest)),2)\n",
      "OPTIMUM FOUND *\n",
      "Answer: 11\n",
      "(occurs(drive(frenchRest,home)),4) (occurs(drive(home,frenchRest)),1) (occurs(eat(crepes)),3) (occurs(orderRestaurant(crepes,frenchRest)),2)\n",
      "OPTIMUM FOUND *\n",
      "Answer: 12\n",
      "(occurs(drive(frenchRest,home)),4) (occurs(drive(home,frenchRest)),1) (occurs(eat(crepes)),3) (occurs(orderRestaurant(crepes,frenchRest)),2)\n",
      "OPTIMUM FOUND *\n",
      "Answer: 13\n",
      "(occurs(drive(frenchRest,home)),4) (occurs(drive(home,frenchRest)),1) (occurs(eat(crepes)),3) (occurs(orderRestaurant(crepes,frenchRest)),2)\n",
      "OPTIMUM FOUND *\n",
      "Answer: 14\n",
      "(occurs(drive(frenchRest,home)),4) (occurs(drive(home,frenchRest)),1) (occurs(eat(crepes)),3) (occurs(orderRestaurant(crepes,frenchRest)),2)\n",
      "OPTIMUM FOUND *\n",
      "Answer: 15\n",
      "(occurs(drive(frenchRest,home)),4) (occurs(drive(home,frenchRest)),1) (occurs(eat(crepes)),3) (occurs(orderRestaurant(crepes,frenchRest)),2)\n",
      "OPTIMUM FOUND *\n",
      "Answer: 16\n",
      "(occurs(drive(frenchRest,home)),4) (occurs(drive(home,frenchRest)),1) (occurs(eat(crepes)),3) (occurs(orderRestaurant(crepes,frenchRest)),2)\n",
      "OPTIMUM FOUND *\n",
      "Answer: 17\n",
      "(occurs(drive(frenchRest,home)),4) (occurs(drive(home,frenchRest)),1) (occurs(eat(crepes)),3) (occurs(orderRestaurant(crepes,frenchRest)),2)\n",
      "OPTIMUM FOUND *\n",
      "Answer: 18\n",
      "(occurs(drive(frenchRest,home)),4) (occurs(drive(home,frenchRest)),1) (occurs(eat(crepes)),3) (occurs(orderRestaurant(crepes,frenchRest)),2)\n",
      "OPTIMUM FOUND *\n",
      "Answer: 19\n",
      "(occurs(drive(frenchRest,home)),4) (occurs(drive(home,frenchRest)),1) (occurs(eat(crepes)),3) (occurs(orderRestaurant(crepes,frenchRest)),2)\n",
      "OPTIMUM FOUND *\n",
      "Answer: 20\n",
      "(occurs(drive(frenchRest,home)),4) (occurs(drive(home,frenchRest)),1) (occurs(eat(crepes)),3) (occurs(orderRestaurant(crepes,frenchRest)),2)\n",
      "OPTIMUM FOUND *\n",
      "Answer: 21\n",
      "(occurs(drive(home,frenchRest)),1) (occurs(walk(frenchRest,home)),4) (occurs(eat(crepes)),3) (occurs(orderRestaurant(crepes,frenchRest)),2)\n",
      "OPTIMUM FOUND *\n",
      "\n",
      "Models       : 21+\n",
      "  Optimum    : yes\n",
      "  Optimal    : 20\n",
      "Calls        : 4\n",
      "Time         : 0.914s (Solving: 0.01s 1st Model: 0.01s Unsat: 0.00s)\n",
      "CPU Time     : 0.828s\n"
     ]
    }
   ],
   "source": [
    "!clingo dinner/dinner.lp dinner/instances.lp dinner/auxiliary.lp dinner/pref-externals.lp  0 --output=reify | asprin - meta-telingo.lp dinner/pref.lp meta-telingo-extension.lp -c horizon=4 20"
   ]
  },
  {
   "cell_type": "markdown",
   "id": "6b5791f3",
   "metadata": {},
   "source": [
    "→ With `horizon=4`, Claire orders at the restaurant."
   ]
  },
  {
   "cell_type": "markdown",
   "id": "5259a5d8",
   "metadata": {},
   "source": [
    "**8. `always(¬(∃x∃y occ(drive(x, y)∧ isSnowing ))) (P8)`**"
   ]
  },
  {
   "cell_type": "markdown",
   "id": "b2bbedd7",
   "metadata": {},
   "source": [
    "→ *\"The TPF (P8) states that at no point does Claire drive while it is snowing\"* (p.1311)"
   ]
  },
  {
   "cell_type": "markdown",
   "id": "a750be75",
   "metadata": {},
   "source": [
    "We can translate this preference as: "
   ]
  },
  {
   "cell_type": "markdown",
   "id": "28e4fd24",
   "metadata": {},
   "source": [
    "In `dinner/auxiliary.lp`: \n",
    "    \n",
    "`occurs(drive) :- occurs(drive(X,Y)).`\n",
    "\n",
    "`always(p8_aux) :- initially, always(negation(and(occurs(drive), holds(isSnowing)))).`\n"
   ]
  },
  {
   "cell_type": "code",
   "execution_count": 39,
   "id": "e0febdad",
   "metadata": {},
   "outputs": [
    {
     "name": "stdout",
     "output_type": "stream",
     "text": [
      "Overwriting dinner/pref.lp\n"
     ]
    }
   ],
   "source": [
    "%%file dinner/pref.lp\n",
    "\n",
    "#optimize(p8).\n",
    "\n",
    "#preference(p8,more(cardinality)){\n",
    "   always(p8_aux)\n",
    "}."
   ]
  },
  {
   "cell_type": "markdown",
   "id": "784ac155",
   "metadata": {},
   "source": [
    "Without preference: "
   ]
  },
  {
   "cell_type": "code",
   "execution_count": 40,
   "id": "2f1c9bd6",
   "metadata": {},
   "outputs": [
    {
     "name": "stdout",
     "output_type": "stream",
     "text": [
      "clingo version 5.4.0\n",
      "Reading from - ...\n",
      "Solving...\n",
      "Answer: 1\n",
      "(occurs(orderTakeout(pizza,pizzaPlace)),1) (occurs(eat(pizza)),2) (occurs(walk(home,pizzaPlace)),3) (occurs(walk(pizzaPlace,home)),4)\n",
      "Answer: 2\n",
      "(occurs(orderTakeout(pizza,pizzaPlace)),1) (occurs(eat(pizza)),2) (occurs(walk(home,pizzaPlace)),3) (occurs(drive(pizzaPlace,home)),4)\n",
      "Answer: 3\n",
      "(holds(isSnowing),4) (occurs(orderTakeout(pizza,pizzaPlace)),1) (occurs(eat(pizza)),2) (occurs(walk(home,pizzaPlace)),3) (occurs(drive(pizzaPlace,home)),4)\n",
      "Answer: 4\n",
      "(holds(isSnowing),4) (holds(isSnowing),3) (occurs(orderTakeout(pizza,pizzaPlace)),1) (occurs(eat(pizza)),2) (occurs(walk(home,pizzaPlace)),3) (occurs(drive(pizzaPlace,home)),4)\n",
      "Answer: 5\n",
      "(holds(isSnowing),4) (holds(isSnowing),3) (holds(isSnowing),2) (occurs(orderTakeout(pizza,pizzaPlace)),1) (occurs(eat(pizza)),2) (occurs(walk(home,pizzaPlace)),3) (occurs(drive(pizzaPlace,home)),4)\n",
      "Answer: 6\n",
      "(holds(isSnowing),4) (holds(isSnowing),3) (holds(isSnowing),2) (holds(isSnowing),1) (occurs(orderTakeout(pizza,pizzaPlace)),1) (occurs(eat(pizza)),2) (occurs(walk(home,pizzaPlace)),3) (occurs(drive(pizzaPlace,home)),4)\n",
      "Answer: 7\n",
      "(holds(isSnowing),4) (holds(isSnowing),3) (holds(isSnowing),2) (holds(isSnowing),1) (holds(isSnowing),0) (occurs(orderTakeout(pizza,pizzaPlace)),1) (occurs(eat(pizza)),2) (occurs(walk(home,pizzaPlace)),3) (occurs(drive(pizzaPlace,home)),4)\n",
      "Answer: 8\n",
      "(holds(isSnowing),4) (occurs(orderTakeout(pizza,pizzaPlace)),1) (occurs(eat(pizza)),2) (occurs(walk(home,pizzaPlace)),3) (occurs(walk(pizzaPlace,home)),4)\n",
      "Answer: 9\n",
      "(holds(isSnowing),4) (holds(isSnowing),3) (occurs(orderTakeout(pizza,pizzaPlace)),1) (occurs(eat(pizza)),2) (occurs(walk(home,pizzaPlace)),3) (occurs(walk(pizzaPlace,home)),4)\n",
      "Answer: 10\n",
      "(holds(isSnowing),4) (holds(isSnowing),3) (holds(isSnowing),2) (occurs(orderTakeout(pizza,pizzaPlace)),1) (occurs(eat(pizza)),2) (occurs(walk(home,pizzaPlace)),3) (occurs(walk(pizzaPlace,home)),4)\n",
      "Answer: 11\n",
      "(holds(isSnowing),4) (holds(isSnowing),3) (holds(isSnowing),2) (holds(isSnowing),1) (occurs(orderTakeout(pizza,pizzaPlace)),1) (occurs(eat(pizza)),2) (occurs(walk(home,pizzaPlace)),3) (occurs(walk(pizzaPlace,home)),4)\n",
      "Answer: 12\n",
      "(holds(isSnowing),4) (holds(isSnowing),3) (holds(isSnowing),2) (holds(isSnowing),1) (holds(isSnowing),0) (occurs(orderTakeout(pizza,pizzaPlace)),1) (occurs(eat(pizza)),2) (occurs(walk(home,pizzaPlace)),3) (occurs(walk(pizzaPlace,home)),4)\n",
      "Answer: 13\n",
      "(occurs(orderTakeout(sweetsourpork,chineseRest)),1) (occurs(eat(sweetsourpork)),2) (occurs(walk(home,pizzaPlace)),3) (occurs(walk(pizzaPlace,home)),4)\n",
      "Answer: 14\n",
      "(occurs(orderTakeout(sweetsourpork,chineseRest)),1) (occurs(eat(sweetsourpork)),2) (occurs(walk(home,pizzaPlace)),3) (occurs(drive(pizzaPlace,home)),4)\n",
      "Answer: 15\n",
      "(holds(isSnowing),4) (occurs(orderTakeout(sweetsourpork,chineseRest)),1) (occurs(eat(sweetsourpork)),2) (occurs(walk(home,pizzaPlace)),3) (occurs(drive(pizzaPlace,home)),4)\n",
      "Answer: 16\n",
      "(holds(isSnowing),4) (holds(isSnowing),3) (occurs(orderTakeout(sweetsourpork,chineseRest)),1) (occurs(eat(sweetsourpork)),2) (occurs(walk(home,pizzaPlace)),3) (occurs(drive(pizzaPlace,home)),4)\n",
      "Answer: 17\n",
      "(holds(isSnowing),4) (holds(isSnowing),3) (holds(isSnowing),2) (occurs(orderTakeout(sweetsourpork,chineseRest)),1) (occurs(eat(sweetsourpork)),2) (occurs(walk(home,pizzaPlace)),3) (occurs(drive(pizzaPlace,home)),4)\n",
      "Answer: 18\n",
      "(holds(isSnowing),4) (holds(isSnowing),3) (holds(isSnowing),2) (holds(isSnowing),1) (occurs(orderTakeout(sweetsourpork,chineseRest)),1) (occurs(eat(sweetsourpork)),2) (occurs(walk(home,pizzaPlace)),3) (occurs(drive(pizzaPlace,home)),4)\n",
      "Answer: 19\n",
      "(holds(isSnowing),4) (holds(isSnowing),3) (holds(isSnowing),2) (holds(isSnowing),1) (holds(isSnowing),0) (occurs(orderTakeout(sweetsourpork,chineseRest)),1) (occurs(eat(sweetsourpork)),2) (occurs(walk(home,pizzaPlace)),3) (occurs(drive(pizzaPlace,home)),4)\n",
      "Answer: 20\n",
      "(holds(isSnowing),4) (occurs(orderTakeout(sweetsourpork,chineseRest)),1) (occurs(eat(sweetsourpork)),2) (occurs(walk(home,pizzaPlace)),3) (occurs(walk(pizzaPlace,home)),4)\n",
      "SATISFIABLE\n",
      "\n",
      "Models       : 20+\n",
      "Calls        : 1\n",
      "Time         : 0.369s (Solving: 0.00s 1st Model: 0.00s Unsat: 0.00s)\n",
      "CPU Time     : 0.344s\n"
     ]
    }
   ],
   "source": [
    "!clingo dinner/dinner_snow.lp dinner/instances.lp  0 --output=reify | clingo - meta-telingo.lp -c horizon=4 20"
   ]
  },
  {
   "cell_type": "markdown",
   "id": "b54f5feb",
   "metadata": {},
   "source": [
    "→ Claire drives in the snow, e.g.:\n",
    "\n",
    "`(holds(isSnowing),4) (occurs(orderTakeout(pizza,pizzaPlace)),1) (occurs(eat(pizza)),2) (occurs(walk(home,pizzaPlace)),3) (occurs(drive(pizzaPlace,home)),4)`"
   ]
  },
  {
   "cell_type": "markdown",
   "id": "fae6aabd",
   "metadata": {},
   "source": [
    "With preference: "
   ]
  },
  {
   "cell_type": "code",
   "execution_count": 41,
   "id": "de2649ea",
   "metadata": {},
   "outputs": [
    {
     "name": "stdout",
     "output_type": "stream",
     "text": [
      "asprin version 3.1.1\n",
      "Reading from - ...\n",
      "Solving...\n",
      "Answer: 1\n",
      "(occurs(cleanDishes),1) (occurs(cook(crepes)),4) (occurs(eat(pizza)),3) (occurs(orderTakeout(pizza,pizzaPlace)),2)\n",
      "OPTIMUM FOUND\n",
      "Answer: 2\n",
      "(occurs(drive(home,pizzaPlace)),1) (occurs(walk(pizzaPlace,home)),2) (occurs(cook(crepes)),3) (occurs(eat(crepes)),4)\n",
      "OPTIMUM FOUND *\n",
      "Answer: 3\n",
      "(holds(isSnowing),4) (occurs(drive(home,pizzaPlace)),1) (occurs(walk(pizzaPlace,home)),2) (occurs(cook(crepes)),3) (occurs(eat(crepes)),4)\n",
      "OPTIMUM FOUND *\n",
      "Answer: 4\n",
      "(holds(isSnowing),4) (holds(isSnowing),3) (occurs(drive(home,pizzaPlace)),1) (occurs(walk(pizzaPlace,home)),2) (occurs(cook(crepes)),3) (occurs(eat(crepes)),4)\n",
      "OPTIMUM FOUND *\n",
      "Answer: 5\n",
      "(occurs(drive(home,pizzaPlace)),1) (occurs(walk(pizzaPlace,home)),2) (occurs(cook(crepes)),3) (occurs(eat(crepes)),4)\n",
      "OPTIMUM FOUND *\n",
      "Answer: 6\n",
      "(holds(isSnowing),4) (occurs(drive(home,pizzaPlace)),1) (occurs(walk(pizzaPlace,home)),2) (occurs(cook(crepes)),3) (occurs(eat(crepes)),4)\n",
      "OPTIMUM FOUND *\n",
      "Answer: 7\n",
      "(holds(isSnowing),4) (holds(isSnowing),3) (occurs(drive(home,pizzaPlace)),1) (occurs(walk(pizzaPlace,home)),2) (occurs(cook(crepes)),3) (occurs(eat(crepes)),4)\n",
      "OPTIMUM FOUND *\n",
      "Answer: 8\n",
      "(holds(isSnowing),4) (holds(isSnowing),3) (holds(isSnowing),2) (occurs(drive(home,pizzaPlace)),1) (occurs(walk(pizzaPlace,home)),2) (occurs(cook(crepes)),3) (occurs(eat(crepes)),4)\n",
      "OPTIMUM FOUND *\n",
      "Answer: 9\n",
      "(holds(isSnowing),4) (holds(isSnowing),3) (holds(isSnowing),2) (occurs(drive(home,pizzaPlace)),1) (occurs(walk(pizzaPlace,home)),2) (occurs(cook(crepes)),3) (occurs(eat(crepes)),4)\n",
      "OPTIMUM FOUND *\n",
      "Answer: 10\n",
      "(occurs(drive(pizzaPlace,home)),2) (occurs(drive(home,pizzaPlace)),1) (occurs(cook(crepes)),3) (occurs(eat(crepes)),4)\n",
      "OPTIMUM FOUND *\n",
      "Answer: 11\n",
      "(holds(isSnowing),4) (occurs(drive(pizzaPlace,home)),2) (occurs(drive(home,pizzaPlace)),1) (occurs(cook(crepes)),3) (occurs(eat(crepes)),4)\n",
      "OPTIMUM FOUND *\n",
      "Answer: 12\n",
      "(holds(isSnowing),4) (holds(isSnowing),3) (occurs(drive(pizzaPlace,home)),2) (occurs(drive(home,pizzaPlace)),1) (occurs(cook(crepes)),3) (occurs(eat(crepes)),4)\n",
      "OPTIMUM FOUND *\n",
      "Answer: 13\n",
      "(occurs(drive(pizzaPlace,home)),2) (occurs(drive(home,pizzaPlace)),1) (occurs(cook(crepes)),3) (occurs(eat(crepes)),4)\n",
      "OPTIMUM FOUND *\n",
      "Answer: 14\n",
      "(holds(isSnowing),4) (occurs(drive(pizzaPlace,home)),2) (occurs(drive(home,pizzaPlace)),1) (occurs(cook(crepes)),3) (occurs(eat(crepes)),4)\n",
      "OPTIMUM FOUND *\n",
      "Answer: 15\n",
      "(holds(isSnowing),4) (holds(isSnowing),3) (occurs(drive(pizzaPlace,home)),2) (occurs(drive(home,pizzaPlace)),1) (occurs(cook(crepes)),3) (occurs(eat(crepes)),4)\n",
      "OPTIMUM FOUND *\n",
      "Answer: 16\n",
      "(occurs(drive(home,pizzaPlace)),1) (occurs(walk(pizzaPlace,home)),2) (occurs(eat(pizza)),4) (occurs(orderTakeout(pizza,pizzaPlace)),3)\n",
      "OPTIMUM FOUND *\n",
      "Answer: 17\n",
      "(holds(isSnowing),4) (occurs(drive(home,pizzaPlace)),1) (occurs(walk(pizzaPlace,home)),2) (occurs(eat(pizza)),4) (occurs(orderTakeout(pizza,pizzaPlace)),3)\n",
      "OPTIMUM FOUND *\n",
      "Answer: 18\n",
      "(holds(isSnowing),4) (holds(isSnowing),3) (occurs(drive(home,pizzaPlace)),1) (occurs(walk(pizzaPlace,home)),2) (occurs(eat(pizza)),4) (occurs(orderTakeout(pizza,pizzaPlace)),3)\n",
      "OPTIMUM FOUND *\n",
      "Answer: 19\n",
      "(holds(isSnowing),4) (holds(isSnowing),3) (holds(isSnowing),2) (occurs(drive(home,pizzaPlace)),1) (occurs(walk(pizzaPlace,home)),2) (occurs(eat(pizza)),4) (occurs(orderTakeout(pizza,pizzaPlace)),3)\n",
      "OPTIMUM FOUND *\n",
      "Answer: 20\n",
      "(occurs(drive(pizzaPlace,home)),2) (occurs(drive(home,pizzaPlace)),1) (occurs(eat(pizza)),4) (occurs(orderTakeout(pizza,pizzaPlace)),3)\n",
      "OPTIMUM FOUND *\n",
      "\n",
      "Models       : 20+\n",
      "  Optimum    : yes\n",
      "  Optimal    : 20\n",
      "Calls        : 3\n",
      "Time         : 0.920s (Solving: 0.00s 1st Model: 0.00s Unsat: 0.00s)\n",
      "CPU Time     : 0.891s\n"
     ]
    }
   ],
   "source": [
    "!clingo dinner/dinner_snow.lp dinner/instances.lp dinner/auxiliary.lp dinner/pref-externals.lp  0 --output=reify | asprin - meta-telingo.lp dinner/pref.lp meta-telingo-extension.lp -c horizon=4 20"
   ]
  },
  {
   "cell_type": "markdown",
   "id": "d96485fe",
   "metadata": {},
   "source": [
    "→ Claire never drives in the snow."
   ]
  },
  {
   "cell_type": "markdown",
   "id": "48520d2e",
   "metadata": {},
   "source": [
    "**9. `always(¬(∃x(occ(eat(x))∧ chinese(x))))(P9)`**"
   ]
  },
  {
   "cell_type": "markdown",
   "id": "93231723",
   "metadata": {},
   "source": [
    "→ *\"Finally (P9) tells us that Claire never eats any Chinese food.\"* (p.1311)"
   ]
  },
  {
   "cell_type": "markdown",
   "id": "90f289ca",
   "metadata": {},
   "source": [
    "In `dinner/auxiliary.lp`: \n",
    "    \n",
    "`occurs(eatChinese) :- occurs(eat(X)), chinese(X).`\n",
    "\n",
    "`always(p9_aux) :- initially, always(negation(occurs(eatChinese))).`\n"
   ]
  },
  {
   "cell_type": "code",
   "execution_count": 42,
   "id": "452250ae",
   "metadata": {},
   "outputs": [
    {
     "name": "stdout",
     "output_type": "stream",
     "text": [
      "Overwriting dinner/pref.lp\n"
     ]
    }
   ],
   "source": [
    "%%file dinner/pref.lp\n",
    "\n",
    "#optimize(p9).\n",
    "\n",
    "#preference(p9,more(cardinality)){\n",
    "   always(p9_aux)\n",
    "}."
   ]
  },
  {
   "cell_type": "code",
   "execution_count": 43,
   "id": "bb2f3e56",
   "metadata": {},
   "outputs": [
    {
     "name": "stdout",
     "output_type": "stream",
     "text": [
      "asprin version 3.1.1\n",
      "Reading from - ...\n",
      "Solving...\n",
      "Answer: 1\n",
      "(occurs(eat(pizza)),2) (occurs(orderTakeout(pizza,pizzaPlace)),1)\n",
      "OPTIMUM FOUND\n",
      "Answer: 2\n",
      "(occurs(eat(pizza)),2) (occurs(orderTakeout(pizza,pizzaPlace)),1)\n",
      "OPTIMUM FOUND *\n",
      "Answer: 3\n",
      "(occurs(eat(pizza)),2) (occurs(orderTakeout(pizza,pizzaPlace)),1)\n",
      "OPTIMUM FOUND *\n",
      "Answer: 4\n",
      "(occurs(eat(pizza)),2) (occurs(orderTakeout(pizza,pizzaPlace)),1)\n",
      "OPTIMUM FOUND *\n",
      "Answer: 5\n",
      "(occurs(eat(pizza)),2) (occurs(orderTakeout(pizza,pizzaPlace)),1)\n",
      "OPTIMUM FOUND *\n",
      "Answer: 6\n",
      "(occurs(eat(pizza)),2) (occurs(orderTakeout(pizza,pizzaPlace)),1)\n",
      "OPTIMUM FOUND *\n",
      "Answer: 7\n",
      "(occurs(eat(pizza)),2) (occurs(orderTakeout(pizza,pizzaPlace)),1)\n",
      "OPTIMUM FOUND *\n",
      "Answer: 8\n",
      "(occurs(eat(pizza)),2) (occurs(orderTakeout(pizza,pizzaPlace)),1)\n",
      "OPTIMUM FOUND *\n",
      "Answer: 9\n",
      "(occurs(cook(crepes)),1) (occurs(eat(crepes)),2)\n",
      "OPTIMUM FOUND *\n",
      "Answer: 10\n",
      "(occurs(cook(crepes)),1) (occurs(eat(crepes)),2)\n",
      "OPTIMUM FOUND *\n",
      "Answer: 11\n",
      "(occurs(cook(crepes)),1) (occurs(eat(crepes)),2)\n",
      "OPTIMUM FOUND *\n",
      "Answer: 12\n",
      "(occurs(cook(crepes)),1) (occurs(eat(crepes)),2)\n",
      "OPTIMUM FOUND *\n",
      "Answer: 13\n",
      "(occurs(cook(crepes)),1) (occurs(eat(crepes)),2)\n",
      "OPTIMUM FOUND *\n",
      "Answer: 14\n",
      "(occurs(cook(crepes)),1) (occurs(eat(crepes)),2)\n",
      "OPTIMUM FOUND *\n",
      "Answer: 15\n",
      "(occurs(cook(crepes)),1) (occurs(eat(crepes)),2)\n",
      "OPTIMUM FOUND *\n",
      "Answer: 16\n",
      "(occurs(cook(crepes)),1) (occurs(eat(crepes)),2)\n",
      "OPTIMUM FOUND *\n",
      "\n",
      "Models       : 16\n",
      "  Optimum    : yes\n",
      "  Optimal    : 16\n",
      "Calls        : 4\n",
      "Time         : 3.052s (Solving: 0.00s 1st Model: 0.00s Unsat: 0.00s)\n",
      "CPU Time     : 2.953s\n"
     ]
    }
   ],
   "source": [
    "!clingo dinner/dinner.lp dinner/instances.lp dinner/auxiliary.lp dinner/pref-externals.lp  0 --output=reify | asprin - meta-telingo.lp dinner/pref.lp meta-telingo-extension.lp -c horizon=2 0"
   ]
  },
  {
   "cell_type": "markdown",
   "id": "6331bc76",
   "metadata": {},
   "source": [
    "→ She never eats chinese food"
   ]
  },
  {
   "cell_type": "markdown",
   "id": "94c694bd",
   "metadata": {},
   "source": [
    "### Atomic Preference Formula (APF):"
   ]
  },
  {
   "cell_type": "markdown",
   "id": "48b56724",
   "metadata": {},
   "source": [
    "*\"An atomic preference formula expresses a preference over alternatives. Each of the alternatives in the APF is annotated with a value from a totally ordered set V which describes how far that alternative is from the ideal. The lower the value, the closer to the ideal, the more satisfied the user. In what follows, we let V = [0, 1] for parsimony, but we could just as easily choose a strictly qualitative set like {best < good < indifferent < bad < worst} [...] To reiterate, an atomic preference formula represents a preference over alternatives ϕi . We wish to satisfy the TPF ϕi with the lowest index i. Consequently, if Claire eats pizza and crêpes, this is no better nor  worse with respect to (P10) than situations in which Claire eats only pizza, and it is strictly better than situations in which she just eats crêpes. Note that there is always implicitly one last option, which is to satisfy none of the ϕi , and this option is the least preferred\"* (p. 1312)"
   ]
  },
  {
   "cell_type": "markdown",
   "id": "4f7c3e01",
   "metadata": {},
   "source": [
    "In ASP, we can translate these APFs by minimizing weight functions."
   ]
  },
  {
   "cell_type": "markdown",
   "id": "14d59665",
   "metadata": {},
   "source": [
    "**10. `occ'(eat(spaghetti) [0] >> occ'(eat(pizza)[0.4] >> occ'(eat(crêpes))[0.5] (P10)`**"
   ]
  },
  {
   "cell_type": "markdown",
   "id": "48cf7159",
   "metadata": {},
   "source": [
    " → *\"From the values that Claire assigned to the various options, we can see that she has a strong preference for spaghetti but finds pizza and crêpes about equally appealing.\"*(p. 1312)"
   ]
  },
  {
   "cell_type": "markdown",
   "id": "b80a0107",
   "metadata": {},
   "source": [
    "We can translate this as: "
   ]
  },
  {
   "cell_type": "code",
   "execution_count": 44,
   "id": "6f8ba536",
   "metadata": {},
   "outputs": [
    {
     "name": "stdout",
     "output_type": "stream",
     "text": [
      "Overwriting dinner/pref.lp\n"
     ]
    }
   ],
   "source": [
    "%%file dinner/pref.lp\n",
    "#optimize(p10).\n",
    "\n",
    "assigned_weight(P, W) :- assigned_weight(P, X, W), #false: assigned_weight(P, Y, Z), Y < X.\n",
    "\n",
    "#preference(p10, less(weight)) {\n",
    "    W :: assigned_weight(p10, W)\n",
    "}.\n",
    "    \n",
    "assigned_weight(p10, 1, 0) :- eventually(occurs(eat(spaghetti))).\n",
    "assigned_weight(p10, 2, 4) :- eventually(occurs(eat(pizza))).\n",
    "assigned_weight(p10, 3, 5) :-  eventually(occurs(eat(crepes))).\n",
    "assigned_weight(p10, 4, 10) :-  and(negation(eventually(occurs(eat(crepes)))),\n",
    "                            and(negation(eventually(occurs(eat(spaghetti)))), negation(eventually(occurs(eat(pizza)))))).\n",
    "#show assigned_weight/2. "
   ]
  },
  {
   "cell_type": "code",
   "execution_count": 45,
   "id": "e61cded7",
   "metadata": {},
   "outputs": [
    {
     "name": "stdout",
     "output_type": "stream",
     "text": [
      "asprin version 3.1.1\n",
      "Reading from - ...\n",
      "Solving...\n",
      "Answer: 1\n",
      "assigned_weight(p10,4) (occurs(drive(italianRest,home)),3) (occurs(drive(home,italianRest)),2) (occurs(eat(pizza)),4) (occurs(orderTakeout(pizza,pizzaPlace)),1)\n",
      "Answer: 2\n",
      "assigned_weight(p10,0) (occurs(walk(italianRest,home)),4) (occurs(walk(home,italianRest)),1) (occurs(eat(spaghetti)),3) (occurs(orderRestaurant(spaghetti,italianRest)),2)\n",
      "OPTIMUM FOUND\n",
      "Answer: 3\n",
      "assigned_weight(p10,0) (occurs(walk(italianRest,home)),4) (occurs(walk(home,italianRest)),1) (occurs(eat(spaghetti)),3) (occurs(orderRestaurant(spaghetti,italianRest)),2)\n",
      "OPTIMUM FOUND *\n",
      "Answer: 4\n",
      "assigned_weight(p10,0) (occurs(walk(italianRest,home)),4) (occurs(walk(home,italianRest)),1) (occurs(eat(spaghetti)),3) (occurs(orderRestaurant(spaghetti,italianRest)),2)\n",
      "OPTIMUM FOUND *\n",
      "Answer: 5\n",
      "assigned_weight(p10,0) (occurs(walk(italianRest,home)),4) (occurs(walk(home,italianRest)),1) (occurs(eat(spaghetti)),3) (occurs(orderRestaurant(spaghetti,italianRest)),2)\n",
      "OPTIMUM FOUND *\n",
      "Answer: 6\n",
      "assigned_weight(p10,0) (occurs(walk(italianRest,home)),4) (occurs(walk(home,italianRest)),1) (occurs(eat(spaghetti)),3) (occurs(orderRestaurant(spaghetti,italianRest)),2)\n",
      "OPTIMUM FOUND *\n",
      "Answer: 7\n",
      "assigned_weight(p10,0) (occurs(walk(italianRest,home)),4) (occurs(walk(home,italianRest)),1) (occurs(eat(spaghetti)),3) (occurs(orderRestaurant(spaghetti,italianRest)),2)\n",
      "OPTIMUM FOUND *\n",
      "Answer: 8\n",
      "assigned_weight(p10,0) (occurs(walk(italianRest,home)),4) (occurs(walk(home,italianRest)),1) (occurs(eat(spaghetti)),3) (occurs(orderRestaurant(spaghetti,italianRest)),2)\n",
      "OPTIMUM FOUND *\n",
      "Answer: 9\n",
      "assigned_weight(p10,0) (occurs(walk(italianRest,home)),4) (occurs(walk(home,italianRest)),1) (occurs(eat(spaghetti)),3) (occurs(orderRestaurant(spaghetti,italianRest)),2)\n",
      "OPTIMUM FOUND *\n",
      "Answer: 10\n",
      "assigned_weight(p10,0) (occurs(walk(italianRest,home)),4) (occurs(walk(home,italianRest)),1) (occurs(eat(spaghetti)),3) (occurs(orderRestaurant(spaghetti,italianRest)),2)\n",
      "OPTIMUM FOUND *\n",
      "Answer: 11\n",
      "assigned_weight(p10,0) (occurs(walk(italianRest,home)),4) (occurs(walk(home,italianRest)),1) (occurs(eat(spaghetti)),3) (occurs(orderRestaurant(spaghetti,italianRest)),2)\n",
      "OPTIMUM FOUND *\n",
      "Answer: 12\n",
      "assigned_weight(p10,0) (occurs(walk(italianRest,home)),4) (occurs(walk(home,italianRest)),1) (occurs(eat(spaghetti)),3) (occurs(orderRestaurant(spaghetti,italianRest)),2)\n",
      "OPTIMUM FOUND *\n",
      "Answer: 13\n",
      "assigned_weight(p10,0) (occurs(walk(italianRest,home)),4) (occurs(walk(home,italianRest)),1) (occurs(eat(spaghetti)),3) (occurs(orderRestaurant(spaghetti,italianRest)),2)\n",
      "OPTIMUM FOUND *\n",
      "Answer: 14\n",
      "assigned_weight(p10,0) (occurs(walk(italianRest,home)),4) (occurs(walk(home,italianRest)),1) (occurs(eat(spaghetti)),3) (occurs(orderRestaurant(spaghetti,italianRest)),2)\n",
      "OPTIMUM FOUND *\n",
      "Answer: 15\n",
      "assigned_weight(p10,0) (occurs(walk(italianRest,home)),4) (occurs(walk(home,italianRest)),1) (occurs(eat(spaghetti)),3) (occurs(orderRestaurant(spaghetti,italianRest)),2)\n",
      "OPTIMUM FOUND *\n",
      "Answer: 16\n",
      "assigned_weight(p10,0) (occurs(walk(italianRest,home)),4) (occurs(walk(home,italianRest)),1) (occurs(eat(spaghetti)),3) (occurs(orderRestaurant(spaghetti,italianRest)),2)\n",
      "OPTIMUM FOUND *\n",
      "Answer: 17\n",
      "assigned_weight(p10,0) (occurs(walk(italianRest,home)),4) (occurs(walk(home,italianRest)),1) (occurs(eat(spaghetti)),3) (occurs(orderRestaurant(spaghetti,italianRest)),2)\n",
      "OPTIMUM FOUND *\n",
      "Answer: 18\n",
      "assigned_weight(p10,0) (occurs(walk(italianRest,home)),4) (occurs(walk(home,italianRest)),1) (occurs(eat(spaghetti)),3) (occurs(orderRestaurant(spaghetti,italianRest)),2)\n",
      "OPTIMUM FOUND *\n",
      "Answer: 19\n",
      "assigned_weight(p10,0) (occurs(walk(italianRest,home)),4) (occurs(walk(home,italianRest)),1) (occurs(eat(spaghetti)),3) (occurs(orderRestaurant(spaghetti,italianRest)),2)\n",
      "OPTIMUM FOUND *\n",
      "Answer: 20\n",
      "assigned_weight(p10,0) (occurs(drive(italianRest,home)),4) (occurs(walk(home,italianRest)),1) (occurs(eat(spaghetti)),3) (occurs(orderRestaurant(spaghetti,italianRest)),2)\n",
      "OPTIMUM FOUND *\n",
      "Answer: 21\n",
      "assigned_weight(p10,0) (occurs(drive(italianRest,home)),4) (occurs(walk(home,italianRest)),1) (occurs(eat(spaghetti)),3) (occurs(orderRestaurant(spaghetti,italianRest)),2)\n",
      "OPTIMUM FOUND *\n",
      "\n",
      "Models       : 21+\n",
      "  Optimum    : yes\n",
      "  Optimal    : 20\n",
      "Calls        : 4\n",
      "Time         : 0.902s (Solving: 0.02s 1st Model: 0.02s Unsat: 0.00s)\n",
      "CPU Time     : 0.812s\n"
     ]
    }
   ],
   "source": [
    "!clingo dinner/dinner.lp dinner/instances.lp dinner/auxiliary.lp dinner/pref-externals.lp  0 --output=reify | asprin - meta-telingo.lp dinner/pref.lp meta-telingo-extension.lp -c horizon=4 20"
   ]
  },
  {
   "cell_type": "markdown",
   "id": "e5bc93d3",
   "metadata": {},
   "source": [
    " → Answer sets containing `occurs(eat(spaghetti))` are preferred."
   ]
  },
  {
   "cell_type": "markdown",
   "id": "68859fac",
   "metadata": {},
   "source": [
    "What if eating spaghetti is never possible?"
   ]
  },
  {
   "cell_type": "code",
   "execution_count": 47,
   "id": "6ab298e7",
   "metadata": {},
   "outputs": [
    {
     "name": "stdout",
     "output_type": "stream",
     "text": [
      "Overwriting dinner/no-spaghetti.lp\n"
     ]
    }
   ],
   "source": [
    "%%file dinner/no-spaghetti.lp\n",
    "not eventually(occurs(eat(spaghetti)))."
   ]
  },
  {
   "cell_type": "code",
   "execution_count": 48,
   "id": "10e95ebb",
   "metadata": {},
   "outputs": [
    {
     "name": "stdout",
     "output_type": "stream",
     "text": [
      "asprin version 3.1.1\n",
      "Reading from - ...\n",
      "Solving...\n",
      "Answer: 1\n",
      "assigned_weight(p10,4) (occurs(cook(crepes)),4) (occurs(eat(pizza)),2) (occurs(orderTakeout(pizza,pizzaPlace)),1)\n",
      "OPTIMUM FOUND\n",
      "Answer: 2\n",
      "assigned_weight(p10,4) (occurs(walk(chineseRest,home)),2) (occurs(walk(home,chineseRest)),1) (occurs(eat(pizza)),4) (occurs(orderTakeout(pizza,pizzaPlace)),3)\n",
      "OPTIMUM FOUND *\n",
      "Answer: 3\n",
      "assigned_weight(p10,4) (occurs(walk(chineseRest,home)),2) (occurs(walk(home,chineseRest)),1) (occurs(eat(pizza)),4) (occurs(orderTakeout(pizza,pizzaPlace)),3)\n",
      "OPTIMUM FOUND *\n",
      "Answer: 4\n",
      "assigned_weight(p10,4) (occurs(walk(chineseRest,home)),2) (occurs(walk(home,chineseRest)),1) (occurs(eat(pizza)),4) (occurs(orderTakeout(pizza,pizzaPlace)),3)\n",
      "OPTIMUM FOUND *\n",
      "Answer: 5\n",
      "assigned_weight(p10,4) (occurs(walk(chineseRest,home)),2) (occurs(walk(home,chineseRest)),1) (occurs(eat(pizza)),4) (occurs(orderTakeout(pizza,pizzaPlace)),3)\n",
      "OPTIMUM FOUND *\n",
      "Answer: 6\n",
      "assigned_weight(p10,4) (occurs(walk(chineseRest,home)),2) (occurs(walk(home,chineseRest)),1) (occurs(eat(pizza)),4) (occurs(orderTakeout(pizza,pizzaPlace)),3)\n",
      "OPTIMUM FOUND *\n",
      "Answer: 7\n",
      "assigned_weight(p10,4) (occurs(walk(chineseRest,home)),2) (occurs(walk(home,chineseRest)),1) (occurs(eat(pizza)),4) (occurs(orderTakeout(pizza,pizzaPlace)),3)\n",
      "OPTIMUM FOUND *\n",
      "Answer: 8\n",
      "assigned_weight(p10,4) (occurs(walk(chineseRest,home)),2) (occurs(walk(home,chineseRest)),1) (occurs(eat(pizza)),4) (occurs(orderTakeout(pizza,pizzaPlace)),3)\n",
      "OPTIMUM FOUND *\n",
      "Answer: 9\n",
      "assigned_weight(p10,4) (occurs(walk(chineseRest,home)),2) (occurs(walk(home,chineseRest)),1) (occurs(eat(pizza)),4) (occurs(orderTakeout(pizza,pizzaPlace)),3)\n",
      "OPTIMUM FOUND *\n",
      "Answer: 10\n",
      "assigned_weight(p10,4) (occurs(walk(chineseRest,home)),2) (occurs(walk(home,chineseRest)),1) (occurs(eat(pizza)),4) (occurs(orderTakeout(pizza,pizzaPlace)),3)\n",
      "OPTIMUM FOUND *\n",
      "Answer: 11\n",
      "assigned_weight(p10,4) (occurs(walk(chineseRest,home)),2) (occurs(walk(home,chineseRest)),1) (occurs(eat(pizza)),4) (occurs(orderTakeout(pizza,pizzaPlace)),3)\n",
      "OPTIMUM FOUND *\n",
      "Answer: 12\n",
      "assigned_weight(p10,4) (occurs(walk(chineseRest,home)),2) (occurs(walk(home,chineseRest)),1) (occurs(eat(pizza)),4) (occurs(orderTakeout(pizza,pizzaPlace)),3)\n",
      "OPTIMUM FOUND *\n",
      "Answer: 13\n",
      "assigned_weight(p10,4) (occurs(walk(chineseRest,home)),2) (occurs(walk(home,chineseRest)),1) (occurs(eat(pizza)),4) (occurs(orderTakeout(pizza,pizzaPlace)),3)\n",
      "OPTIMUM FOUND *\n",
      "Answer: 14\n",
      "assigned_weight(p10,4) (occurs(drive(chineseRest,home)),2) (occurs(walk(home,chineseRest)),1) (occurs(eat(pizza)),4) (occurs(orderTakeout(pizza,pizzaPlace)),3)\n",
      "OPTIMUM FOUND *\n",
      "Answer: 15\n",
      "assigned_weight(p10,4) (occurs(drive(chineseRest,home)),2) (occurs(walk(home,chineseRest)),1) (occurs(eat(pizza)),4) (occurs(orderTakeout(pizza,pizzaPlace)),3)\n",
      "OPTIMUM FOUND *\n",
      "Answer: 16\n",
      "assigned_weight(p10,4) (occurs(drive(chineseRest,home)),2) (occurs(walk(home,chineseRest)),1) (occurs(eat(pizza)),4) (occurs(orderTakeout(pizza,pizzaPlace)),3)\n",
      "OPTIMUM FOUND *\n",
      "Answer: 17\n",
      "assigned_weight(p10,4) (occurs(drive(chineseRest,home)),2) (occurs(walk(home,chineseRest)),1) (occurs(eat(pizza)),4) (occurs(orderTakeout(pizza,pizzaPlace)),3)\n",
      "OPTIMUM FOUND *\n",
      "Answer: 18\n",
      "assigned_weight(p10,4) (occurs(drive(chineseRest,home)),2) (occurs(walk(home,chineseRest)),1) (occurs(eat(pizza)),4) (occurs(orderTakeout(pizza,pizzaPlace)),3)\n",
      "OPTIMUM FOUND *\n",
      "Answer: 19\n",
      "assigned_weight(p10,4) (occurs(drive(chineseRest,home)),2) (occurs(walk(home,chineseRest)),1) (occurs(eat(pizza)),4) (occurs(orderTakeout(pizza,pizzaPlace)),3)\n",
      "OPTIMUM FOUND *\n",
      "Answer: 20\n",
      "assigned_weight(p10,4) (occurs(drive(chineseRest,home)),2) (occurs(walk(home,chineseRest)),1) (occurs(eat(pizza)),4) (occurs(orderTakeout(pizza,pizzaPlace)),3)\n",
      "OPTIMUM FOUND *\n",
      "\n",
      "Models       : 20+\n",
      "  Optimum    : yes\n",
      "  Optimal    : 20\n",
      "Calls        : 3\n",
      "Time         : 0.874s (Solving: 0.00s 1st Model: 0.00s Unsat: 0.00s)\n",
      "CPU Time     : 0.812s\n"
     ]
    }
   ],
   "source": [
    "!clingo dinner/dinner.lp dinner/no-spaghetti.lp dinner/instances.lp dinner/auxiliary.lp dinner/pref-externals.lp  0 --output=reify | asprin - meta-telingo.lp dinner/pref.lp meta-telingo-extension.lp -c horizon=4 20"
   ]
  },
  {
   "cell_type": "markdown",
   "id": "2af7243e",
   "metadata": {},
   "source": [
    " → If `occurs(eat(spaghetti))` is not possible, the next preferred answer sets contain `occurs(eat(pizza))`, and so on. "
   ]
  },
  {
   "cell_type": "markdown",
   "id": "d39f6c5b",
   "metadata": {},
   "source": [
    "**11. `P6[0] >> P5 ∧ P4[0.2] >> P7[0.7] >> P5 ∧ ¬P4[0.9]` (P11)**"
   ]
  },
  {
   "cell_type": "markdown",
   "id": "42fa861a",
   "metadata": {},
   "source": [
    " → *\"This preference tells us that Claire’s first choice is take-out, followed by cooking if it doesn’t involve going out to get groceries, followed by going to a restaurant, and lastly cooking when it requires leaving her home. We can see here that Claire really prefers options that don’t involve going out.\"*(p. 1312)"
   ]
  },
  {
   "cell_type": "markdown",
   "id": "c87de1ad",
   "metadata": {},
   "source": [
    "We can translate this preference as: "
   ]
  },
  {
   "cell_type": "code",
   "execution_count": 49,
   "id": "4f8245c6",
   "metadata": {},
   "outputs": [
    {
     "name": "stdout",
     "output_type": "stream",
     "text": [
      "Overwriting dinner/pref.lp\n"
     ]
    }
   ],
   "source": [
    "%%file dinner/pref.lp\n",
    "#optimize(p11).\n",
    "\n",
    "assigned_weight(P, W) :- assigned_weight(P, X, W), #false: assigned_weight(P, Y, Z), Y < X.\n",
    "\n",
    "#preference(p11, less(weight)) {\n",
    "    W :: assigned_weight(p11, W)\n",
    "}.\n",
    "    \n",
    "assigned_weight(p11, 1, 0) :- eventually(p6_aux).\n",
    "assigned_weight(p11, 2, 2) :- and(eventually(p5_aux), always(p4_aux)).\n",
    "assigned_weight(p11, 3, 7) :- eventually(p7_aux).\n",
    "assigned_weight(p11, 4, 9) :- and(eventually(p5_aux), negation(always(p4_aux))).\n",
    "\n",
    "#show assigned_weight/2. "
   ]
  },
  {
   "cell_type": "code",
   "execution_count": 50,
   "id": "a2c4f1ba",
   "metadata": {},
   "outputs": [
    {
     "name": "stdout",
     "output_type": "stream",
     "text": [
      "asprin version 3.1.1\n",
      "Reading from - ...\n",
      "Solving...\n",
      "Answer: 1\n",
      "assigned_weight(p11,2) (occurs(cook(crepes)),1) (occurs(eat(crepes)),2)\n",
      "Answer: 2\n",
      "assigned_weight(p11,0) (occurs(eat(pizza)),2) (occurs(orderTakeout(pizza,pizzaPlace)),1)\n",
      "OPTIMUM FOUND\n",
      "Answer: 3\n",
      "assigned_weight(p11,0) (occurs(eat(pizza)),2) (occurs(orderTakeout(pizza,pizzaPlace)),1)\n",
      "OPTIMUM FOUND *\n",
      "Answer: 4\n",
      "assigned_weight(p11,0) (occurs(eat(pizza)),2) (occurs(orderTakeout(pizza,pizzaPlace)),1)\n",
      "OPTIMUM FOUND *\n",
      "Answer: 5\n",
      "assigned_weight(p11,0) (occurs(eat(pizza)),2) (occurs(orderTakeout(pizza,pizzaPlace)),1)\n",
      "OPTIMUM FOUND *\n",
      "Answer: 6\n",
      "assigned_weight(p11,0) (occurs(eat(pizza)),2) (occurs(orderTakeout(pizza,pizzaPlace)),1)\n",
      "OPTIMUM FOUND *\n",
      "Answer: 7\n",
      "assigned_weight(p11,0) (occurs(eat(pizza)),2) (occurs(orderTakeout(pizza,pizzaPlace)),1)\n",
      "OPTIMUM FOUND *\n",
      "Answer: 8\n",
      "assigned_weight(p11,0) (occurs(eat(pizza)),2) (occurs(orderTakeout(pizza,pizzaPlace)),1)\n",
      "OPTIMUM FOUND *\n",
      "Answer: 9\n",
      "assigned_weight(p11,0) (occurs(eat(pizza)),2) (occurs(orderTakeout(pizza,pizzaPlace)),1)\n",
      "OPTIMUM FOUND *\n",
      "Answer: 10\n",
      "assigned_weight(p11,0) (occurs(eat(sweetsourpork)),2) (occurs(orderTakeout(sweetsourpork,chineseRest)),1)\n",
      "OPTIMUM FOUND *\n",
      "Answer: 11\n",
      "assigned_weight(p11,0) (occurs(eat(sweetsourpork)),2) (occurs(orderTakeout(sweetsourpork,chineseRest)),1)\n",
      "OPTIMUM FOUND *\n",
      "Answer: 12\n",
      "assigned_weight(p11,0) (occurs(eat(sweetsourpork)),2) (occurs(orderTakeout(sweetsourpork,chineseRest)),1)\n",
      "OPTIMUM FOUND *\n",
      "Answer: 13\n",
      "assigned_weight(p11,0) (occurs(eat(sweetsourpork)),2) (occurs(orderTakeout(sweetsourpork,chineseRest)),1)\n",
      "OPTIMUM FOUND *\n",
      "Answer: 14\n",
      "assigned_weight(p11,0) (occurs(eat(sweetsourpork)),2) (occurs(orderTakeout(sweetsourpork,chineseRest)),1)\n",
      "OPTIMUM FOUND *\n",
      "Answer: 15\n",
      "assigned_weight(p11,0) (occurs(eat(sweetsourpork)),2) (occurs(orderTakeout(sweetsourpork,chineseRest)),1)\n",
      "OPTIMUM FOUND *\n",
      "Answer: 16\n",
      "assigned_weight(p11,0) (occurs(eat(sweetsourpork)),2) (occurs(orderTakeout(sweetsourpork,chineseRest)),1)\n",
      "OPTIMUM FOUND *\n",
      "Answer: 17\n",
      "assigned_weight(p11,0) (occurs(eat(sweetsourpork)),2) (occurs(orderTakeout(sweetsourpork,chineseRest)),1)\n",
      "OPTIMUM FOUND *\n",
      "\n",
      "Models       : 17\n",
      "  Optimum    : yes\n",
      "  Optimal    : 16\n",
      "Calls        : 5\n",
      "Time         : 2.930s (Solving: 0.00s 1st Model: 0.00s Unsat: 0.00s)\n",
      "CPU Time     : 2.750s\n"
     ]
    }
   ],
   "source": [
    "!clingo dinner/dinner.lp dinner/instances.lp dinner/auxiliary.lp dinner/pref-externals.lp  0 --output=reify | asprin - meta-telingo.lp dinner/pref.lp meta-telingo-extension.lp -c horizon=2 0"
   ]
  },
  {
   "cell_type": "markdown",
   "id": "d51de5df",
   "metadata": {},
   "source": [
    " → Answer sets containing `occurs(orderTakeout)` are preferred."
   ]
  },
  {
   "cell_type": "markdown",
   "id": "a9113044",
   "metadata": {},
   "source": [
    "What happens if she can never order takeout?"
   ]
  },
  {
   "cell_type": "code",
   "execution_count": 52,
   "id": "2b6c8469",
   "metadata": {},
   "outputs": [
    {
     "name": "stdout",
     "output_type": "stream",
     "text": [
      "Overwriting dinner/no-takeout.lp\n"
     ]
    }
   ],
   "source": [
    "%%file dinner/no-takeout.lp\n",
    "not eventually(occurs(orderTakeout))."
   ]
  },
  {
   "cell_type": "code",
   "execution_count": 53,
   "id": "d0f209fd",
   "metadata": {},
   "outputs": [
    {
     "name": "stdout",
     "output_type": "stream",
     "text": [
      "asprin version 3.1.1\n",
      "Reading from - ...\n",
      "Solving...\n",
      "Answer: 1\n",
      "assigned_weight(p11,2) (occurs(cook(crepes)),1) (occurs(eat(crepes)),2)\n",
      "OPTIMUM FOUND\n",
      "Answer: 2\n",
      "assigned_weight(p11,2) (occurs(cook(crepes)),1) (occurs(eat(crepes)),2)\n",
      "OPTIMUM FOUND *\n",
      "Answer: 3\n",
      "assigned_weight(p11,2) (occurs(cook(crepes)),1) (occurs(eat(crepes)),2)\n",
      "OPTIMUM FOUND *\n",
      "Answer: 4\n",
      "assigned_weight(p11,2) (occurs(cook(crepes)),1) (occurs(eat(crepes)),2)\n",
      "OPTIMUM FOUND *\n",
      "Answer: 5\n",
      "assigned_weight(p11,2) (occurs(cook(crepes)),1) (occurs(eat(crepes)),2)\n",
      "OPTIMUM FOUND *\n",
      "Answer: 6\n",
      "assigned_weight(p11,2) (occurs(cook(crepes)),1) (occurs(eat(crepes)),2)\n",
      "OPTIMUM FOUND *\n",
      "Answer: 7\n",
      "assigned_weight(p11,2) (occurs(cook(crepes)),1) (occurs(eat(crepes)),2)\n",
      "OPTIMUM FOUND *\n",
      "Answer: 8\n",
      "assigned_weight(p11,2) (occurs(cook(crepes)),1) (occurs(eat(crepes)),2)\n",
      "OPTIMUM FOUND *\n",
      "\n",
      "Models       : 8\n",
      "  Optimum    : yes\n",
      "  Optimal    : 8\n",
      "Calls        : 4\n",
      "Time         : 3.090s (Solving: 0.00s 1st Model: 0.00s Unsat: 0.00s)\n",
      "CPU Time     : 2.844s\n"
     ]
    }
   ],
   "source": [
    "!clingo dinner/dinner.lp dinner/no-takeout.lp dinner/instances.lp dinner/auxiliary.lp dinner/pref-externals.lp  0 --output=reify | asprin - meta-telingo.lp dinner/pref.lp meta-telingo-extension.lp -c horizon=2 0"
   ]
  },
  {
   "cell_type": "markdown",
   "id": "03106609",
   "metadata": {},
   "source": [
    " → If `occurs(orderTakeout)` is never available, the next possible preference, in this case, `eventually(occurs(cook))∧ always(holds(at(home)))` is satisfied, and so on."
   ]
  },
  {
   "cell_type": "markdown",
   "id": "1a699ef2",
   "metadata": {},
   "source": [
    "### General Preference Formulas (GPF)"
   ]
  },
  {
   "cell_type": "markdown",
   "id": "0417b9fc",
   "metadata": {},
   "source": [
    "\"**Definition 3.12** *(General Preference Satisfaction)*.  \n",
    "Let $s$ be a situation and $\\Phi$ be a general preference formula. Then $w_s(\\Phi)$ is defined as follows:\n",
    "\n",
    "- $w_S(\\varphi_0[v_0] \\gg \\varphi_1[v_1] \\gg \\cdots \\gg \\varphi_n[v_n])$ is defined above.\n",
    "\n",
    "- $$\n",
    "  w_S(\\gamma : \\Psi) =\n",
    "  \\begin{cases}\n",
    "    v_{\\min} & \\text{if } w_S(\\gamma) = v_{\\max} \\\\\n",
    "    w_S(\\Psi) & \\text{otherwise}\n",
    "  \\end{cases}\n",
    "  $$\n",
    "\n",
    "- $$\n",
    "  w_S(\\Psi_1 \\& \\Psi_2 \\& \\cdots \\& \\Psi_n) = \\max \\{ w_S(\\Psi_i) : 1 \\le i \\le n \\}\n",
    "  $$\n",
    "\n",
    "- $$\n",
    "  w_S(\\Psi_1 \\mid \\Psi_2 \\mid \\cdots \\mid \\Psi_n) = \\min \\{ w_S(\\Psi_i) : 1 \\le i \\le n \\}\n",
    "  $$\n",
    "\n",
    "Observe that the semantics of our generalized Boolean connectives extends the semantics of their Boolean counterparts:\n",
    "a conjunction $Ψ_1$&...& $Ψ_n$ is fully satisfied (i.e., has weight $v_{min}$\n",
    "if all of the component preferences $Ψ_i$ are fully satisfied;\n",
    "a disjunction $Ψ_1$ | ... | $Ψ_n$ is fully satisfied if at least one of the disjuncts $Ψ_i$ is fully satisfied; and a conditional preference\n",
    "$γ$ : $Ψ$ is fully satisfied if either the condition $γ$ is false (i.e., has weight $v_{max}$) or the component preference formula $Ψ$ is\n",
    "fully satisfied.\" (p. 1315)"
   ]
  },
  {
   "cell_type": "markdown",
   "id": "2e49f4eb",
   "metadata": {},
   "source": [
    "**12. `P2 : P5 ∧ P4` (P12)**"
   ]
  },
  {
   "cell_type": "markdown",
   "id": "9b90e674",
   "metadata": {},
   "source": [
    " → \"*(P12) states that if Claire initially has the ingredients for something she can make, then she prefers to stay in and cook.*\""
   ]
  },
  {
   "cell_type": "markdown",
   "id": "e86eecfb",
   "metadata": {},
   "source": [
    "We can translate this to: "
   ]
  },
  {
   "cell_type": "code",
   "execution_count": 54,
   "id": "e2252bd8",
   "metadata": {},
   "outputs": [
    {
     "name": "stdout",
     "output_type": "stream",
     "text": [
      "Overwriting dinner/pref.lp\n"
     ]
    }
   ],
   "source": [
    "%%file dinner/pref.lp\n",
    "#optimize(p12).\n",
    "\n",
    "assigned_weight(P, W) :- assigned_weight(P, X, W), #false: assigned_weight(P, Y, Z), Y < X.\n",
    "\n",
    "#preference(p12, less(weight)) {\n",
    "     W :: assigned_weight(p12, W)\n",
    "}.\n",
    "    \n",
    "assigned_weight(p12, 1, 0) :- if(and(p2_aux, initially), and(eventually(p5_aux), always(p4_aux))).\n",
    "assigned_weight(p12, 2, 10) :- not if(and(p2_aux, initially), and(eventually(p5_aux), always(p4_aux))).\n",
    "\n",
    "#show assigned_weight/2. "
   ]
  },
  {
   "cell_type": "code",
   "execution_count": 55,
   "id": "e151bf3c",
   "metadata": {},
   "outputs": [
    {
     "name": "stdout",
     "output_type": "stream",
     "text": [
      "asprin version 3.1.1\n",
      "Reading from - ...\n",
      "Solving...\n",
      "Answer: 1\n",
      "assigned_weight(p12,10) (occurs(eat(pizza)),2) (occurs(orderTakeout(pizza,pizzaPlace)),1)\n",
      "Answer: 2\n",
      "assigned_weight(p12,0) (occurs(cook(crepes)),1) (occurs(eat(crepes)),2)\n",
      "OPTIMUM FOUND\n",
      "Answer: 3\n",
      "assigned_weight(p12,0) (occurs(cook(crepes)),1) (occurs(eat(crepes)),2)\n",
      "OPTIMUM FOUND *\n",
      "Answer: 4\n",
      "assigned_weight(p12,0) (occurs(cook(crepes)),1) (occurs(eat(crepes)),2)\n",
      "OPTIMUM FOUND *\n",
      "Answer: 5\n",
      "assigned_weight(p12,0) (occurs(cook(crepes)),1) (occurs(eat(crepes)),2)\n",
      "OPTIMUM FOUND *\n",
      "Answer: 6\n",
      "assigned_weight(p12,0) (occurs(cook(crepes)),1) (occurs(eat(crepes)),2)\n",
      "OPTIMUM FOUND *\n",
      "Answer: 7\n",
      "assigned_weight(p12,0) (occurs(cook(crepes)),1) (occurs(eat(crepes)),2)\n",
      "OPTIMUM FOUND *\n",
      "Answer: 8\n",
      "assigned_weight(p12,0) (occurs(cook(crepes)),1) (occurs(eat(crepes)),2)\n",
      "OPTIMUM FOUND *\n",
      "Answer: 9\n",
      "assigned_weight(p12,0) (occurs(cook(crepes)),1) (occurs(eat(crepes)),2)\n",
      "OPTIMUM FOUND *\n",
      "\n",
      "Models       : 9\n",
      "  Optimum    : yes\n",
      "  Optimal    : 8\n",
      "Calls        : 5\n",
      "Time         : 4.419s (Solving: 0.01s 1st Model: 0.01s Unsat: 0.00s)\n",
      "CPU Time     : 4.016s\n"
     ]
    }
   ],
   "source": [
    "!clingo dinner/dinner.lp dinner/instances.lp dinner/auxiliary.lp dinner/pref-externals.lp  0 --output=reify | asprin - meta-telingo.lp dinner/pref.lp meta-telingo-extension.lp -c horizon=2 0"
   ]
  },
  {
   "cell_type": "markdown",
   "id": "8e3b857e",
   "metadata": {},
   "source": [
    "→ Since Claire has the ingredients for crepes, she stays in and cooks at home. "
   ]
  },
  {
   "cell_type": "markdown",
   "id": "99b8fdc7",
   "metadata": {},
   "source": [
    "**13. `P10 & P11 ` (P13)**"
   ]
  },
  {
   "cell_type": "markdown",
   "id": "2dfd7aab",
   "metadata": {},
   "source": [
    "→ \"*(P13) maximizes the\n",
    "satisfaction of both Claire’s food and time preferences ...*\" (p. 1312)"
   ]
  },
  {
   "cell_type": "markdown",
   "id": "f0bcbb7a",
   "metadata": {},
   "source": [
    "This can be translated as: "
   ]
  },
  {
   "cell_type": "code",
   "execution_count": 56,
   "id": "9d904117",
   "metadata": {},
   "outputs": [
    {
     "name": "stdout",
     "output_type": "stream",
     "text": [
      "Overwriting dinner/pref.lp\n"
     ]
    }
   ],
   "source": [
    "%%file dinner/pref.lp\n",
    "#optimize(p13).\n",
    "\n",
    "#preference(p13, less(weight)) {\n",
    "    W :: assigned_weight(p13, W)\n",
    "}.\n",
    "\n",
    "assigned_weight(p13, W1) :- assigned_weight(p10, W0), assigned_weight(p11, W1), W0 <= W1.\n",
    "assigned_weight(p13, W1) :- assigned_weight(p11, W0), assigned_weight(p10, W1), W0 <= W1.\n",
    "\n",
    "    \n",
    "assigned_weight(P, W) :- assigned_weight(P, X, W), #false: assigned_weight(P, Y, Z), Y < X.\n",
    "\n",
    "\n",
    "assigned_weight(p10, 1, 0) :- eventually(occurs(eat(spaghetti))).\n",
    "assigned_weight(p10, 2, 4) :- eventually(occurs(eat(pizza))).\n",
    "assigned_weight(p10, 3, 5) :-  eventually(occurs(eat(crepes))).\n",
    "assigned_weight(p10, 4, 10) :-  and(negation(eventually(occurs(eat(crepes)))),\n",
    "                            and(negation(eventually(occurs(eat(spaghetti)))), negation(eventually(occurs(eat(pizza)))))).\n",
    "\n",
    "assigned_weight(p11, 1, 0) :- eventually(p6_aux).\n",
    "assigned_weight(p11, 2, 2) :- and(eventually(p5_aux), always(p4_aux)).\n",
    "assigned_weight(p11, 3, 7) :- eventually(p7_aux).\n",
    "assigned_weight(p11, 4, 9) :- and(eventually(p5_aux), negation(always(p4_aux))).\n",
    "\n",
    "#show assigned_weight/2. "
   ]
  },
  {
   "cell_type": "code",
   "execution_count": 57,
   "id": "8e759ce6",
   "metadata": {},
   "outputs": [
    {
     "name": "stdout",
     "output_type": "stream",
     "text": [
      "asprin version 3.1.1\n",
      "Reading from - ...\n",
      "Solving...\n",
      "Answer: 1\n",
      "assigned_weight(p11,0) assigned_weight(p10,4) assigned_weight(p13,4) (occurs(eat(pizza)),2) (occurs(orderTakeout(pizza,pizzaPlace)),1)\n",
      "OPTIMUM FOUND\n",
      "Answer: 2\n",
      "assigned_weight(p11,0) assigned_weight(p10,4) assigned_weight(p13,4) (occurs(eat(pizza)),2) (occurs(orderTakeout(pizza,pizzaPlace)),1)\n",
      "OPTIMUM FOUND *\n",
      "Answer: 3\n",
      "assigned_weight(p11,0) assigned_weight(p10,4) assigned_weight(p13,4) (occurs(eat(pizza)),2) (occurs(orderTakeout(pizza,pizzaPlace)),1)\n",
      "OPTIMUM FOUND *\n",
      "Answer: 4\n",
      "assigned_weight(p11,0) assigned_weight(p10,4) assigned_weight(p13,4) (occurs(eat(pizza)),2) (occurs(orderTakeout(pizza,pizzaPlace)),1)\n",
      "OPTIMUM FOUND *\n",
      "Answer: 5\n",
      "assigned_weight(p11,0) assigned_weight(p10,4) assigned_weight(p13,4) (occurs(eat(pizza)),2) (occurs(orderTakeout(pizza,pizzaPlace)),1)\n",
      "OPTIMUM FOUND *\n",
      "Answer: 6\n",
      "assigned_weight(p11,0) assigned_weight(p10,4) assigned_weight(p13,4) (occurs(eat(pizza)),2) (occurs(orderTakeout(pizza,pizzaPlace)),1)\n",
      "OPTIMUM FOUND *\n",
      "Answer: 7\n",
      "assigned_weight(p11,0) assigned_weight(p10,4) assigned_weight(p13,4) (occurs(eat(pizza)),2) (occurs(orderTakeout(pizza,pizzaPlace)),1)\n",
      "OPTIMUM FOUND *\n",
      "Answer: 8\n",
      "assigned_weight(p11,0) assigned_weight(p10,4) assigned_weight(p13,4) (occurs(eat(pizza)),2) (occurs(orderTakeout(pizza,pizzaPlace)),1)\n",
      "OPTIMUM FOUND *\n",
      "\n",
      "Models       : 8\n",
      "  Optimum    : yes\n",
      "  Optimal    : 8\n",
      "Calls        : 4\n",
      "Time         : 4.297s (Solving: 0.01s 1st Model: 0.01s Unsat: 0.00s)\n",
      "CPU Time     : 4.000s\n"
     ]
    }
   ],
   "source": [
    "!clingo dinner/dinner.lp dinner/instances.lp dinner/auxiliary.lp dinner/pref-externals.lp  0 --output=reify | asprin - meta-telingo.lp dinner/pref.lp meta-telingo-extension.lp -c horizon=2 0"
   ]
  },
  {
   "cell_type": "markdown",
   "id": "9e8c60b3",
   "metadata": {},
   "source": [
    "→ Answer sets containing `occurs(orderTakeout)` **and** `occurs(eat(pizza))` are\n",
    "preferred, since they satisfy the time preference (P11) and achieve the highest possible satisfaction of the food preference (P10) (`eat(spaghetti)` is not available due to `horizon=2`). We also see that the overall score is 4 (`assigned_weight(p13,4)`) since we take the maximum value of both preferences (`assigned_weight(p10,4)`, (`assigned_weight(p11,0)`)) (see **Definition 3.12**)."
   ]
  },
  {
   "cell_type": "markdown",
   "id": "d5935e8d",
   "metadata": {},
   "source": [
    "**14. `P10 | P11 ` (P14)**"
   ]
  },
  {
   "cell_type": "markdown",
   "id": "98b948cf",
   "metadata": {},
   "source": [
    "→  \"*whereas (P14) says that she is content if either of the two were satisfied*\" (p. 1312)"
   ]
  },
  {
   "cell_type": "markdown",
   "id": "0d557167",
   "metadata": {},
   "source": [
    "This can be translated as: "
   ]
  },
  {
   "cell_type": "code",
   "execution_count": 37,
   "id": "30fdb543",
   "metadata": {},
   "outputs": [
    {
     "name": "stdout",
     "output_type": "stream",
     "text": [
      "Overwriting dinner/pref.lp\n"
     ]
    }
   ],
   "source": [
    "%%file dinner/pref.lp\n",
    "#optimize(p14).\n",
    "\n",
    "#preference(p14, less(weight)) {\n",
    "    W :: assigned_weight(p14, W)\n",
    "}.\n",
    "\n",
    "assigned_weight(p14, W0) :- assigned_weight(p10, W0), assigned_weight(p11, W1), W0 <= W1.\n",
    "assigned_weight(p14, W0)  :- assigned_weight(p11, W0), assigned_weight(p10, W1), W0 <= W1.\n",
    "\n",
    "    \n",
    "assigned_weight(P, W) :- assigned_weight(P, X, W), #false: assigned_weight(P, Y, Z), Y < X.\n",
    "\n",
    "\n",
    "assigned_weight(p10, 1, 0) :- eventually(occurs(eat(spaghetti))).\n",
    "assigned_weight(p10, 2, 4) :- eventually(occurs(eat(pizza))).\n",
    "assigned_weight(p10, 3, 5) :-  eventually(occurs(eat(crepes))).\n",
    "assigned_weight(p10, 4, 10) :-  and(negation(eventually(occurs(eat(crepes)))),\n",
    "                            and(negation(eventually(occurs(eat(spaghetti)))), negation(eventually(occurs(eat(pizza)))))).\n",
    "\n",
    "assigned_weight(p11, 1, 0) :- eventually(p6_aux).\n",
    "assigned_weight(p11, 2, 2) :- and(eventually(p5_aux), always(p4_aux)).\n",
    "assigned_weight(p11, 3, 7) :- eventually(p7_aux).\n",
    "assigned_weight(p11, 4, 9) :- and(eventually(p5_aux), negation(always(p4_aux))).\n",
    "\n",
    "#show assigned_weight/2. "
   ]
  },
  {
   "cell_type": "code",
   "execution_count": 38,
   "id": "3124db3d",
   "metadata": {},
   "outputs": [
    {
     "name": "stdout",
     "output_type": "stream",
     "text": [
      "asprin version 3.1.1\n",
      "Reading from - ...\n",
      "Solving...\n",
      "Answer: 1\n",
      "assigned_weight(p11,0) assigned_weight(p10,4) assigned_weight(p14,0) (occurs(eat(pizza)),2) (occurs(orderTakeout(pizza,pizzaPlace)),1)\n",
      "OPTIMUM FOUND\n",
      "Answer: 2\n",
      "assigned_weight(p11,0) assigned_weight(p10,4) assigned_weight(p14,0) (occurs(eat(pizza)),2) (occurs(orderTakeout(pizza,pizzaPlace)),1)\n",
      "OPTIMUM FOUND *\n",
      "Answer: 3\n",
      "assigned_weight(p11,0) assigned_weight(p10,4) assigned_weight(p14,0) (occurs(eat(pizza)),2) (occurs(orderTakeout(pizza,pizzaPlace)),1)\n",
      "OPTIMUM FOUND *\n",
      "Answer: 4\n",
      "assigned_weight(p11,0) assigned_weight(p10,4) assigned_weight(p14,0) (occurs(eat(pizza)),2) (occurs(orderTakeout(pizza,pizzaPlace)),1)\n",
      "OPTIMUM FOUND *\n",
      "Answer: 5\n",
      "assigned_weight(p11,0) assigned_weight(p10,4) assigned_weight(p14,0) (occurs(eat(pizza)),2) (occurs(orderTakeout(pizza,pizzaPlace)),1)\n",
      "OPTIMUM FOUND *\n",
      "Answer: 6\n",
      "assigned_weight(p11,0) assigned_weight(p10,4) assigned_weight(p14,0) (occurs(eat(pizza)),2) (occurs(orderTakeout(pizza,pizzaPlace)),1)\n",
      "OPTIMUM FOUND *\n",
      "Answer: 7\n",
      "assigned_weight(p11,0) assigned_weight(p10,4) assigned_weight(p14,0) (occurs(eat(pizza)),2) (occurs(orderTakeout(pizza,pizzaPlace)),1)\n",
      "OPTIMUM FOUND *\n",
      "Answer: 8\n",
      "assigned_weight(p11,0) assigned_weight(p10,4) assigned_weight(p14,0) (occurs(eat(pizza)),2) (occurs(orderTakeout(pizza,pizzaPlace)),1)\n",
      "OPTIMUM FOUND *\n",
      "Answer: 9\n",
      "assigned_weight(p11,0) assigned_weight(p10,10) assigned_weight(p14,0) (occurs(eat(sweetsourpork)),2) (occurs(orderTakeout(sweetsourpork,chineseRest)),1)\n",
      "OPTIMUM FOUND *\n",
      "Answer: 10\n",
      "assigned_weight(p11,0) assigned_weight(p10,10) assigned_weight(p14,0) (occurs(eat(sweetsourpork)),2) (occurs(orderTakeout(sweetsourpork,chineseRest)),1)\n",
      "OPTIMUM FOUND *\n",
      "Answer: 11\n",
      "assigned_weight(p11,0) assigned_weight(p10,10) assigned_weight(p14,0) (occurs(eat(sweetsourpork)),2) (occurs(orderTakeout(sweetsourpork,chineseRest)),1)\n",
      "OPTIMUM FOUND *\n",
      "Answer: 12\n",
      "assigned_weight(p11,0) assigned_weight(p10,10) assigned_weight(p14,0) (occurs(eat(sweetsourpork)),2) (occurs(orderTakeout(sweetsourpork,chineseRest)),1)\n",
      "OPTIMUM FOUND *\n",
      "Answer: 13\n",
      "assigned_weight(p11,0) assigned_weight(p10,10) assigned_weight(p14,0) (occurs(eat(sweetsourpork)),2) (occurs(orderTakeout(sweetsourpork,chineseRest)),1)\n",
      "OPTIMUM FOUND *\n",
      "Answer: 14\n",
      "assigned_weight(p11,0) assigned_weight(p10,10) assigned_weight(p14,0) (occurs(eat(sweetsourpork)),2) (occurs(orderTakeout(sweetsourpork,chineseRest)),1)\n",
      "OPTIMUM FOUND *\n",
      "Answer: 15\n",
      "assigned_weight(p11,0) assigned_weight(p10,10) assigned_weight(p14,0) (occurs(eat(sweetsourpork)),2) (occurs(orderTakeout(sweetsourpork,chineseRest)),1)\n",
      "OPTIMUM FOUND *\n",
      "Answer: 16\n",
      "assigned_weight(p11,0) assigned_weight(p10,10) assigned_weight(p14,0) (occurs(eat(sweetsourpork)),2) (occurs(orderTakeout(sweetsourpork,chineseRest)),1)\n",
      "OPTIMUM FOUND *\n",
      "\n",
      "Models       : 16\n",
      "  Optimum    : yes\n",
      "  Optimal    : 16\n",
      "Calls        : 4\n",
      "Time         : 2.664s (Solving: 0.00s 1st Model: 0.00s Unsat: 0.00s)\n",
      "CPU Time     : 2.516s\n"
     ]
    }
   ],
   "source": [
    "!clingo dinner/dinner.lp dinner/instances.lp dinner/auxiliary.lp dinner/pref-externals.lp  0 --output=reify | asprin - meta-telingo.lp dinner/pref.lp meta-telingo-extension.lp -c horizon=2 0"
   ]
  },
  {
   "cell_type": "markdown",
   "id": "ddf718fa",
   "metadata": {},
   "source": [
    "→ Here, answer sets containing `occurs(orderTakeout)` **or** `occurs(eat(pizza))` are preferred. As opposed to before, where the overall preference score was 4, it is now 0 since we take the minimum value of both preferences (`assigned_weight(p10,4)`, (`assigned_weight(p11,0)`), (`assigned_weight(p14,0)`)) (see **Definition 3.12**)"
   ]
  },
  {
   "cell_type": "markdown",
   "id": "259fa91f",
   "metadata": {},
   "source": [
    "## Travel Problem ✈️🚌🚗"
   ]
  },
  {
   "cell_type": "markdown",
   "id": "a9baf267",
   "metadata": {},
   "source": [
    "The next planning problem is from the travel domain: An agent's goal is to get to school, with different possibilities of transport. "
   ]
  },
  {
   "cell_type": "markdown",
   "id": "4ee3bce0",
   "metadata": {},
   "source": [
    "Modelling after paper: **Son, T. C., & Pontelli, E. (2006). Planning with preferences using logic programming. Theory and Practice of Logic Programming, 6(5), 559-607.** https://www.cambridge.org/core/journals/theory-and-practice-of-logic-programming/article/planning-with-preferences-using-logic-programming/441D04E11B5B0008367591DA813382A7"
   ]
  },
  {
   "cell_type": "markdown",
   "id": "92723b4d",
   "metadata": {},
   "source": [
    "The proposed actions with their effects and executabilty condition can be found in p. 563. They can be translated as follows: "
   ]
  },
  {
   "cell_type": "code",
   "execution_count": 75,
   "id": "9bb86bb0",
   "metadata": {},
   "outputs": [
    {
     "name": "stdout",
     "output_type": "stream",
     "text": [
      "Overwriting travel/travel.lp\n"
     ]
    }
   ],
   "source": [
    "%%file travel/travel.lp \n",
    "\n",
    "% FLUENTS\n",
    "% initially (at(home))\n",
    "holds(at(home)) :- initially.\n",
    "\n",
    "% initially (has money)\n",
    "holds(has_money) :-initially.\n",
    "\n",
    "% initially (available car(home))\n",
    "holds(available_car(home)) :- initially.\n",
    "\n",
    "holds(sCost(0)) :- initially.\n",
    "holds(sCost(NC)) :-\n",
    "    prev(holds(sCost(N))),\n",
    "    occurs(A),\n",
    "    cost(A, C),\n",
    "    num(N), num(C), NC = N + C, num(NC).\n",
    "\n",
    "wnext(neg(sCost(N))) :-\n",
    "    holds(sCost(N)),\n",
    "    wnext(holds(sCost(M))), N != M.\n",
    "\n",
    "\n",
    "% ACTIONS WITH THEIR EXECUTABILITY CONDITIONS (ACTION PRECONDITION AXIOMS)\n",
    "\n",
    "% walk(l1, l2) causes at(l2) if at(l1), road(l1, l2)\n",
    "action(walk(X,Y)) :- road(X,Y).\n",
    "prec(walk(X, Y), at(X), true) :- action(walk(X,Y)).\n",
    "\n",
    "wnext(executable(walk)) :- holds(at(X)), action(walk(X,Y)).\n",
    "\n",
    "% bus(l1, l2) causes at(l2) if at(l1), road(l1, l2)\n",
    "action(bus(X,Y)) :- bus_station(X), bus_station(Y), road(X,Y).\n",
    "prec(bus(X, Y), at(X), true) :- action(bus(X,Y)).\n",
    "\n",
    "% bus(l1, l2) executable if has money\n",
    "prec(bus(X, Y), has_money, true) :- action(bus(X,Y)).\n",
    "\n",
    "wnext(executable(bus)) :- holds(at(X)), action(bus(X,Y)), holds(has_money).\n",
    "\n",
    "\n",
    "% flight(l1, l2) causes at(l2) if at(l1), has_ticket(l1, l2)\n",
    "% flight(l1, l2) executable if connected(l1, l2)\n",
    "action(flight(X,Y)) :- connected(X,Y).\n",
    "prec(flight(X, Y), at(X), true) :- action(flight(X,Y)).\n",
    "prec(flight(X, Y), has_ticket(X, Y), true) :- action(flight(X,Y)).\n",
    "wnext(executable(flight)) :- action(flight(X,Y)), holds(at(X)), holds(has_ticket(X, Y)).\n",
    "\n",
    "% take_taxi(l1, l2) causes at(l2) if at(l1), road(l1, l2)\n",
    "action(take_taxi(X,Y)) :- road(X,Y).\n",
    "prec(take_taxi(X, Y), at(X), true) :- action(take_taxi(X,Y)).\n",
    "\n",
    "\n",
    "% take_taxi(l1, l2) executable if available_taxi(l1)\n",
    "prec(take_taxi(X, Y), available_taxi(X), true) :- action(take_taxi(X,Y)).\n",
    "\n",
    "wnext(executable(take_taxi)) :- action(take_taxi(X,Y)), holds(available_taxi(X)), holds(at(X)).\n",
    "\n",
    "% call_taxi(l) causes available_taxi(l) if has_money\n",
    "action(call_taxi(X)) :- location(X).\n",
    "prec(call_taxi(X), has_money, true) :- action(call_taxi(X)).\n",
    "wnext(executable(call_taxi)) :- action(call_taxi(X)), holds(has_money).\n",
    "\n",
    "% rent_car(l) causes available car(l) if has money\n",
    "action(rent_car(X)) :- location(X).\n",
    "prec(rent_car(X), has_money, true) :- action(rent_car(X)).\n",
    "wnext(executable(rent_car)) :- action(rent_car(X)), holds(has_money).\n",
    "\n",
    "% flight(l1, l2) executable if connected(l1, l2)\n",
    "wnext(executable(flight)) :- action(flight(X, Y)), holds(connected(X,Y)).\n",
    "\n",
    "% \n",
    "action(drive(X,Y)) :- road(X,Y).\n",
    "prec(drive(X, Y), available_car(X), true) :- action(drive(X,Y)).\n",
    "prec(drive(X, Y), at(X), true) :- action(drive(X,Y)).\n",
    "wnext(executable(drive)) :- holds(available_car(X)), holds(at(X)), action(drive(X,Y)).\n",
    "\n",
    "\n",
    "% buy ticket(l1, l2) executable if has_money\n",
    "action(buy_ticket(X,Y)) :- airport(X), airport(Y), X != Y.\n",
    "prec(buy_ticket(X, Y), has_money, true) :- action(buy_ticket(X,Y)).\n",
    "wnext(executable(buy_ticket)) :- holds(has_money), action(buy_ticket(X,Y)).\n",
    "\n",
    "    \n",
    "action(buy_coffee).\n",
    "prec(buy_coffee, has_money, true) :- action(buy_coffee).\n",
    "prec(buy_coffee, at(coffeeshop), true) :- action(buy_coffee).\n",
    "wnext(executable(buy_coffee)) :- holds(at(coffeeshop)), holds(has_money).\n",
    "\n",
    ":- prec(A,F,true), occurs(A), not prev(holds(F)).\n",
    ":- prec(A,F,false), occurs(A), prev(holds(F)).\n",
    "\n",
    "%executable(A) :- prec(A,F,true), prev(holds(F)).\n",
    "%executable(A) :- prec(A,F,false), not prev(holds(F)).\n",
    "\n",
    "% ACTIONS WITH THEIR EFFECTS (EFFECTS)\n",
    "\n",
    "% walk(l1, l2) causes at(l2) if at(l1), road(l1, l2)\n",
    "eff(walk(X,Y), at(Y), true) :- action(walk(X,Y)).\n",
    "eff(walk(X,Y), at(X), false) :- action(walk(X,Y)).\n",
    "\n",
    "% bus(l1, l2) causes at(l2) if at(l1), road(l1, l2)\n",
    "eff(bus(X,Y), at(Y), true) :- action(bus(X,Y)).\n",
    "eff(bus(X,Y), at(X), false) :- action(bus(X,Y)).\n",
    "\n",
    "% flight(l1, l2) causes at(l2) if at(l1), has ticket(l1, l2)\n",
    "eff(flight(X,Y), at(Y), true) :- action(flight(X,Y)).\n",
    "eff(flight(X,Y), at(X), false) :- action(flight(X,Y)).\n",
    "\n",
    "\n",
    "% take_taxi(l1, l2) causes at(l2) if at(l1), road(l1, l2)\n",
    "eff(take_taxi(X,Y), at(Y), true) :- action(take_taxi(X,Y)).\n",
    "eff(take_taxi(X,Y), at(X), false) :- action(take_taxi(X,Y)).\n",
    "\n",
    "% buy_ticket(l1, l2) causes has_ticket(l1, l2)\n",
    "eff(buy_ticket(X,Y), has_ticket(X,Y), true) :- action(buy_ticket(X,Y)).\n",
    "\n",
    "% call_taxi(l) causes available_taxi(l) if has money\n",
    "eff(call_taxi(X), available_taxi(X), true) :- action(call_taxi(X)).\n",
    "\n",
    "% rent_car(l) causes available_car(l) if has money\n",
    "eff(rent_car(X), available_car(X), true) :- action(rent_car(X)).\n",
    "\n",
    "\n",
    "% add action buy_coffee (page 567)\n",
    "eff(buy_coffee, has_coffee, true) :- action(buy_coffee).\n",
    "\n",
    "    \n",
    "eff(drive(X,Y), at(Y), true) :- action(drive(X,Y)).\n",
    "eff(drive(X,Y), at(X), false) :- action(drive(X,Y)).\n",
    "eff(flight(X,Y), has_ticket(X,Y), false) :- action(flight(X,Y)).\n",
    "eff(take_taxi(X,Y), available_taxi(X), false) :- action(take_taxi(X,Y)).\n",
    "eff(drive(X,Y), available_car(X), false) :- action(drive(X,Y)).\n",
    "\n",
    "\n",
    "% Update by effects\n",
    "holds(F) :- occurs(A), eff(A, F, true).\n",
    "neg(F) :- occurs(A), eff(A, F, false).\n",
    "\n",
    "{ occurs(A) : action(A), A != stop, A != noop } 1 :- not holds(ended).\n",
    "\n",
    "% INERTIA\n",
    "wnext(holds(F)) :- holds(F), not wnext(neg(F)).\n",
    "\n",
    "\n",
    "% GOAL\n",
    "holds(goal_achieved) :-  holds(at(school)).\n",
    "\n",
    "% for preferences time_coffee, cost_coffee, time_n_cost, time_and_cost, time_v_cost, time_or_cost:\n",
    "%holds(goal_achieved) :- holds(at(school)), holds(has_coffee).\n",
    ":- finally, not holds(goal_achieved).\n",
    "\n",
    "% as soon as the goal is achieved, fire stop (once)\n",
    "wnext(occurs(stop)) :- holds(goal_achieved), not holds(ended).\n",
    "prec(stop, goal_achieved, true).   % stop executable if goal\n",
    "wnext(executable(stop)) :- holds(goal_achieved), not holds(ended).\n",
    "\n",
    "\n",
    "eff(stop, ended,     true).        % stop causes ended\n",
    "\n",
    "% after ended holds, fire noop every step\n",
    "wnext(occurs(noop)) :- holds(ended).\n",
    "prec(noop, ended,    true).        % noop executable if ended\n",
    "wnext(executable(noop)) :-  holds(ended).\n",
    "\n",
    "eff(noop, ended, true).        % noop causes ended\n",
    "\n",
    "\n",
    "#external initially.\n",
    "#external finally.\n",
    "#external occurs(stop).\n",
    "#external wnext(occurs(noop)).\n",
    "#external holds(ended).\n",
    "#external eventually(holds(goal_achieved)).\n",
    "#external eventually(holds(at(school))).\n",
    "#external holds(has_coffee).\n",
    "#external prev(holds(sCost(N))) : holds(sCost(N)).\n",
    "#external wnext(holds(sCost(M))) : holds(sCost(M)).\n",
    "#external prev(holds(sTime(N))) : holds(sTime(N)).\n",
    "#external wnext(holds(sTime(M))) : holds(sTime(M)).\n",
    "#external prev(holds(F)) : prec(A,F,true).\n",
    "#external wnext(neg(F)) : prec(A,F,true).\n",
    "#external at(X) : location(X).\n",
    "#external wnext(neg(F)) : prec(A,F,true).\n",
    "#external eventually(holds(has_coffee)).\n",
    "\n",
    "\n",
    "#show show(occurs(X)) : action(X).\n"
   ]
  },
  {
   "cell_type": "markdown",
   "id": "17aa6356",
   "metadata": {},
   "source": [
    "The goal can be achieved in one step: "
   ]
  },
  {
   "cell_type": "code",
   "execution_count": 76,
   "id": "62b666e9",
   "metadata": {},
   "outputs": [
    {
     "name": "stdout",
     "output_type": "stream",
     "text": [
      "clingo version 5.4.0\n",
      "Reading from - ...\n",
      "Solving...\n",
      "Answer: 1\n",
      "(occurs(bus(home,school)),1)\n",
      "Answer: 2\n",
      "(occurs(walk(home,school)),1)\n",
      "Answer: 3\n",
      "(occurs(drive(home,school)),1)\n",
      "SATISFIABLE\n",
      "\n",
      "Models       : 3\n",
      "Calls        : 1\n",
      "Time         : 0.896s (Solving: 0.00s 1st Model: 0.00s Unsat: 0.00s)\n",
      "CPU Time     : 0.891s\n"
     ]
    }
   ],
   "source": [
    "! clingo travel/travel.lp travel/instances.lp  0 --output=reify | clingo - meta-telingo.lp -c horizon=1 0 --project"
   ]
  },
  {
   "cell_type": "markdown",
   "id": "4abcba0f",
   "metadata": {},
   "source": [
    "Increasing the number of horizon quickly increases the number of possibilities: "
   ]
  },
  {
   "cell_type": "code",
   "execution_count": 62,
   "id": "42db7ff5",
   "metadata": {},
   "outputs": [
    {
     "name": "stdout",
     "output_type": "stream",
     "text": [
      "clingo version 5.4.0\n",
      "Reading from - ...\n",
      "Solving...\n",
      "Answer: 1\n",
      "(occurs(bus(coffeeshop,school)),2) (occurs(drive(home,coffeeshop)),1)\n",
      "Answer: 2\n",
      "(occurs(bus(coffeeshop,school)),2) (occurs(walk(home,coffeeshop)),1)\n",
      "Answer: 3\n",
      "(occurs(bus(coffeeshop,school)),2) (occurs(bus(home,coffeeshop)),1)\n",
      "Answer: 4\n",
      "(occurs(bus(home,school)),1)\n",
      "Answer: 5\n",
      "(occurs(walk(home,school)),1)\n",
      "Answer: 6\n",
      "(occurs(drive(home,school)),1)\n",
      "Answer: 7\n",
      "(occurs(bus(home,school)),2)\n",
      "Answer: 8\n",
      "(occurs(bus(home,school)),2) (occurs(rent_car(home)),1)\n",
      "Answer: 9\n",
      "(occurs(bus(home,school)),2) (occurs(buy_ticket(home,school)),1)\n",
      "Answer: 10\n",
      "(occurs(bus(home,school)),2) (occurs(buy_ticket(airport1,school)),1)\n",
      "Answer: 11\n",
      "(occurs(bus(home,school)),2) (occurs(buy_ticket(school,airport1)),1)\n",
      "Answer: 12\n",
      "(occurs(bus(home,school)),2) (occurs(buy_ticket(home,airport2)),1)\n",
      "Answer: 13\n",
      "(occurs(bus(home,school)),2) (occurs(buy_ticket(home,airport1)),1)\n",
      "Answer: 14\n",
      "(occurs(bus(home,school)),2) (occurs(buy_ticket(school,home)),1)\n",
      "Answer: 15\n",
      "(occurs(bus(home,school)),2) (occurs(buy_ticket(airport1,airport2)),1)\n",
      "Answer: 16\n",
      "(occurs(bus(home,school)),2) (occurs(buy_ticket(airport2,school)),1)\n",
      "Answer: 17\n",
      "(occurs(bus(home,school)),2) (occurs(buy_ticket(airport2,airport1)),1)\n",
      "Answer: 18\n",
      "(occurs(bus(home,school)),2) (occurs(buy_ticket(airport2,home)),1)\n",
      "Answer: 19\n",
      "(occurs(bus(home,school)),2) (occurs(buy_ticket(school,airport2)),1)\n",
      "Answer: 20\n",
      "(occurs(bus(home,school)),2) (occurs(buy_ticket(airport1,home)),1)\n",
      "Answer: 21\n",
      "(occurs(bus(home,school)),2) (occurs(call_taxi(school)),1)\n",
      "Answer: 22\n",
      "(occurs(bus(home,school)),2) (occurs(call_taxi(home)),1)\n",
      "Answer: 23\n",
      "(occurs(bus(home,school)),2) (occurs(rent_car(airport2)),1)\n",
      "Answer: 24\n",
      "(occurs(bus(home,school)),2) (occurs(call_taxi(airport1)),1)\n",
      "Answer: 25\n",
      "(occurs(bus(home,school)),2) (occurs(rent_car(coffeeshop)),1)\n",
      "Answer: 26\n",
      "(occurs(bus(home,school)),2) (occurs(rent_car(airport1)),1)\n",
      "Answer: 27\n",
      "(occurs(bus(home,school)),2) (occurs(rent_car(school)),1)\n",
      "Answer: 28\n",
      "(occurs(bus(home,school)),2) (occurs(call_taxi(airport2)),1)\n",
      "Answer: 29\n",
      "(occurs(bus(home,school)),2) (occurs(call_taxi(coffeeshop)),1)\n",
      "Answer: 30\n",
      "(occurs(drive(home,school)),2)\n",
      "Answer: 31\n",
      "(occurs(drive(home,school)),2) (occurs(rent_car(home)),1)\n",
      "Answer: 32\n",
      "(occurs(drive(home,school)),2) (occurs(buy_ticket(home,school)),1)\n",
      "Answer: 33\n",
      "(occurs(drive(home,school)),2) (occurs(buy_ticket(airport1,school)),1)\n",
      "Answer: 34\n",
      "(occurs(drive(home,school)),2) (occurs(buy_ticket(home,airport1)),1)\n",
      "Answer: 35\n",
      "(occurs(drive(home,school)),2) (occurs(buy_ticket(home,airport2)),1)\n",
      "Answer: 36\n",
      "(occurs(drive(home,school)),2) (occurs(buy_ticket(school,home)),1)\n",
      "Answer: 37\n",
      "(occurs(drive(home,school)),2) (occurs(buy_ticket(school,airport1)),1)\n",
      "Answer: 38\n",
      "(occurs(drive(home,school)),2) (occurs(buy_ticket(airport1,home)),1)\n",
      "Answer: 39\n",
      "(occurs(drive(home,school)),2) (occurs(buy_ticket(airport1,airport2)),1)\n",
      "Answer: 40\n",
      "(occurs(drive(home,school)),2) (occurs(buy_ticket(school,airport2)),1)\n",
      "Answer: 41\n",
      "(occurs(drive(home,school)),2) (occurs(buy_ticket(airport2,home)),1)\n",
      "Answer: 42\n",
      "(occurs(drive(home,school)),2) (occurs(buy_ticket(airport2,airport1)),1)\n",
      "Answer: 43\n",
      "(occurs(drive(home,school)),2) (occurs(buy_ticket(airport2,school)),1)\n",
      "Answer: 44\n",
      "(occurs(drive(home,school)),2) (occurs(rent_car(coffeeshop)),1)\n",
      "Answer: 45\n",
      "(occurs(drive(home,school)),2) (occurs(call_taxi(airport1)),1)\n",
      "Answer: 46\n",
      "(occurs(drive(home,school)),2) (occurs(call_taxi(coffeeshop)),1)\n",
      "Answer: 47\n",
      "(occurs(drive(home,school)),2) (occurs(call_taxi(airport2)),1)\n",
      "Answer: 48\n",
      "(occurs(drive(home,school)),2) (occurs(rent_car(airport1)),1)\n",
      "Answer: 49\n",
      "(occurs(drive(home,school)),2) (occurs(rent_car(airport2)),1)\n",
      "Answer: 50\n",
      "(occurs(drive(home,school)),2) (occurs(rent_car(school)),1)\n",
      "Answer: 51\n",
      "(occurs(drive(home,school)),2) (occurs(call_taxi(home)),1)\n",
      "Answer: 52\n",
      "(occurs(drive(home,school)),2) (occurs(call_taxi(school)),1)\n",
      "Answer: 53\n",
      "(occurs(walk(coffeeshop,school)),2) (occurs(bus(home,coffeeshop)),1)\n",
      "Answer: 54\n",
      "(occurs(walk(coffeeshop,school)),2) (occurs(walk(home,coffeeshop)),1)\n",
      "Answer: 55\n",
      "(occurs(walk(coffeeshop,school)),2) (occurs(drive(home,coffeeshop)),1)\n",
      "Answer: 56\n",
      "(occurs(walk(home,school)),2)\n",
      "Answer: 57\n",
      "(occurs(walk(home,school)),2) (occurs(rent_car(home)),1)\n",
      "Answer: 58\n",
      "(occurs(walk(home,school)),2) (occurs(buy_ticket(home,school)),1)\n",
      "Answer: 59\n",
      "(occurs(walk(home,school)),2) (occurs(buy_ticket(airport1,school)),1)\n",
      "Answer: 60\n",
      "(occurs(walk(home,school)),2) (occurs(buy_ticket(school,home)),1)\n",
      "Answer: 61\n",
      "(occurs(walk(home,school)),2) (occurs(buy_ticket(home,airport1)),1)\n",
      "Answer: 62\n",
      "(occurs(walk(home,school)),2) (occurs(buy_ticket(school,airport1)),1)\n",
      "Answer: 63\n",
      "(occurs(walk(home,school)),2) (occurs(buy_ticket(home,airport2)),1)\n",
      "Answer: 64\n",
      "(occurs(walk(home,school)),2) (occurs(buy_ticket(school,airport2)),1)\n",
      "Answer: 65\n",
      "(occurs(walk(home,school)),2) (occurs(buy_ticket(airport2,airport1)),1)\n",
      "Answer: 66\n",
      "(occurs(walk(home,school)),2) (occurs(buy_ticket(airport1,airport2)),1)\n",
      "Answer: 67\n",
      "(occurs(walk(home,school)),2) (occurs(buy_ticket(airport1,home)),1)\n",
      "Answer: 68\n",
      "(occurs(walk(home,school)),2) (occurs(buy_ticket(airport2,home)),1)\n",
      "Answer: 69\n",
      "(occurs(walk(home,school)),2) (occurs(buy_ticket(airport2,school)),1)\n",
      "Answer: 70\n",
      "(occurs(walk(home,school)),2) (occurs(call_taxi(school)),1)\n",
      "Answer: 71\n",
      "(occurs(walk(home,school)),2) (occurs(call_taxi(airport2)),1)\n",
      "Answer: 72\n",
      "(occurs(walk(home,school)),2) (occurs(rent_car(airport1)),1)\n",
      "Answer: 73\n",
      "(occurs(walk(home,school)),2) (occurs(rent_car(coffeeshop)),1)\n",
      "Answer: 74\n",
      "(occurs(walk(home,school)),2) (occurs(call_taxi(airport1)),1)\n",
      "Answer: 75\n",
      "(occurs(walk(home,school)),2) (occurs(rent_car(school)),1)\n",
      "Answer: 76\n",
      "(occurs(walk(home,school)),2) (occurs(call_taxi(coffeeshop)),1)\n",
      "Answer: 77\n",
      "(occurs(walk(home,school)),2) (occurs(rent_car(airport2)),1)\n",
      "Answer: 78\n",
      "(occurs(walk(home,school)),2) (occurs(call_taxi(home)),1)\n",
      "Answer: 79\n",
      "(occurs(flight(home,school)),2) (occurs(buy_ticket(home,school)),1)\n",
      "Answer: 80\n",
      "(occurs(take_taxi(home,school)),2) (occurs(call_taxi(home)),1)\n",
      "SATISFIABLE\n",
      "\n",
      "Models       : 80\n",
      "Calls        : 1\n",
      "Time         : 0.948s (Solving: 0.00s 1st Model: 0.00s Unsat: 0.00s)\n",
      "CPU Time     : 0.938s\n"
     ]
    }
   ],
   "source": [
    "! clingo travel/travel.lp travel/instances.lp  0 --output=reify | clingo - meta-telingo.lp -c horizon=2 0 --project"
   ]
  },
  {
   "cell_type": "markdown",
   "id": "61fec696",
   "metadata": {},
   "source": [
    "Thus, we now look at preferences as proposed by the authors. "
   ]
  },
  {
   "cell_type": "markdown",
   "id": "13c7cda3",
   "metadata": {},
   "source": [
    "### Basic Desire Formula"
   ]
  },
  {
   "cell_type": "markdown",
   "id": "6e2ba840",
   "metadata": {},
   "source": [
    "**1. `eventually(occ(bus(home, school)) ∨ occ(taxi(home, school))).`**"
   ]
  },
  {
   "cell_type": "markdown",
   "id": "1c26fdfa",
   "metadata": {},
   "source": [
    "→  \"*... to express the fact that a user would like to take the taxi or the bus to go to school*\" (p. 566)"
   ]
  },
  {
   "cell_type": "markdown",
   "id": "a3796956",
   "metadata": {},
   "source": [
    "We can translate this temporal formula straightforward as: "
   ]
  },
  {
   "cell_type": "code",
   "execution_count": 64,
   "id": "c41b7a0e",
   "metadata": {},
   "outputs": [
    {
     "name": "stdout",
     "output_type": "stream",
     "text": [
      "Overwriting travel/pref.lp\n"
     ]
    }
   ],
   "source": [
    "%%file travel/pref.lp\n",
    "#optimize(p1).\n",
    "\n",
    "% (P1) eventually(occ(bus(home,school)) | occ(taxi(home,school))).-> p. 566.\n",
    "#preference(p1,more(cardinality)){\n",
    "    and(initially, eventually(or(occurs(bus(home,school)), occurs(take_taxi(home,school)))))\n",
    "}."
   ]
  },
  {
   "cell_type": "code",
   "execution_count": 65,
   "id": "c809d863",
   "metadata": {
    "scrolled": true
   },
   "outputs": [
    {
     "name": "stdout",
     "output_type": "stream",
     "text": [
      "asprin version 3.1.1\n",
      "Reading from - ...\n",
      "Solving...\n",
      "Answer: 1\n",
      "(occurs(walk(home,school)),2) (occurs(rent_car(home)),1)\n",
      "Answer: 2\n",
      "(occurs(bus(home,school)),2) (occurs(buy_ticket(home,school)),1)\n",
      "OPTIMUM FOUND\n",
      "Answer: 3\n",
      "(occurs(take_taxi(home,school)),2) (occurs(call_taxi(home)),1)\n",
      "OPTIMUM FOUND *\n",
      "Answer: 4\n",
      "(occurs(bus(home,school)),2) (occurs(call_taxi(home)),1)\n",
      "OPTIMUM FOUND *\n",
      "Answer: 5\n",
      "(occurs(bus(home,school)),2) (occurs(call_taxi(airport1)),1)\n",
      "OPTIMUM FOUND *\n",
      "Answer: 6\n",
      "(occurs(bus(home,school)),2) (occurs(call_taxi(school)),1)\n",
      "OPTIMUM FOUND *\n",
      "Answer: 7\n",
      "(occurs(bus(home,school)),2) (occurs(call_taxi(coffeeshop)),1)\n",
      "OPTIMUM FOUND *\n",
      "Answer: 8\n",
      "(occurs(bus(home,school)),2) (occurs(call_taxi(airport2)),1)\n",
      "OPTIMUM FOUND *\n",
      "Answer: 9\n",
      "(occurs(bus(home,school)),2) (occurs(buy_ticket(airport1,airport2)),1)\n",
      "OPTIMUM FOUND *\n",
      "Answer: 10\n",
      "(occurs(bus(home,school)),2) (occurs(buy_ticket(school,home)),1)\n",
      "OPTIMUM FOUND *\n",
      "Answer: 11\n",
      "(occurs(bus(home,school)),2) (occurs(rent_car(coffeeshop)),1)\n",
      "OPTIMUM FOUND *\n",
      "Answer: 12\n",
      "(occurs(bus(home,school)),2) (occurs(rent_car(airport2)),1)\n",
      "OPTIMUM FOUND *\n",
      "Answer: 13\n",
      "(occurs(bus(home,school)),2) (occurs(rent_car(airport1)),1)\n",
      "OPTIMUM FOUND *\n",
      "Answer: 14\n",
      "(occurs(bus(home,school)),2) (occurs(rent_car(school)),1)\n",
      "OPTIMUM FOUND *\n",
      "Answer: 15\n",
      "(occurs(bus(home,school)),2) (occurs(buy_ticket(airport1,school)),1)\n",
      "OPTIMUM FOUND *\n",
      "Answer: 16\n",
      "(occurs(bus(home,school)),2) (occurs(buy_ticket(airport2,home)),1)\n",
      "OPTIMUM FOUND *\n",
      "Answer: 17\n",
      "(occurs(bus(home,school)),2) (occurs(buy_ticket(airport2,school)),1)\n",
      "OPTIMUM FOUND *\n",
      "Answer: 18\n",
      "(occurs(bus(home,school)),2) (occurs(buy_ticket(school,airport2)),1)\n",
      "OPTIMUM FOUND *\n",
      "Answer: 19\n",
      "(occurs(bus(home,school)),2) (occurs(buy_ticket(airport1,home)),1)\n",
      "OPTIMUM FOUND *\n",
      "Answer: 20\n",
      "(occurs(bus(home,school)),2) (occurs(buy_ticket(home,airport2)),1)\n",
      "OPTIMUM FOUND *\n",
      "Answer: 21\n",
      "(occurs(bus(home,school)),2) (occurs(buy_ticket(school,airport1)),1)\n",
      "OPTIMUM FOUND *\n",
      "Answer: 22\n",
      "(occurs(bus(home,school)),2) (occurs(buy_ticket(home,airport1)),1)\n",
      "OPTIMUM FOUND *\n",
      "Answer: 23\n",
      "(occurs(bus(home,school)),2)\n",
      "OPTIMUM FOUND *\n",
      "Answer: 24\n",
      "(occurs(bus(home,school)),2) (occurs(rent_car(home)),1)\n",
      "OPTIMUM FOUND *\n",
      "Answer: 25\n",
      "(occurs(bus(home,school)),2) (occurs(buy_ticket(airport2,airport1)),1)\n",
      "OPTIMUM FOUND *\n",
      "Answer: 26\n",
      "(occurs(bus(home,school)),1) (occurs(stop),2)\n",
      "OPTIMUM FOUND *\n",
      "\n",
      "Models       : 26\n",
      "  Optimum    : yes\n",
      "  Optimal    : 25\n",
      "Calls        : 5\n",
      "Time         : 2.725s (Solving: 0.06s 1st Model: 0.03s Unsat: 0.01s)\n",
      "CPU Time     : 2.516s\n"
     ]
    }
   ],
   "source": [
    "!clingo travel/travel.lp travel/instances.lp travel/auxiliary.lp travel/pref-externals.lp 0 --output=reify | \\\n",
    " asprin - meta-telingo.lp travel/pref.lp meta-telingo-extension.lp -c horizon=2 0 "
   ]
  },
  {
   "cell_type": "markdown",
   "id": "5fb7e6c8",
   "metadata": {},
   "source": [
    "Now, the agent either takes the bus or the taxi to get from home to school at some point of the trajectory. "
   ]
  },
  {
   "cell_type": "markdown",
   "id": "97bb7c6f",
   "metadata": {},
   "source": [
    "**2. `always(¬occ(call_taxi(home)))`**"
   ]
  },
  {
   "cell_type": "markdown",
   "id": "afde3959",
   "metadata": {},
   "source": [
    "→ \"*If the user’s desire is not to call a taxi*\" (p. 566)"
   ]
  },
  {
   "cell_type": "markdown",
   "id": "4af62602",
   "metadata": {},
   "source": [
    "Preference with asprin: "
   ]
  },
  {
   "cell_type": "code",
   "execution_count": 66,
   "id": "21875c11",
   "metadata": {},
   "outputs": [
    {
     "name": "stdout",
     "output_type": "stream",
     "text": [
      "Overwriting travel/pref.lp\n"
     ]
    }
   ],
   "source": [
    "%%file travel/pref.lp\n",
    "#optimize(p2).\n",
    "\n",
    "% (P2) always(¬occ(call_taxi(home))) -> p. 566.\n",
    "#preference(p2,more(cardinality)){\n",
    "    and(initially, always(negation(occurs(call_taxi(home)))))\n",
    "}."
   ]
  },
  {
   "cell_type": "code",
   "execution_count": 67,
   "id": "8ff1f126",
   "metadata": {},
   "outputs": [
    {
     "name": "stdout",
     "output_type": "stream",
     "text": [
      "asprin version 3.1.1\n",
      "Reading from - ...\n",
      "Solving...\n",
      "Answer: 1\n",
      "(occurs(walk(home,school)),2) (occurs(rent_car(home)),1)\n",
      "OPTIMUM FOUND\n",
      "Answer: 2\n",
      "(occurs(walk(home,school)),2) (occurs(buy_ticket(airport1,airport2)),1)\n",
      "OPTIMUM FOUND *\n",
      "Answer: 3\n",
      "(occurs(walk(home,school)),2) (occurs(rent_car(coffeeshop)),1)\n",
      "OPTIMUM FOUND *\n",
      "Answer: 4\n",
      "(occurs(walk(home,school)),2) (occurs(buy_ticket(school,home)),1)\n",
      "OPTIMUM FOUND *\n",
      "Answer: 5\n",
      "(occurs(walk(home,school)),2) (occurs(rent_car(school)),1)\n",
      "OPTIMUM FOUND *\n",
      "Answer: 6\n",
      "(occurs(walk(home,school)),2) (occurs(call_taxi(coffeeshop)),1)\n",
      "OPTIMUM FOUND *\n",
      "Answer: 7\n",
      "(occurs(walk(home,school)),2) (occurs(call_taxi(airport1)),1)\n",
      "OPTIMUM FOUND *\n",
      "Answer: 8\n",
      "(occurs(walk(home,school)),2) (occurs(call_taxi(school)),1)\n",
      "OPTIMUM FOUND *\n",
      "Answer: 9\n",
      "(occurs(walk(home,school)),2) (occurs(rent_car(airport1)),1)\n",
      "OPTIMUM FOUND *\n",
      "Answer: 10\n",
      "(occurs(walk(home,school)),2) (occurs(call_taxi(airport2)),1)\n",
      "OPTIMUM FOUND *\n",
      "Answer: 11\n",
      "(occurs(walk(home,school)),2)\n",
      "OPTIMUM FOUND *\n",
      "Answer: 12\n",
      "(occurs(walk(home,school)),2) (occurs(rent_car(airport2)),1)\n",
      "OPTIMUM FOUND *\n",
      "Answer: 13\n",
      "(occurs(walk(home,school)),2) (occurs(buy_ticket(home,airport1)),1)\n",
      "OPTIMUM FOUND *\n",
      "Answer: 14\n",
      "(occurs(walk(home,school)),2) (occurs(buy_ticket(airport1,school)),1)\n",
      "OPTIMUM FOUND *\n",
      "Answer: 15\n",
      "(occurs(walk(home,school)),2) (occurs(buy_ticket(airport2,home)),1)\n",
      "OPTIMUM FOUND *\n",
      "Answer: 16\n",
      "(occurs(walk(home,school)),2) (occurs(buy_ticket(airport1,home)),1)\n",
      "OPTIMUM FOUND *\n",
      "Answer: 17\n",
      "(occurs(walk(home,school)),2) (occurs(buy_ticket(school,airport2)),1)\n",
      "OPTIMUM FOUND *\n",
      "Answer: 18\n",
      "(occurs(walk(home,school)),2) (occurs(buy_ticket(home,airport2)),1)\n",
      "OPTIMUM FOUND *\n",
      "Answer: 19\n",
      "(occurs(walk(home,school)),2) (occurs(buy_ticket(school,airport1)),1)\n",
      "OPTIMUM FOUND *\n",
      "Answer: 20\n",
      "(occurs(walk(home,school)),2) (occurs(buy_ticket(airport2,airport1)),1)\n",
      "OPTIMUM FOUND *\n",
      "Answer: 21\n",
      "(occurs(walk(home,school)),2) (occurs(buy_ticket(airport2,school)),1)\n",
      "OPTIMUM FOUND *\n",
      "Answer: 22\n",
      "(occurs(walk(home,school)),2) (occurs(buy_ticket(home,school)),1)\n",
      "OPTIMUM FOUND *\n",
      "Answer: 23\n",
      "(occurs(flight(home,school)),2) (occurs(buy_ticket(home,school)),1)\n",
      "OPTIMUM FOUND *\n",
      "Answer: 24\n",
      "(occurs(rent_car(coffeeshop)),1) (occurs(drive(home,school)),2)\n",
      "OPTIMUM FOUND *\n",
      "Answer: 25\n",
      "(occurs(rent_car(school)),1) (occurs(drive(home,school)),2)\n",
      "OPTIMUM FOUND *\n",
      "Answer: 26\n",
      "(occurs(call_taxi(coffeeshop)),1) (occurs(drive(home,school)),2)\n",
      "OPTIMUM FOUND *\n",
      "Answer: 27\n",
      "(occurs(call_taxi(airport1)),1) (occurs(drive(home,school)),2)\n",
      "OPTIMUM FOUND *\n",
      "Answer: 28\n",
      "(occurs(call_taxi(school)),1) (occurs(drive(home,school)),2)\n",
      "OPTIMUM FOUND *\n",
      "Answer: 29\n",
      "(occurs(rent_car(home)),1) (occurs(drive(home,school)),2)\n",
      "OPTIMUM FOUND *\n",
      "Answer: 30\n",
      "(occurs(drive(home,school)),2) (occurs(buy_ticket(home,airport1)),1)\n",
      "OPTIMUM FOUND *\n",
      "Answer: 31\n",
      "(occurs(rent_car(airport1)),1) (occurs(drive(home,school)),2)\n",
      "OPTIMUM FOUND *\n",
      "Answer: 32\n",
      "(occurs(call_taxi(airport2)),1) (occurs(drive(home,school)),2)\n",
      "OPTIMUM FOUND *\n",
      "Answer: 33\n",
      "(occurs(drive(home,school)),2) (occurs(buy_ticket(airport1,airport2)),1)\n",
      "OPTIMUM FOUND *\n",
      "Answer: 34\n",
      "(occurs(drive(home,school)),2) (occurs(buy_ticket(school,home)),1)\n",
      "OPTIMUM FOUND *\n",
      "Answer: 35\n",
      "(occurs(drive(home,school)),2)\n",
      "OPTIMUM FOUND *\n",
      "Answer: 36\n",
      "(occurs(drive(home,school)),2) (occurs(buy_ticket(airport1,school)),1)\n",
      "OPTIMUM FOUND *\n",
      "Answer: 37\n",
      "(occurs(drive(home,school)),2) (occurs(buy_ticket(airport2,home)),1)\n",
      "OPTIMUM FOUND *\n",
      "Answer: 38\n",
      "(occurs(drive(home,school)),2) (occurs(buy_ticket(airport1,home)),1)\n",
      "OPTIMUM FOUND *\n",
      "Answer: 39\n",
      "(occurs(drive(home,school)),2) (occurs(buy_ticket(school,airport2)),1)\n",
      "OPTIMUM FOUND *\n",
      "Answer: 40\n",
      "(occurs(drive(home,school)),2) (occurs(buy_ticket(home,airport2)),1)\n",
      "OPTIMUM FOUND *\n",
      "Answer: 41\n",
      "(occurs(drive(home,school)),2) (occurs(buy_ticket(school,airport1)),1)\n",
      "OPTIMUM FOUND *\n",
      "Answer: 42\n",
      "(occurs(drive(home,school)),2) (occurs(buy_ticket(airport2,airport1)),1)\n",
      "OPTIMUM FOUND *\n",
      "Answer: 43\n",
      "(occurs(drive(home,school)),2) (occurs(buy_ticket(airport2,school)),1)\n",
      "OPTIMUM FOUND *\n",
      "Answer: 44\n",
      "(occurs(rent_car(airport2)),1) (occurs(drive(home,school)),2)\n",
      "OPTIMUM FOUND *\n",
      "Answer: 45\n",
      "(occurs(drive(home,school)),2) (occurs(buy_ticket(home,school)),1)\n",
      "OPTIMUM FOUND *\n",
      "Answer: 46\n",
      "(occurs(bus(home,school)),2) (occurs(rent_car(coffeeshop)),1)\n",
      "OPTIMUM FOUND *\n",
      "Answer: 47\n",
      "(occurs(bus(home,school)),2) (occurs(rent_car(school)),1)\n",
      "OPTIMUM FOUND *\n",
      "Answer: 48\n",
      "(occurs(bus(home,school)),2) (occurs(call_taxi(coffeeshop)),1)\n",
      "OPTIMUM FOUND *\n",
      "Answer: 49\n",
      "(occurs(bus(home,school)),2) (occurs(call_taxi(airport1)),1)\n",
      "OPTIMUM FOUND *\n",
      "Answer: 50\n",
      "(occurs(bus(home,school)),2) (occurs(call_taxi(school)),1)\n",
      "OPTIMUM FOUND *\n",
      "Answer: 51\n",
      "(occurs(bus(home,school)),2) (occurs(rent_car(home)),1)\n",
      "OPTIMUM FOUND *\n",
      "Answer: 52\n",
      "(occurs(bus(home,school)),2) (occurs(buy_ticket(home,airport1)),1)\n",
      "OPTIMUM FOUND *\n",
      "Answer: 53\n",
      "(occurs(bus(home,school)),2) (occurs(rent_car(airport1)),1)\n",
      "OPTIMUM FOUND *\n",
      "Answer: 54\n",
      "(occurs(bus(home,school)),2) (occurs(call_taxi(airport2)),1)\n",
      "OPTIMUM FOUND *\n",
      "Answer: 55\n",
      "(occurs(bus(home,school)),2) (occurs(buy_ticket(airport1,airport2)),1)\n",
      "OPTIMUM FOUND *\n",
      "Answer: 56\n",
      "(occurs(bus(home,school)),2) (occurs(buy_ticket(school,home)),1)\n",
      "OPTIMUM FOUND *\n",
      "Answer: 57\n",
      "(occurs(bus(home,school)),2)\n",
      "OPTIMUM FOUND *\n",
      "Answer: 58\n",
      "(occurs(bus(home,school)),2) (occurs(buy_ticket(airport1,school)),1)\n",
      "OPTIMUM FOUND *\n",
      "Answer: 59\n",
      "(occurs(bus(home,school)),2) (occurs(buy_ticket(airport2,home)),1)\n",
      "OPTIMUM FOUND *\n",
      "Answer: 60\n",
      "(occurs(bus(home,school)),2) (occurs(buy_ticket(airport1,home)),1)\n",
      "OPTIMUM FOUND *\n",
      "Answer: 61\n",
      "(occurs(bus(home,school)),2) (occurs(buy_ticket(school,airport2)),1)\n",
      "OPTIMUM FOUND *\n",
      "Answer: 62\n",
      "(occurs(bus(home,school)),2) (occurs(buy_ticket(home,airport2)),1)\n",
      "OPTIMUM FOUND *\n",
      "Answer: 63\n",
      "(occurs(bus(home,school)),2) (occurs(buy_ticket(school,airport1)),1)\n",
      "OPTIMUM FOUND *\n",
      "Answer: 64\n",
      "(occurs(bus(home,school)),2) (occurs(buy_ticket(airport2,airport1)),1)\n",
      "OPTIMUM FOUND *\n",
      "Answer: 65\n",
      "(occurs(bus(home,school)),2) (occurs(buy_ticket(airport2,school)),1)\n",
      "OPTIMUM FOUND *\n",
      "Answer: 66\n",
      "(occurs(bus(home,school)),2) (occurs(rent_car(airport2)),1)\n",
      "OPTIMUM FOUND *\n",
      "Answer: 67\n",
      "(occurs(bus(home,school)),2) (occurs(buy_ticket(home,school)),1)\n",
      "OPTIMUM FOUND *\n",
      "Answer: 68\n",
      "(occurs(walk(coffeeshop,school)),2) (occurs(bus(home,coffeeshop)),1)\n",
      "OPTIMUM FOUND *\n",
      "Answer: 69\n",
      "(occurs(walk(coffeeshop,school)),2) (occurs(drive(home,coffeeshop)),1)\n",
      "OPTIMUM FOUND *\n",
      "Answer: 70\n",
      "(occurs(bus(coffeeshop,school)),2) (occurs(drive(home,coffeeshop)),1)\n",
      "OPTIMUM FOUND *\n",
      "Answer: 71\n",
      "(occurs(bus(home,coffeeshop)),1) (occurs(bus(coffeeshop,school)),2)\n",
      "OPTIMUM FOUND *\n",
      "Answer: 72\n",
      "(occurs(drive(home,school)),1) (occurs(stop),2)\n",
      "OPTIMUM FOUND *\n",
      "Answer: 73\n",
      "(occurs(bus(home,school)),1) (occurs(stop),2)\n",
      "OPTIMUM FOUND *\n",
      "Answer: 74\n",
      "(occurs(walk(home,school)),1) (occurs(stop),2)\n",
      "OPTIMUM FOUND *\n",
      "Answer: 75\n",
      "(occurs(walk(home,coffeeshop)),1) (occurs(bus(coffeeshop,school)),2)\n",
      "OPTIMUM FOUND *\n",
      "Answer: 76\n",
      "(occurs(walk(home,coffeeshop)),1) (occurs(walk(coffeeshop,school)),2)\n",
      "OPTIMUM FOUND *\n",
      "\n",
      "Models       : 76\n",
      "  Optimum    : yes\n",
      "  Optimal    : 76\n",
      "Calls        : 4\n",
      "Time         : 2.590s (Solving: 0.06s 1st Model: 0.03s Unsat: 0.00s)\n",
      "CPU Time     : 2.312s\n"
     ]
    }
   ],
   "source": [
    "!clingo travel/travel.lp travel/instances.lp travel/auxiliary.lp travel/pref-externals.lp 0 --output=reify | \\\n",
    " asprin - meta-telingo.lp travel/pref.lp meta-telingo-extension.lp -c horizon=2 0 "
   ]
  },
  {
   "cell_type": "markdown",
   "id": "66529283",
   "metadata": {},
   "source": [
    "→  The agent never calls a taxi home."
   ]
  },
  {
   "cell_type": "markdown",
   "id": "d160e983",
   "metadata": {},
   "source": [
    "**3. `always(¬available_taxi(home))`**"
   ]
  },
  {
   "cell_type": "markdown",
   "id": "35186e5a",
   "metadata": {},
   "source": [
    "→  \"*If for some reasons, the user’s desire is not to see any taxi around his home*\" (p.566)\""
   ]
  },
  {
   "cell_type": "markdown",
   "id": "8ab33f37",
   "metadata": {},
   "source": [
    "Preference with asprin: "
   ]
  },
  {
   "cell_type": "code",
   "execution_count": 68,
   "id": "49bad6cf",
   "metadata": {},
   "outputs": [
    {
     "name": "stdout",
     "output_type": "stream",
     "text": [
      "Overwriting travel/pref.lp\n"
     ]
    }
   ],
   "source": [
    "%%file travel/pref.lp\n",
    "\n",
    "#optimize(p3).\n",
    "\n",
    "% (P3) always(¬available_taxi(home)) -> p. 566.\n",
    "#preference(p3,more(cardinality)){\n",
    "    and(initially, always(negation(holds(available_taxi(home)))))\n",
    "}."
   ]
  },
  {
   "cell_type": "code",
   "execution_count": 69,
   "id": "54397e90",
   "metadata": {},
   "outputs": [
    {
     "name": "stdout",
     "output_type": "stream",
     "text": [
      "asprin version 3.1.1\n",
      "Reading from - ...\n",
      "Solving...\n",
      "Answer: 1\n",
      "(occurs(walk(home,school)),2) (occurs(rent_car(home)),1)\n",
      "OPTIMUM FOUND\n",
      "Answer: 2\n",
      "(occurs(walk(home,school)),2) (occurs(buy_ticket(airport1,airport2)),1)\n",
      "OPTIMUM FOUND *\n",
      "Answer: 3\n",
      "(occurs(walk(home,school)),2) (occurs(rent_car(coffeeshop)),1)\n",
      "OPTIMUM FOUND *\n",
      "Answer: 4\n",
      "(occurs(walk(home,school)),2) (occurs(buy_ticket(school,home)),1)\n",
      "OPTIMUM FOUND *\n",
      "Answer: 5\n",
      "(occurs(walk(home,school)),2) (occurs(rent_car(school)),1)\n",
      "OPTIMUM FOUND *\n",
      "Answer: 6\n",
      "(occurs(walk(home,school)),2) (occurs(call_taxi(coffeeshop)),1)\n",
      "OPTIMUM FOUND *\n",
      "Answer: 7\n",
      "(occurs(walk(home,school)),2) (occurs(call_taxi(airport1)),1)\n",
      "OPTIMUM FOUND *\n",
      "Answer: 8\n",
      "(occurs(walk(home,school)),2) (occurs(call_taxi(school)),1)\n",
      "OPTIMUM FOUND *\n",
      "Answer: 9\n",
      "(occurs(walk(home,school)),2) (occurs(rent_car(airport1)),1)\n",
      "OPTIMUM FOUND *\n",
      "Answer: 10\n",
      "(occurs(walk(home,school)),2) (occurs(call_taxi(airport2)),1)\n",
      "OPTIMUM FOUND *\n",
      "Answer: 11\n",
      "(occurs(walk(home,school)),2)\n",
      "OPTIMUM FOUND *\n",
      "Answer: 12\n",
      "(occurs(walk(home,school)),2) (occurs(rent_car(airport2)),1)\n",
      "OPTIMUM FOUND *\n",
      "Answer: 13\n",
      "(occurs(walk(home,school)),2) (occurs(buy_ticket(home,airport1)),1)\n",
      "OPTIMUM FOUND *\n",
      "Answer: 14\n",
      "(occurs(walk(home,school)),2) (occurs(buy_ticket(airport1,school)),1)\n",
      "OPTIMUM FOUND *\n",
      "Answer: 15\n",
      "(occurs(walk(home,school)),2) (occurs(buy_ticket(airport2,home)),1)\n",
      "OPTIMUM FOUND *\n",
      "Answer: 16\n",
      "(occurs(walk(home,school)),2) (occurs(buy_ticket(airport1,home)),1)\n",
      "OPTIMUM FOUND *\n",
      "Answer: 17\n",
      "(occurs(walk(home,school)),2) (occurs(buy_ticket(school,airport2)),1)\n",
      "OPTIMUM FOUND *\n",
      "Answer: 18\n",
      "(occurs(walk(home,school)),2) (occurs(buy_ticket(home,airport2)),1)\n",
      "OPTIMUM FOUND *\n",
      "Answer: 19\n",
      "(occurs(walk(home,school)),2) (occurs(buy_ticket(school,airport1)),1)\n",
      "OPTIMUM FOUND *\n",
      "Answer: 20\n",
      "(occurs(walk(home,school)),2) (occurs(buy_ticket(airport2,airport1)),1)\n",
      "OPTIMUM FOUND *\n",
      "Answer: 21\n",
      "(occurs(walk(home,school)),2) (occurs(buy_ticket(airport2,school)),1)\n",
      "OPTIMUM FOUND *\n",
      "Answer: 22\n",
      "(occurs(walk(home,school)),2) (occurs(buy_ticket(home,school)),1)\n",
      "OPTIMUM FOUND *\n",
      "Answer: 23\n",
      "(occurs(flight(home,school)),2) (occurs(buy_ticket(home,school)),1)\n",
      "OPTIMUM FOUND *\n",
      "Answer: 24\n",
      "(occurs(rent_car(coffeeshop)),1) (occurs(drive(home,school)),2)\n",
      "OPTIMUM FOUND *\n",
      "Answer: 25\n",
      "(occurs(rent_car(school)),1) (occurs(drive(home,school)),2)\n",
      "OPTIMUM FOUND *\n",
      "Answer: 26\n",
      "(occurs(call_taxi(coffeeshop)),1) (occurs(drive(home,school)),2)\n",
      "OPTIMUM FOUND *\n",
      "Answer: 27\n",
      "(occurs(call_taxi(airport1)),1) (occurs(drive(home,school)),2)\n",
      "OPTIMUM FOUND *\n",
      "Answer: 28\n",
      "(occurs(call_taxi(school)),1) (occurs(drive(home,school)),2)\n",
      "OPTIMUM FOUND *\n",
      "Answer: 29\n",
      "(occurs(rent_car(home)),1) (occurs(drive(home,school)),2)\n",
      "OPTIMUM FOUND *\n",
      "Answer: 30\n",
      "(occurs(drive(home,school)),2) (occurs(buy_ticket(home,airport1)),1)\n",
      "OPTIMUM FOUND *\n",
      "Answer: 31\n",
      "(occurs(rent_car(airport1)),1) (occurs(drive(home,school)),2)\n",
      "OPTIMUM FOUND *\n",
      "Answer: 32\n",
      "(occurs(call_taxi(airport2)),1) (occurs(drive(home,school)),2)\n",
      "OPTIMUM FOUND *\n",
      "Answer: 33\n",
      "(occurs(drive(home,school)),2) (occurs(buy_ticket(airport1,airport2)),1)\n",
      "OPTIMUM FOUND *\n",
      "Answer: 34\n",
      "(occurs(drive(home,school)),2) (occurs(buy_ticket(school,home)),1)\n",
      "OPTIMUM FOUND *\n",
      "Answer: 35\n",
      "(occurs(drive(home,school)),2)\n",
      "OPTIMUM FOUND *\n",
      "Answer: 36\n",
      "(occurs(drive(home,school)),2) (occurs(buy_ticket(airport1,school)),1)\n",
      "OPTIMUM FOUND *\n",
      "Answer: 37\n",
      "(occurs(drive(home,school)),2) (occurs(buy_ticket(airport2,home)),1)\n",
      "OPTIMUM FOUND *\n",
      "Answer: 38\n",
      "(occurs(drive(home,school)),2) (occurs(buy_ticket(airport1,home)),1)\n",
      "OPTIMUM FOUND *\n",
      "Answer: 39\n",
      "(occurs(drive(home,school)),2) (occurs(buy_ticket(school,airport2)),1)\n",
      "OPTIMUM FOUND *\n",
      "Answer: 40\n",
      "(occurs(drive(home,school)),2) (occurs(buy_ticket(home,airport2)),1)\n",
      "OPTIMUM FOUND *\n",
      "Answer: 41\n",
      "(occurs(drive(home,school)),2) (occurs(buy_ticket(school,airport1)),1)\n",
      "OPTIMUM FOUND *\n",
      "Answer: 42\n",
      "(occurs(drive(home,school)),2) (occurs(buy_ticket(airport2,airport1)),1)\n",
      "OPTIMUM FOUND *\n",
      "Answer: 43\n",
      "(occurs(drive(home,school)),2) (occurs(buy_ticket(airport2,school)),1)\n",
      "OPTIMUM FOUND *\n",
      "Answer: 44\n",
      "(occurs(rent_car(airport2)),1) (occurs(drive(home,school)),2)\n",
      "OPTIMUM FOUND *\n",
      "Answer: 45\n",
      "(occurs(drive(home,school)),2) (occurs(buy_ticket(home,school)),1)\n",
      "OPTIMUM FOUND *\n",
      "Answer: 46\n",
      "(occurs(bus(home,school)),2) (occurs(rent_car(coffeeshop)),1)\n",
      "OPTIMUM FOUND *\n",
      "Answer: 47\n",
      "(occurs(bus(home,school)),2) (occurs(rent_car(school)),1)\n",
      "OPTIMUM FOUND *\n",
      "Answer: 48\n",
      "(occurs(bus(home,school)),2) (occurs(call_taxi(coffeeshop)),1)\n",
      "OPTIMUM FOUND *\n",
      "Answer: 49\n",
      "(occurs(bus(home,school)),2) (occurs(call_taxi(airport1)),1)\n",
      "OPTIMUM FOUND *\n",
      "Answer: 50\n",
      "(occurs(bus(home,school)),2) (occurs(call_taxi(school)),1)\n",
      "OPTIMUM FOUND *\n",
      "Answer: 51\n",
      "(occurs(bus(home,school)),2) (occurs(rent_car(home)),1)\n",
      "OPTIMUM FOUND *\n",
      "Answer: 52\n",
      "(occurs(bus(home,school)),2) (occurs(buy_ticket(home,airport1)),1)\n",
      "OPTIMUM FOUND *\n",
      "Answer: 53\n",
      "(occurs(bus(home,school)),2) (occurs(rent_car(airport1)),1)\n",
      "OPTIMUM FOUND *\n",
      "Answer: 54\n",
      "(occurs(bus(home,school)),2) (occurs(call_taxi(airport2)),1)\n",
      "OPTIMUM FOUND *\n",
      "Answer: 55\n",
      "(occurs(bus(home,school)),2) (occurs(buy_ticket(airport1,airport2)),1)\n",
      "OPTIMUM FOUND *\n",
      "Answer: 56\n",
      "(occurs(bus(home,school)),2) (occurs(buy_ticket(school,home)),1)\n",
      "OPTIMUM FOUND *\n",
      "Answer: 57\n",
      "(occurs(bus(home,school)),2)\n",
      "OPTIMUM FOUND *\n",
      "Answer: 58\n",
      "(occurs(bus(home,school)),2) (occurs(buy_ticket(airport1,school)),1)\n",
      "OPTIMUM FOUND *\n",
      "Answer: 59\n",
      "(occurs(bus(home,school)),2) (occurs(buy_ticket(airport2,home)),1)\n",
      "OPTIMUM FOUND *\n",
      "Answer: 60\n",
      "(occurs(bus(home,school)),2) (occurs(buy_ticket(airport1,home)),1)\n",
      "OPTIMUM FOUND *\n",
      "Answer: 61\n",
      "(occurs(bus(home,school)),2) (occurs(buy_ticket(school,airport2)),1)\n",
      "OPTIMUM FOUND *\n",
      "Answer: 62\n",
      "(occurs(bus(home,school)),2) (occurs(buy_ticket(home,airport2)),1)\n",
      "OPTIMUM FOUND *\n",
      "Answer: 63\n",
      "(occurs(bus(home,school)),2) (occurs(buy_ticket(school,airport1)),1)\n",
      "OPTIMUM FOUND *\n",
      "Answer: 64\n",
      "(occurs(bus(home,school)),2) (occurs(buy_ticket(airport2,airport1)),1)\n",
      "OPTIMUM FOUND *\n",
      "Answer: 65\n",
      "(occurs(bus(home,school)),2) (occurs(buy_ticket(airport2,school)),1)\n",
      "OPTIMUM FOUND *\n",
      "Answer: 66\n",
      "(occurs(bus(home,school)),2) (occurs(rent_car(airport2)),1)\n",
      "OPTIMUM FOUND *\n",
      "Answer: 67\n",
      "(occurs(bus(home,school)),2) (occurs(buy_ticket(home,school)),1)\n",
      "OPTIMUM FOUND *\n",
      "Answer: 68\n",
      "(occurs(walk(coffeeshop,school)),2) (occurs(bus(home,coffeeshop)),1)\n",
      "OPTIMUM FOUND *\n",
      "Answer: 69\n",
      "(occurs(walk(coffeeshop,school)),2) (occurs(drive(home,coffeeshop)),1)\n",
      "OPTIMUM FOUND *\n",
      "Answer: 70\n",
      "(occurs(bus(coffeeshop,school)),2) (occurs(drive(home,coffeeshop)),1)\n",
      "OPTIMUM FOUND *\n",
      "Answer: 71\n",
      "(occurs(bus(home,coffeeshop)),1) (occurs(bus(coffeeshop,school)),2)\n",
      "OPTIMUM FOUND *\n",
      "Answer: 72\n",
      "(occurs(drive(home,school)),1) (occurs(stop),2)\n",
      "OPTIMUM FOUND *\n",
      "Answer: 73\n",
      "(occurs(bus(home,school)),1) (occurs(stop),2)\n",
      "OPTIMUM FOUND *\n",
      "Answer: 74\n",
      "(occurs(walk(home,school)),1) (occurs(stop),2)\n",
      "OPTIMUM FOUND *\n",
      "Answer: 75\n",
      "(occurs(walk(home,coffeeshop)),1) (occurs(bus(coffeeshop,school)),2)\n",
      "OPTIMUM FOUND *\n",
      "Answer: 76\n",
      "(occurs(walk(home,coffeeshop)),1) (occurs(walk(coffeeshop,school)),2)\n",
      "OPTIMUM FOUND *\n",
      "\n",
      "Models       : 76\n",
      "  Optimum    : yes\n",
      "  Optimal    : 76\n",
      "Calls        : 4\n",
      "Time         : 2.535s (Solving: 0.05s 1st Model: 0.03s Unsat: 0.00s)\n",
      "CPU Time     : 2.391s\n"
     ]
    }
   ],
   "source": [
    "!clingo travel/travel.lp travel/instances.lp travel/auxiliary.lp travel/pref-externals.lp 0 --output=reify | \\\n",
    " asprin - meta-telingo.lp travel/pref.lp meta-telingo-extension.lp -c horizon=2 0 "
   ]
  },
  {
   "cell_type": "markdown",
   "id": "40f0e811",
   "metadata": {},
   "source": [
    "→  This returns the same models as before (no taxi is available at the home if it is not called)."
   ]
  },
  {
   "cell_type": "markdown",
   "id": "1bcaf9b1",
   "metadata": {},
   "source": [
    "**4. `goal(has_coffee)`** "
   ]
  },
  {
   "cell_type": "markdown",
   "id": "7d28c191",
   "metadata": {},
   "source": [
    "→  \"*Let us enrich the action theory of Example 2 with an action called buy_coffee, which allows one to have coffee, i.e, the fluent has coffee becomes true. The coffee is not free, i.e., the agent will have to pay some money if he buys coffee. This action can only be executed at the nearby Starbucks shop. [...] Any plan satisfying this preference requires the agent to stop at the Starbucks shop before going to school. For example, while s0 walk(home, school) s1, where s0 and s1 denote the initial state (the agent is at home) and the final state (the agent is at school), respectively, is a valid trajectory for the agent to achieve his goal, this is not a most preferred trajectory; instead, the agent has to go to the Starbucks shop, buy the coffee, and then go to school. Besides the action of buy coffee that is needed for him to get the coffee, the most preferred trajectory requires the action of going to the coffee shop, which is not necessary if he does not have the preference of having the coffee*\" (p.568-569)"
   ]
  },
  {
   "cell_type": "markdown",
   "id": "6db5b1bb",
   "metadata": {},
   "source": [
    "We already altered `travel/travel.lp` and added: \n",
    "    \n",
    "`action(buy_coffee).`\n",
    "\n",
    "`eff(buy_coffee, has_coffee, true) :- action(buy_coffee).`\n",
    "\n",
    "`prec(buy_coffee, has_money, true) :- action(buy_coffee).`\n",
    "\n",
    "`prec(buy_coffee, at(coffeeshop), true) :- action(buy_coffee).`\n",
    "\n",
    "`wnext(executable(buy_coffee)) :- holds(at(coffeeshop)), holds(has_money).`"
   ]
  },
  {
   "cell_type": "markdown",
   "id": "08c337e8",
   "metadata": {},
   "source": [
    "We can encode the preference to have coffee as:"
   ]
  },
  {
   "cell_type": "markdown",
   "id": "05a27c28",
   "metadata": {},
   "source": [
    "In `travel/auxiliary.lp`: \n",
    "    \n",
    "`p4_aux :- finally, holds(has_coffee).`"
   ]
  },
  {
   "cell_type": "code",
   "execution_count": 77,
   "id": "6a528846",
   "metadata": {},
   "outputs": [
    {
     "name": "stdout",
     "output_type": "stream",
     "text": [
      "Overwriting travel/pref.lp\n"
     ]
    }
   ],
   "source": [
    "%%file travel/pref.lp\n",
    "\n",
    "#optimize(p4).\n",
    "\n",
    "% (P4) goal(has_coffee). -> p. 569\n",
    "#preference(p4,more(cardinality)){\n",
    "    eventually(p4_aux)\n",
    "}."
   ]
  },
  {
   "cell_type": "code",
   "execution_count": 79,
   "id": "6d922ff3",
   "metadata": {},
   "outputs": [
    {
     "name": "stdout",
     "output_type": "stream",
     "text": [
      "asprin version 3.1.1\n",
      "Reading from - ...\n",
      "Solving...\n",
      "Answer: 1\n",
      "(occurs(walk(home,school)),3) (occurs(buy_ticket(home,airport1)),2) (occurs(buy_ticket(airport2,home)),1)\n",
      "Answer: 2\n",
      "(occurs(buy_coffee),2) (occurs(walk(coffeeshop,school)),3) (occurs(drive(home,coffeeshop)),1)\n",
      "OPTIMUM FOUND\n",
      "Answer: 3\n",
      "(occurs(buy_coffee),2) (occurs(walk(home,coffeeshop)),1) (occurs(bus(coffeeshop,school)),3)\n",
      "OPTIMUM FOUND *\n",
      "Answer: 4\n",
      "(occurs(buy_coffee),2) (occurs(walk(home,coffeeshop)),1) (occurs(walk(coffeeshop,school)),3)\n",
      "OPTIMUM FOUND *\n",
      "Answer: 5\n",
      "(occurs(buy_coffee),2) (occurs(bus(home,coffeeshop)),1) (occurs(bus(coffeeshop,school)),3)\n",
      "OPTIMUM FOUND *\n",
      "Answer: 6\n",
      "(occurs(buy_coffee),2) (occurs(walk(coffeeshop,school)),3) (occurs(bus(home,coffeeshop)),1)\n",
      "OPTIMUM FOUND *\n",
      "Answer: 7\n",
      "(occurs(buy_coffee),2) (occurs(bus(coffeeshop,school)),3) (occurs(drive(home,coffeeshop)),1)\n",
      "OPTIMUM FOUND *\n",
      "\n",
      "Models       : 7\n",
      "  Optimum    : yes\n",
      "  Optimal    : 6\n",
      "Calls        : 5\n",
      "Time         : 2.845s (Solving: 0.07s 1st Model: 0.06s Unsat: 0.00s)\n",
      "CPU Time     : 2.703s\n"
     ]
    }
   ],
   "source": [
    "!clingo travel/travel.lp travel/instances.lp travel/auxiliary.lp travel/pref-externals.lp 0 --output=reify | \\\n",
    " asprin - meta-telingo.lp travel/pref.lp meta-telingo-extension.lp -c horizon=3 0 "
   ]
  },
  {
   "cell_type": "markdown",
   "id": "dd09ca4c",
   "metadata": {},
   "source": [
    "→ Only those trajectories containing `occurs(buy(coffee))` are optimal. "
   ]
  },
  {
   "cell_type": "markdown",
   "id": "725fdf5c",
   "metadata": {},
   "source": [
    "### Atomic Preferences "
   ]
  },
  {
   "cell_type": "markdown",
   "id": "ef667cad",
   "metadata": {},
   "source": [
    "Important Definitions (p. 569):"
   ]
  },
  {
   "cell_type": "markdown",
   "id": "f7fbf3e6",
   "metadata": {},
   "source": [
    "### Desire Types in Temporal Preferences\n",
    "\n",
    "- **Strong Desire**:  \n",
    "  Given the basic desire formulae $ϕ_1$, $ϕ_2$, the preference $ϕ_1 < ϕ_2$ denotes  \n",
    "  $ϕ_1 \\land \\lnot ϕ_2$.\n",
    "\n",
    "- **Weak Desire**:  \n",
    "  Given the basic desire formulae $ϕ_1$, $ϕ_2$, the preference $ϕ_1 <^w ϕ_2$ denotes  \n",
    "  $ϕ_1 \\lor \\lnot ϕ_2$.\n",
    "\n",
    "- **Enabled Desire**:  \n",
    "  Given two actions $a_1$, $a_2$, the preference $a_1 <^e a_2$ denotes:\n",
    "\n",
    "$$\n",
    "(\\text{executable}(a_1) \\land \\text{executable}(a_2)) \\Rightarrow (\\text{occ}(a_1) < \\text{occ}(a_2))\n",
    "$$\n",
    "\n",
    "where:\n",
    "\n",
    "$$\n",
    "\\text{executable}(a) = \\bigvee_{a \\text{ executable_if } p_1, \\dots, p_k} p_1 \\land \\dots \\land p_k\n",
    "$$\n"
   ]
  },
  {
   "cell_type": "markdown",
   "id": "4114eea7",
   "metadata": {},
   "source": [
    "→ \"*Let us continue with our travel domain. Again, let us assume that the agent is at home and he wants to go to school. To simplify the representation, we will write bus, taxi, drive, and walk to say that the agent takes the bus, taxi, drive, or walk to school, respectively. The following is a desire expressing that the agent prefers to get the fastest possible way to go to school (assume that both driving and taking the bus require about the same amount of time to reach the school:*\" (p. 570)"
   ]
  },
  {
   "cell_type": "markdown",
   "id": "ff1a0f4f",
   "metadata": {},
   "source": [
    "**5. `time = always(taxi <e (drive ∨ bus) <e walk)`** "
   ]
  },
  {
   "cell_type": "markdown",
   "id": "cce27314",
   "metadata": {},
   "source": [
    "This preference can be translated with a single temporal formula, considering the definition for **enabled desire** above:"
   ]
  },
  {
   "cell_type": "markdown",
   "id": "7c35c050",
   "metadata": {},
   "source": [
    "In `travel/auxiliary.lp`: \n",
    "    \n",
    "`% (time) time = always(taxi <e (drive|bus) <e walk) -> p. 570`\n",
    "\n",
    "`always(time_aux) :- initially, \n",
    "always(and(if(and(executable(take_taxi), or(executable(drive), executable(bus))), and(occurs(take_taxi), negation(or(occurs(drive), \n",
    "occurs(bus))))), if(and(or(executable(drive), executable(bus)), executable(walk)), and(or(occurs(drive), occurs(bus)), negation(occurs(walk)))))).`"
   ]
  },
  {
   "cell_type": "markdown",
   "id": "9a1101ee",
   "metadata": {},
   "source": [
    "This formula represents the intersection of these two parts:\n",
    "    \n",
    "**(1) `taxi <e (drive ∨ bus)`** : `if(and(executable(take_taxi), or(executable(drive), executable(bus))), and(occurs(take_taxi), negation(or(occurs(drive), occurs(bus)))))`\n",
    "\n",
    " → If both taking a taxi and driving or taking a bus is executable, to satisfy the formula, the agent has to take the taxi and not the car or the bus. The formula is also satisfied if taking the taxi or driving and taking the bus is not executable. \n",
    "    \n",
    "**(2) `(drive|bus) <e walk)`**: `if(and(or(executable(drive), executable(bus)), executable(walk)), and(or(occurs(drive), occurs(bus)), negation(occurs(walk)))))`\n",
    "\n",
    " → If both driving or taking the bus and walking is executable, to satisfy the formula, the agent has to drive or take the bus, not walk. The formula is also satisfied if driving or taking the bus or walking is not executable.\n",
    " \n",
    " → For the whole formula (see above, always(time_aux)) to be satisfied, (1) and (2) must be true since it is an intersection of both. "
   ]
  },
  {
   "cell_type": "code",
   "execution_count": 86,
   "id": "b512599b",
   "metadata": {},
   "outputs": [
    {
     "name": "stdout",
     "output_type": "stream",
     "text": [
      "Overwriting travel/pref.lp\n"
     ]
    }
   ],
   "source": [
    "%%file travel/pref.lp\n",
    "\n",
    "#optimize(time).\n",
    "\n",
    "%(time) time = always(taxi <e (drive|bus) <e walk) -> p. 570\n",
    "#preference(time, more(cardinality)){\n",
    "    and(initially, always(time_aux))\n",
    "}."
   ]
  },
  {
   "cell_type": "code",
   "execution_count": 87,
   "id": "09ae458e",
   "metadata": {},
   "outputs": [
    {
     "name": "stdout",
     "output_type": "stream",
     "text": [
      "asprin version 3.1.1\n",
      "Reading from - ...\n",
      "Solving...\n",
      "Answer: 1\n",
      "(occurs(walk(home,school)),2) (occurs(rent_car(home)),1)\n",
      "Answer: 2\n",
      "(occurs(bus(coffeeshop,school)),2) (occurs(drive(home,coffeeshop)),1)\n",
      "OPTIMUM FOUND\n",
      "Answer: 3\n",
      "(occurs(bus(home,coffeeshop)),1) (occurs(bus(coffeeshop,school)),2)\n",
      "OPTIMUM FOUND *\n",
      "\n",
      "Models       : 3\n",
      "  Optimum    : yes\n",
      "  Optimal    : 2\n",
      "Calls        : 5\n",
      "Time         : 2.538s (Solving: 0.02s 1st Model: 0.02s Unsat: 0.00s)\n",
      "CPU Time     : 2.297s\n"
     ]
    }
   ],
   "source": [
    "!clingo travel/travel.lp travel/instances.lp travel/auxiliary.lp travel/pref-externals.lp 0 --output=reify | \\\n",
    " asprin - meta-telingo.lp travel/pref.lp meta-telingo-extension.lp -c horizon=2 0"
   ]
  },
  {
   "cell_type": "markdown",
   "id": "7ea7c973",
   "metadata": {},
   "source": [
    "→ Taking the bus and or the car is preferred over walking. Note that taking the taxi is not part of a preferred trajectory since a taxi has to be called first, which would not satisfy the formula: Since all, taking a bus, driving, and walking are executable, the agent has to take a bus or drive (2). Since taxi is not (yet) executable, (1) is satisfied anyways. "
   ]
  },
  {
   "cell_type": "markdown",
   "id": "e8a731cb",
   "metadata": {},
   "source": [
    "**6. `cost = always(walk <e (drive ∨ bus) <e taxi)`** "
   ]
  },
  {
   "cell_type": "markdown",
   "id": "4ac6bccf",
   "metadata": {},
   "source": [
    "→ \"*On the other hand, when the agent is not in a hurry, he/she prefers to get the cheaper way to go to school (assume that driving and taking the bus cost about the same amount of money)*\" (p.571)"
   ]
  },
  {
   "cell_type": "markdown",
   "id": "920db53b",
   "metadata": {},
   "source": [
    "We can again express this with a temporal formula in ASP, parallel to preference 5.: "
   ]
  },
  {
   "cell_type": "markdown",
   "id": "edca78ac",
   "metadata": {},
   "source": [
    "In `travel/auxiliary.lp`: \n",
    "    \n",
    "`% (cost) cost = always(walk <e (drive|bus) <e taxi) -> p. 571\n",
    "always(cost_aux) :- initially, \n",
    "always(and(if(and(executable(walk), or(executable(drive), executable(bus))),\n",
    "and(occurs(walk), negation(or(occurs(drive), occurs(bus))))), if(and(or(executable(drive), executable(bus)), executable(take_taxi)), and(or(occurs(drive), occurs(bus)), negation(occurs(take_taxi)))))).`"
   ]
  },
  {
   "cell_type": "code",
   "execution_count": 88,
   "id": "083c093f",
   "metadata": {},
   "outputs": [
    {
     "name": "stdout",
     "output_type": "stream",
     "text": [
      "Overwriting travel/pref.lp\n"
     ]
    }
   ],
   "source": [
    "%%file travel/pref.lp\n",
    "\n",
    "#optimize(cost).\n",
    "\n",
    "% (cost) cost = always(walk <e (drive|bus) <e taxi) -> p. 571\n",
    "#preference(cost, more(cardinality)){\n",
    "    and(initially, always(cost_aux))\n",
    "}."
   ]
  },
  {
   "cell_type": "code",
   "execution_count": 89,
   "id": "bb2ece65",
   "metadata": {},
   "outputs": [
    {
     "name": "stdout",
     "output_type": "stream",
     "text": [
      "asprin version 3.1.1\n",
      "Reading from - ...\n",
      "Solving...\n",
      "Answer: 1\n",
      "(occurs(walk(home,school)),1)\n",
      "OPTIMUM FOUND\n",
      "\n",
      "Models       : 1\n",
      "  Optimum    : yes\n",
      "  Optimal    : 1\n",
      "Calls        : 4\n",
      "Time         : 2.389s (Solving: 0.00s 1st Model: 0.00s Unsat: 0.00s)\n",
      "CPU Time     : 2.188s\n"
     ]
    }
   ],
   "source": [
    "!clingo travel/travel.lp travel/instances.lp travel/auxiliary.lp travel/pref-externals.lp 0 --output=reify | \\\n",
    " asprin - meta-telingo.lp travel/pref.lp meta-telingo-extension.lp -c horizon=1 0"
   ]
  },
  {
   "cell_type": "markdown",
   "id": "f150975a",
   "metadata": {},
   "source": [
    " → Walking is the cheapest option. "
   ]
  },
  {
   "cell_type": "markdown",
   "id": "4b26092b",
   "metadata": {},
   "source": [
    "**7. `comfort = always(flight <e (drive ∨ bus) <e walk)`** "
   ]
  },
  {
   "cell_type": "markdown",
   "id": "77daabf9",
   "metadata": {},
   "source": [
    "This is, again, parallel to 5 and 6: "
   ]
  },
  {
   "cell_type": "markdown",
   "id": "6e070e74",
   "metadata": {},
   "source": [
    "In `travel/auxiliary.lp`: \n",
    "    \n",
    "`% (comfort) comfort = always(flight <e (drive|bus) <e walk) -> p. 573`\n",
    "\n",
    "`always(comfort_aux) :- initially, \n",
    "always(and(if(and(executable(flight), or(executable(drive), executable(bus))), and(occurs(flight), negation(or(occurs(drive), occurs(bus))))), if(and(or(executable(drive), executable(bus)),\n",
    "executable(walk)), and(or(occurs(drive), occurs(bus)), negation(occurs(walk)))))).`"
   ]
  },
  {
   "cell_type": "code",
   "execution_count": 90,
   "id": "9830ddf3",
   "metadata": {},
   "outputs": [
    {
     "name": "stdout",
     "output_type": "stream",
     "text": [
      "Overwriting travel/pref.lp\n"
     ]
    }
   ],
   "source": [
    "%%file travel/pref.lp\n",
    "\n",
    "#optimize(comfort).\n",
    "\n",
    "% (comfort) comfort = always(flight <e (drive|bus) <e walk) -> p. 573\n",
    "#preference(comfort, more(cardinality)){\n",
    "    and(initially, always(comfort_aux))\n",
    "}.\n"
   ]
  },
  {
   "cell_type": "code",
   "execution_count": 91,
   "id": "5101de09",
   "metadata": {},
   "outputs": [
    {
     "name": "stdout",
     "output_type": "stream",
     "text": [
      "asprin version 3.1.1\n",
      "Reading from - ...\n",
      "Solving...\n",
      "Answer: 1\n",
      "(occurs(walk(home,school)),2) (occurs(rent_car(home)),1)\n",
      "Answer: 2\n",
      "(occurs(bus(coffeeshop,school)),2) (occurs(drive(home,coffeeshop)),1)\n",
      "OPTIMUM FOUND\n",
      "Answer: 3\n",
      "(occurs(bus(home,coffeeshop)),1) (occurs(bus(coffeeshop,school)),2)\n",
      "OPTIMUM FOUND *\n",
      "\n",
      "Models       : 3\n",
      "  Optimum    : yes\n",
      "  Optimal    : 2\n",
      "Calls        : 5\n",
      "Time         : 2.373s (Solving: 0.03s 1st Model: 0.02s Unsat: 0.00s)\n",
      "CPU Time     : 2.281s\n"
     ]
    }
   ],
   "source": [
    "!clingo travel/travel.lp travel/instances.lp travel/auxiliary.lp travel/pref-externals.lp 0 --output=reify | \\\n",
    " asprin - meta-telingo.lp travel/pref.lp meta-telingo-extension.lp -c horizon=2 0"
   ]
  },
  {
   "cell_type": "markdown",
   "id": "4c55d70d",
   "metadata": {},
   "source": [
    "→ Again, taking the bus and or the car is preferred over walking. Note that taking a flight is **not** part of a preferred trajectory since tickets have to be bought first, which would not satisfy the second part of the temporal formula (`(drive|bus) <e walk`). "
   ]
  },
  {
   "cell_type": "markdown",
   "id": "1bc988fc",
   "metadata": {},
   "source": [
    "**8. `safety = always(walk <e flight <e (drive ∨ bus)).`** "
   ]
  },
  {
   "cell_type": "markdown",
   "id": "de3860f8",
   "metadata": {},
   "source": [
    "In `travel/auxiliary.lp`: \n",
    "    \n",
    "`% (safety) safety = always(walk <e flight <e (drive | bus)). -> p. 573`\n",
    "\n",
    "`always(safety_aux) :- initially, \n",
    "always(and(if(and(executable(walk), executable(flight)), and(occurs(walk), negation(flight))), if(and(executable(flight), or(executable(drive), executable(bus))), and(occurs(flight), negation(or(occurs(drive), occurs(bus))))))).`"
   ]
  },
  {
   "cell_type": "code",
   "execution_count": 92,
   "id": "31d969f5",
   "metadata": {},
   "outputs": [
    {
     "name": "stdout",
     "output_type": "stream",
     "text": [
      "Overwriting travel/pref.lp\n"
     ]
    }
   ],
   "source": [
    "%%file travel/pref.lp\n",
    "\n",
    "#optimize(safety).\n",
    "\n",
    "% (safety) safety = always(walk <e flight <e (drive | bus)). -> p. 573\n",
    "#preference(safety, more(cardinality)){\n",
    "    and(initially, always(safety_aux))\n",
    "}.\n"
   ]
  },
  {
   "cell_type": "code",
   "execution_count": 93,
   "id": "999464ac",
   "metadata": {},
   "outputs": [
    {
     "name": "stdout",
     "output_type": "stream",
     "text": [
      "asprin version 3.1.1\n",
      "Reading from - ...\n",
      "Solving...\n",
      "Answer: 1\n",
      "(occurs(walk(home,school)),1)\n",
      "OPTIMUM FOUND\n",
      "Answer: 2\n",
      "(occurs(bus(home,school)),1)\n",
      "OPTIMUM FOUND *\n",
      "Answer: 3\n",
      "(occurs(drive(home,school)),1)\n",
      "OPTIMUM FOUND *\n",
      "\n",
      "Models       : 3\n",
      "  Optimum    : yes\n",
      "  Optimal    : 3\n",
      "Calls        : 4\n",
      "Time         : 2.395s (Solving: 0.01s 1st Model: 0.00s Unsat: 0.00s)\n",
      "CPU Time     : 2.188s\n"
     ]
    }
   ],
   "source": [
    "!clingo travel/travel.lp travel/instances.lp travel/auxiliary.lp travel/pref-externals.lp 0 --output=reify | \\\n",
    " asprin - meta-telingo.lp travel/pref.lp meta-telingo-extension.lp -c horizon=1 0"
   ]
  },
  {
   "cell_type": "markdown",
   "id": "7d0e7eba",
   "metadata": {},
   "source": [
    "→ Since flight is never executable in trajectories with `horizon=1`, the temporal formula is always true, meaning all models are optimal."
   ]
  },
  {
   "cell_type": "code",
   "execution_count": 94,
   "id": "9836df1c",
   "metadata": {},
   "outputs": [
    {
     "name": "stdout",
     "output_type": "stream",
     "text": [
      "asprin version 3.1.1\n",
      "Reading from - ...\n",
      "Solving...\n",
      "Answer: 1\n",
      "(occurs(walk(home,school)),3) (occurs(buy_ticket(home,airport1)),2) (occurs(buy_ticket(airport2,home)),1)\n",
      "OPTIMUM FOUND\n",
      "Answer: 2\n",
      "(occurs(bus(home,school)),3) (occurs(bus(coffeeshop,home)),2) (occurs(drive(home,coffeeshop)),1)\n",
      "OPTIMUM FOUND *\n",
      "Answer: 3\n",
      "(occurs(walk(coffeeshop,home)),2) (occurs(bus(home,school)),3) (occurs(drive(home,coffeeshop)),1)\n",
      "OPTIMUM FOUND *\n",
      "Answer: 4\n",
      "(occurs(walk(home,school)),3) (occurs(walk(coffeeshop,home)),2) (occurs(drive(home,coffeeshop)),1)\n",
      "OPTIMUM FOUND *\n",
      "Answer: 5\n",
      "(occurs(bus(coffeeshop,school)),2) (occurs(drive(home,coffeeshop)),1) (occurs(stop),3)\n",
      "OPTIMUM FOUND *\n",
      "Answer: 6\n",
      "(occurs(walk(home,school)),3) (occurs(bus(coffeeshop,home)),2) (occurs(drive(home,coffeeshop)),1)\n",
      "OPTIMUM FOUND *\n",
      "Answer: 7\n",
      "(occurs(walk(coffeeshop,school)),2) (occurs(drive(home,coffeeshop)),1) (occurs(stop),3)\n",
      "OPTIMUM FOUND *\n",
      "Answer: 8\n",
      "(occurs(walk(coffeeshop,school)),3) (occurs(call_taxi(coffeeshop)),2) (occurs(drive(home,coffeeshop)),1)\n",
      "OPTIMUM FOUND *\n",
      "Answer: 9\n",
      "(occurs(walk(coffeeshop,school)),3) (occurs(rent_car(coffeeshop)),2) (occurs(drive(home,coffeeshop)),1)\n",
      "OPTIMUM FOUND *\n",
      "Answer: 10\n",
      "(occurs(walk(coffeeshop,school)),3) (occurs(rent_car(home)),2) (occurs(drive(home,coffeeshop)),1)\n",
      "OPTIMUM FOUND *\n",
      "Answer: 11\n",
      "(occurs(walk(coffeeshop,school)),3) (occurs(drive(home,coffeeshop)),1) (occurs(buy_ticket(school,home)),2)\n",
      "OPTIMUM FOUND *\n",
      "Answer: 12\n",
      "(occurs(walk(coffeeshop,school)),3) (occurs(drive(home,coffeeshop)),1) (occurs(buy_ticket(airport2,airport1)),2)\n",
      "OPTIMUM FOUND *\n",
      "Answer: 13\n",
      "(occurs(walk(coffeeshop,school)),3) (occurs(rent_car(airport2)),2) (occurs(drive(home,coffeeshop)),1)\n",
      "OPTIMUM FOUND *\n",
      "Answer: 14\n",
      "(occurs(walk(coffeeshop,school)),3) (occurs(call_taxi(school)),2) (occurs(drive(home,coffeeshop)),1)\n",
      "OPTIMUM FOUND *\n",
      "Answer: 15\n",
      "(occurs(walk(coffeeshop,school)),3) (occurs(call_taxi(airport1)),2) (occurs(drive(home,coffeeshop)),1)\n",
      "OPTIMUM FOUND *\n",
      "Answer: 16\n",
      "(occurs(walk(coffeeshop,school)),3) (occurs(drive(home,coffeeshop)),1) (occurs(buy_ticket(airport2,school)),2)\n",
      "OPTIMUM FOUND *\n",
      "Answer: 17\n",
      "(occurs(walk(coffeeshop,school)),3) (occurs(rent_car(airport1)),2) (occurs(drive(home,coffeeshop)),1)\n",
      "OPTIMUM FOUND *\n",
      "Answer: 18\n",
      "(occurs(walk(coffeeshop,school)),3) (occurs(drive(home,coffeeshop)),1) (occurs(buy_ticket(airport2,home)),2)\n",
      "OPTIMUM FOUND *\n",
      "Answer: 19\n",
      "(occurs(walk(coffeeshop,school)),3) (occurs(call_taxi(airport2)),2) (occurs(drive(home,coffeeshop)),1)\n",
      "OPTIMUM FOUND *\n",
      "Answer: 20\n",
      "(occurs(walk(coffeeshop,school)),3) (occurs(drive(home,coffeeshop)),1) (occurs(buy_ticket(airport1,home)),2)\n",
      "OPTIMUM FOUND *\n",
      "\n",
      "Models       : 20+\n",
      "  Optimum    : yes\n",
      "  Optimal    : 20\n",
      "Calls        : 3\n",
      "Time         : 2.506s (Solving: 0.09s 1st Model: 0.06s Unsat: 0.00s)\n",
      "CPU Time     : 2.391s\n"
     ]
    }
   ],
   "source": [
    "!clingo travel/travel.lp travel/instances.lp travel/auxiliary.lp travel/pref-externals.lp 0 --output=reify | \\\n",
    " asprin - meta-telingo.lp travel/pref.lp meta-telingo-extension.lp -c horizon=3 20"
   ]
  },
  {
   "cell_type": "markdown",
   "id": "b3e0fbb9",
   "metadata": {},
   "source": [
    "→ Here, we see a caveat of the Enabled Desire formula: One would expect for the optimal trajectory to only contain walking. But this is not the case. The reason is presented in the following two scenarios: \n",
    "\n",
    "1) The agent never buys a plane ticket: Flying is never executable, both parts of the formula `walk <e flight` and  `flight <e (drive | bus)` are always true (since the antecedent is always false), all models are preferred since they satisfy the temporal formula. \n",
    "\n",
    "2) The agent buys a plane ticket: Flying is executable, leading to all actions to be executable, leading to a contradiction since both `walk ∧ ¬flight` and `flight ∧ ¬(drive | bus)` must be true to satisfy the formula. Flight cannot be true and false at the same time, so all models containing buying a plane  ticket are not preferred, they do not satisfy the temporal formula. \n",
    "\n",
    "→ **All models not containing buying a plane ticket are preferred**."
   ]
  },
  {
   "cell_type": "markdown",
   "id": "0e5dbf81",
   "metadata": {},
   "source": [
    "### General Preferences"
   ]
  },
  {
   "cell_type": "markdown",
   "id": "caef44b0",
   "metadata": {},
   "source": [
    "\"*Now, consider an agent who has in mind the four basic desires time, cost, comfort, and safety. He can rank these preferences and create different atomic preferences, i.e., different orders among these preferences. Let us assume that he has combined these four desires and produced the following two atomic preferences*\": (p.573)"
   ]
  },
  {
   "cell_type": "markdown",
   "id": "c4354702",
   "metadata": {},
   "source": [
    "**9. `Ψ1 = comfort ◁ safety`** "
   ]
  },
  {
   "cell_type": "markdown",
   "id": "ee207eea",
   "metadata": {},
   "source": [
    "**10. ` Ψ2 = cost ◁ time`** "
   ]
  },
  {
   "cell_type": "markdown",
   "id": "3062e2e0",
   "metadata": {},
   "source": [
    "We can express **9.**  (that *comfort* is preferred over *safety*) as: "
   ]
  },
  {
   "cell_type": "markdown",
   "id": "9f4b726f",
   "metadata": {},
   "source": [
    "In `travel/auxiliary.lp`: \n",
    "    \n",
    "`% (comfort) comfort = always(flight <e (drive|bus) <e walk) -> p. 573`\n",
    "\n",
    "`always(comfort_aux) :- initially, \n",
    "always(and(if(and(executable(flight), or(executable(drive), executable(bus))), and(occurs(flight), negation(or(occurs(drive), occurs(bus))))), if(and(or(executable(drive), executable(bus)),\n",
    "executable(walk)), and(or(occurs(drive), occurs(bus)), negation(occurs(walk)))))).`\n",
    "\n",
    "`% (safety) safety = always(walk <e flight <e (drive | bus)). -> p. 573`\n",
    "\n",
    "`always(safety_aux) :- initially, \n",
    "always(and(if(and(executable(walk), executable(flight)), and(occurs(walk), negation(flight))), if(and(executable(flight), or(executable(drive), executable(bus))), and(occurs(flight), negation(or(occurs(drive), occurs(bus))))))).`"
   ]
  },
  {
   "cell_type": "code",
   "execution_count": 95,
   "id": "bf0f1eff",
   "metadata": {},
   "outputs": [
    {
     "name": "stdout",
     "output_type": "stream",
     "text": [
      "Overwriting travel/pref.lp\n"
     ]
    }
   ],
   "source": [
    "%%file travel/pref.lp\n",
    "\n",
    "#optimize(p5).\n",
    "\n",
    "% (comfort) comfort = always(flight <e (drive|bus) <e walk) -> p. 573\n",
    "#preference(comfort, more(cardinality)){\n",
    "    and(initially, always(comfort_aux))\n",
    "}.\n",
    "\n",
    "% (safety) safety = always(walk <e flight <e (drive | bus)). -> p. 573\n",
    "#preference(safety, more(cardinality)){\n",
    "    and(initially, always(safety_aux))\n",
    "}.\n",
    "\n",
    "\n",
    "% comfort > safety -> p. 573\n",
    "#preference(p5,lexico){1 ::**safety; 2::**comfort}."
   ]
  },
  {
   "cell_type": "code",
   "execution_count": 96,
   "id": "50b83cdd",
   "metadata": {},
   "outputs": [
    {
     "name": "stdout",
     "output_type": "stream",
     "text": [
      "asprin version 3.1.1\n",
      "Reading from - ...\n",
      "Solving...\n",
      "Answer: 1\n",
      "(occurs(walk(home,school)),3) (occurs(buy_ticket(home,airport1)),2) (occurs(buy_ticket(airport2,home)),1)\n",
      "Answer: 2\n",
      "(occurs(bus(home,coffeeshop)),1) (occurs(bus(coffeeshop,home)),2) (occurs(drive(home,school)),3)\n",
      "OPTIMUM FOUND\n",
      "Answer: 3\n",
      "(occurs(walk(airport1,home)),2) (occurs(bus(home,school)),3) (occurs(drive(home,airport1)),1)\n",
      "OPTIMUM FOUND *\n",
      "Answer: 4\n",
      "(occurs(bus(home,school)),3) (occurs(bus(home,coffeeshop)),1) (occurs(bus(coffeeshop,home)),2)\n",
      "OPTIMUM FOUND *\n",
      "Answer: 5\n",
      "(occurs(bus(home,school)),3) (occurs(bus(coffeeshop,home)),2) (occurs(drive(home,coffeeshop)),1)\n",
      "OPTIMUM FOUND *\n",
      "\n",
      "Models       : 5\n",
      "  Optimum    : yes\n",
      "  Optimal    : 4\n",
      "Calls        : 5\n",
      "Time         : 2.371s (Solving: 0.05s 1st Model: 0.05s Unsat: 0.00s)\n",
      "CPU Time     : 2.266s\n"
     ]
    }
   ],
   "source": [
    "!clingo travel/travel.lp travel/instances.lp travel/auxiliary.lp travel/pref-externals.lp 0 --output=reify | \\\n",
    " asprin - meta-telingo.lp travel/pref.lp meta-telingo-extension.lp -c horizon=3 0"
   ]
  },
  {
   "cell_type": "markdown",
   "id": "d3229f75",
   "metadata": {},
   "source": [
    "We can express **10.** (that *cost* is preferred over *time*) as: "
   ]
  },
  {
   "cell_type": "markdown",
   "id": "58c4097e",
   "metadata": {},
   "source": [
    "In `travel/auxiliary.lp`: \n",
    "    \n",
    "`% (time) time = always(taxi <e (drive|bus) <e walk) -> p. 570\n",
    "always(time_aux) :- initially, \n",
    "always(and(if(and(executable(take_taxi), or(executable(drive), executable(bus))),and(occurs(take_taxi), negation(or(occurs(drive), occurs(bus))))), if(and(or(executable(drive), executable(bus)), executable(walk)), and(or(occurs(drive), occurs(bus)), negation(occurs(walk)))))).`\n",
    "\n",
    "`% (cost) cost = always(walk <e (drive|bus) <e taxi) -> p. 571\n",
    "always(cost_aux) :- initially, \n",
    "always(and(if(and(executable(walk), or(executable(drive), executable(bus))),\n",
    "and(occurs(walk), negation(or(occurs(drive), occurs(bus))))), if(and(or(executable(drive), executable(bus)), executable(take_taxi)), and(or(occurs(drive), occurs(bus)), negation(occurs(take_taxi)))))).`"
   ]
  },
  {
   "cell_type": "code",
   "execution_count": 97,
   "id": "d74ab1d8",
   "metadata": {},
   "outputs": [
    {
     "name": "stdout",
     "output_type": "stream",
     "text": [
      "Overwriting travel/pref.lp\n"
     ]
    }
   ],
   "source": [
    "%%file travel/pref.lp\n",
    "\n",
    "#optimize(p6).\n",
    "\n",
    "% (cost) cost = always(walk <e (drive|bus) <e taxi) -> p. 571\n",
    "#preference(cost, more(cardinality)){\n",
    "    and(initially, always(cost_aux))\n",
    "}.\n",
    "\n",
    "%(time) time = always(taxi <e (drive|bus) <e walk) -> p. 570\n",
    "#preference(time, more(cardinality)){\n",
    "    and(initially, always(time_aux))\n",
    "}.\n",
    "\n",
    "\n",
    "%  cost > time. -> p. 573\n",
    "#preference(p6,lexico){1 ::**time; 2::**cost}."
   ]
  },
  {
   "cell_type": "code",
   "execution_count": 98,
   "id": "2d317997",
   "metadata": {},
   "outputs": [
    {
     "name": "stdout",
     "output_type": "stream",
     "text": [
      "asprin version 3.1.1\n",
      "Reading from - ...\n",
      "Solving...\n",
      "Answer: 1\n",
      "(occurs(walk(home,school)),3) (occurs(buy_ticket(home,airport1)),2) (occurs(buy_ticket(airport2,home)),1)\n",
      "Answer: 2\n",
      "(occurs(walk(airport1,home)),2) (occurs(bus(home,school)),3) (occurs(drive(home,airport1)),1)\n",
      "Answer: 3\n",
      "(occurs(walk(home,school)),3) (occurs(walk(home,coffeeshop)),1) (occurs(walk(coffeeshop,home)),2)\n",
      "OPTIMUM FOUND\n",
      "Answer: 4\n",
      "(occurs(walk(home,school)),3) (occurs(walk(home,airport1)),1) (occurs(walk(airport1,home)),2)\n",
      "OPTIMUM FOUND *\n",
      "\n",
      "Models       : 4\n",
      "  Optimum    : yes\n",
      "  Optimal    : 2\n",
      "Calls        : 6\n",
      "Time         : 2.449s (Solving: 0.07s 1st Model: 0.07s Unsat: 0.00s)\n",
      "CPU Time     : 2.344s\n"
     ]
    }
   ],
   "source": [
    "!clingo travel/travel.lp travel/instances.lp travel/auxiliary.lp travel/pref-externals.lp 0 --output=reify | \\\n",
    " asprin - meta-telingo.lp travel/pref.lp meta-telingo-extension.lp -c horizon=3 0"
   ]
  },
  {
   "cell_type": "markdown",
   "id": "32276c9f",
   "metadata": {},
   "source": [
    "\"*Intuitively, $Ψ_1$ is a comparison between level of comfort and safety, while $Ψ_2$ is a comparison between affordability and duration. Suppose that the agent would like to combine $Ψ_1$ and $Ψ_2$ to create a preference stating that he prefers trajectories that are as comfortable as possible and cost as little as possible.*\" (p. 573)"
   ]
  },
  {
   "cell_type": "markdown",
   "id": "36753125",
   "metadata": {},
   "source": [
    " → To combine preferences, we need **General Preferences**."
   ]
  },
  {
   "cell_type": "markdown",
   "id": "98046951",
   "metadata": {},
   "source": [
    "**Definition 10 (General Preferences)**\n",
    "\n",
    "A general preference formula is a formula satisfying one of the following conditions:\n",
    "\n",
    "• An atomic preference Ψ is a general preference;\n",
    "\n",
    "• If $Ψ_1$, $Ψ_2$ are general preferences, then $Ψ_1$ & $Ψ_2$, $Ψ_1$ | $Ψ_2$, and ! $Ψ_1$ are general\n",
    "preferences;\n",
    "\n",
    "• If $Ψ_1$, $Ψ_2$,..., $Ψ_k$ is a collection of general preferences, then $Ψ_1$ ◁ $Ψ_2$ ◁···◁ $Ψ_k$\n",
    "is a general preference.\n",
    "--- p. 574"
   ]
  },
  {
   "cell_type": "markdown",
   "id": "45ca8431",
   "metadata": {},
   "source": [
    "*Let us consider the original action theory presented in Section 2 with the action buy coffee and a user having the goal of being at the school and having coffee. Intuitively, every trajectory achieving the goal of the user would require the action of going to the coffee shop, buying the coffee, and going to the school thereafter. Let us consider the following two preferences (similar to those discussed in Example 4):* (p. 579)"
   ]
  },
  {
   "cell_type": "markdown",
   "id": "05520393",
   "metadata": {},
   "source": [
    "`time = always(occ(buy coffee) ∨ (take taxi <e (drive ∨ bus) <e walk))`\n",
    "\n",
    "`cost = always(occ(buy coffee) ∨ (walk <e (drive ∨ bus) <e take taxi))`"
   ]
  },
  {
   "cell_type": "markdown",
   "id": "534e7223",
   "metadata": {},
   "source": [
    "We now add that having a coffee at the end of the trajectory is a hard constraint instead of a soft constraint: "
   ]
  },
  {
   "cell_type": "code",
   "execution_count": 99,
   "id": "cf83f01f",
   "metadata": {},
   "outputs": [
    {
     "name": "stdout",
     "output_type": "stream",
     "text": [
      "Overwriting travel/travel_coffee.lp\n"
     ]
    }
   ],
   "source": [
    "%%file travel/travel_coffee.lp \n",
    "\n",
    "% FLUENTS\n",
    "% initially (at(home))\n",
    "holds(at(home)) :- initially.\n",
    "\n",
    "% initially (has money)\n",
    "holds(has_money) :-initially.\n",
    "\n",
    "% initially (available car(home))\n",
    "holds(available_car(home)) :- initially.\n",
    "\n",
    "holds(sCost(0)) :- initially.\n",
    "holds(sCost(NC)) :-\n",
    "    prev(holds(sCost(N))),\n",
    "    occurs(A),\n",
    "    cost(A, C),\n",
    "    num(N), num(C), NC = N + C, num(NC).\n",
    "\n",
    "wnext(neg(sCost(N))) :-\n",
    "    holds(sCost(N)),\n",
    "    wnext(holds(sCost(M))), N != M.\n",
    "\n",
    "\n",
    "% ACTIONS WITH THEIR EXECUTABILITY CONDITIONS (ACTION PRECONDITION AXIOMS)\n",
    "\n",
    "% walk(l1, l2) causes at(l2) if at(l1), road(l1, l2)\n",
    "action(walk(X,Y)) :- road(X,Y).\n",
    "prec(walk(X, Y), at(X), true) :- action(walk(X,Y)).\n",
    "\n",
    "wnext(executable(walk)) :- holds(at(X)), action(walk(X,Y)).\n",
    "\n",
    "% bus(l1, l2) causes at(l2) if at(l1), road(l1, l2)\n",
    "action(bus(X,Y)) :- bus_station(X), bus_station(Y), road(X,Y).\n",
    "prec(bus(X, Y), at(X), true) :- action(bus(X,Y)).\n",
    "\n",
    "% bus(l1, l2) executable if has money\n",
    "prec(bus(X, Y), has_money, true) :- action(bus(X,Y)).\n",
    "\n",
    "wnext(executable(bus)) :- holds(at(X)), action(bus(X,Y)), holds(has_money).\n",
    "\n",
    "\n",
    "% flight(l1, l2) causes at(l2) if at(l1), has_ticket(l1, l2)\n",
    "% flight(l1, l2) executable if connected(l1, l2)\n",
    "action(flight(X,Y)) :- connected(X,Y).\n",
    "prec(flight(X, Y), at(X), true) :- action(flight(X,Y)).\n",
    "prec(flight(X, Y), has_ticket(X, Y), true) :- action(flight(X,Y)).\n",
    "wnext(executable(flight)) :- action(flight(X,Y)), holds(at(X)), holds(has_ticket(X, Y)).\n",
    "\n",
    "% take_taxi(l1, l2) causes at(l2) if at(l1), road(l1, l2)\n",
    "action(take_taxi(X,Y)) :- road(X,Y).\n",
    "prec(take_taxi(X, Y), at(X), true) :- action(take_taxi(X,Y)).\n",
    "\n",
    "\n",
    "% take_taxi(l1, l2) executable if available_taxi(l1)\n",
    "prec(take_taxi(X, Y), available_taxi(X), true) :- action(take_taxi(X,Y)).\n",
    "\n",
    "wnext(executable(take_taxi)) :- action(take_taxi(X,Y)), holds(available_taxi(X)), holds(at(X)).\n",
    "\n",
    "% call_taxi(l) causes available_taxi(l) if has_money\n",
    "action(call_taxi(X)) :- location(X).\n",
    "prec(call_taxi(X), has_money, true) :- action(call_taxi(X)).\n",
    "wnext(executable(call_taxi)) :- action(call_taxi(X)), holds(has_money).\n",
    "\n",
    "% rent_car(l) causes available car(l) if has money\n",
    "action(rent_car(X)) :- location(X).\n",
    "prec(rent_car(X), has_money, true) :- action(rent_car(X)).\n",
    "wnext(executable(rent_car)) :- action(rent_car(X)), holds(has_money).\n",
    "\n",
    "% flight(l1, l2) executable if connected(l1, l2)\n",
    "wnext(executable(flight)) :- action(flight(X, Y)), holds(connected(X,Y)).\n",
    "\n",
    "% \n",
    "action(drive(X,Y)) :- road(X,Y).\n",
    "prec(drive(X, Y), available_car(X), true) :- action(drive(X,Y)).\n",
    "prec(drive(X, Y), at(X), true) :- action(drive(X,Y)).\n",
    "wnext(executable(drive)) :- holds(available_car(X)), holds(at(X)), action(drive(X,Y)).\n",
    "\n",
    "\n",
    "% buy ticket(l1, l2) executable if has_money\n",
    "action(buy_ticket(X,Y)) :- airport(X), airport(Y), X != Y.\n",
    "prec(buy_ticket(X, Y), has_money, true) :- action(buy_ticket(X,Y)).\n",
    "wnext(executable(buy_ticket)) :- holds(has_money), action(buy_ticket(X,Y)).\n",
    "\n",
    "% add this\n",
    "action(buy_coffee).\n",
    "prec(buy_coffee, has_money, true) :- action(buy_coffee).\n",
    "prec(buy_coffee, at(coffeeshop), true) :- action(buy_coffee).\n",
    "wnext(executable(buy_coffee)) :- holds(at(coffeeshop)), holds(has_money).\n",
    "\n",
    ":- prec(A,F,true), occurs(A), not prev(holds(F)).\n",
    ":- prec(A,F,false), occurs(A), prev(holds(F)).\n",
    "\n",
    "%executable(A) :- prec(A,F,true), prev(holds(F)).\n",
    "%executable(A) :- prec(A,F,false), not prev(holds(F)).\n",
    "\n",
    "% ACTIONS WITH THEIR EFFECTS (EFFECTS)\n",
    "\n",
    "% walk(l1, l2) causes at(l2) if at(l1), road(l1, l2)\n",
    "eff(walk(X,Y), at(Y), true) :- action(walk(X,Y)).\n",
    "eff(walk(X,Y), at(X), false) :- action(walk(X,Y)).\n",
    "\n",
    "% bus(l1, l2) causes at(l2) if at(l1), road(l1, l2)\n",
    "eff(bus(X,Y), at(Y), true) :- action(bus(X,Y)).\n",
    "eff(bus(X,Y), at(X), false) :- action(bus(X,Y)).\n",
    "\n",
    "% flight(l1, l2) causes at(l2) if at(l1), has ticket(l1, l2)\n",
    "eff(flight(X,Y), at(Y), true) :- action(flight(X,Y)).\n",
    "eff(flight(X,Y), at(X), false) :- action(flight(X,Y)).\n",
    "\n",
    "\n",
    "% take_taxi(l1, l2) causes at(l2) if at(l1), road(l1, l2)\n",
    "eff(take_taxi(X,Y), at(Y), true) :- action(take_taxi(X,Y)).\n",
    "eff(take_taxi(X,Y), at(X), false) :- action(take_taxi(X,Y)).\n",
    "\n",
    "% buy_ticket(l1, l2) causes has_ticket(l1, l2)\n",
    "eff(buy_ticket(X,Y), has_ticket(X,Y), true) :- action(buy_ticket(X,Y)).\n",
    "\n",
    "% call_taxi(l) causes available_taxi(l) if has money\n",
    "eff(call_taxi(X), available_taxi(X), true) :- action(call_taxi(X)).\n",
    "\n",
    "% rent_car(l) causes available_car(l) if has money\n",
    "eff(rent_car(X), available_car(X), true) :- action(rent_car(X)).\n",
    "\n",
    "\n",
    "% add action buy_coffee (page 567)\n",
    "eff(buy_coffee, has_coffee, true) :- action(buy_coffee).\n",
    "\n",
    "% ADD THIS?\n",
    "eff(drive(X,Y), at(Y), true) :- action(drive(X,Y)).\n",
    "eff(drive(X,Y), at(X), false) :- action(drive(X,Y)).\n",
    "eff(flight(X,Y), has_ticket(X,Y), false) :- action(flight(X,Y)).\n",
    "eff(take_taxi(X,Y), available_taxi(X), false) :- action(take_taxi(X,Y)).\n",
    "eff(drive(X,Y), available_car(X), false) :- action(drive(X,Y)).\n",
    "eff(drive(X,Y), available_car(Y), true) :- action(drive(X,Y)). % add this?\n",
    "\n",
    "\n",
    "% Update by effects\n",
    "holds(F) :- occurs(A), eff(A, F, true).\n",
    "neg(F) :- occurs(A), eff(A, F, false).\n",
    "\n",
    "%{occurs(X) : action(X)}1.\n",
    "{ occurs(A) : action(A), A != stop, A != noop } 1 :- not holds(ended).\n",
    "\n",
    "% INERTIA\n",
    "wnext(holds(F)) :- holds(F), not wnext(neg(F)).\n",
    "\n",
    "% holds(F) :- occurs(A), condeffect(A, X, F, true), holds(G) : condition(A,X,G,true);\n",
    "%                                                 not holds(G) : condition(A,X,G,false).\n",
    "\n",
    "% neg(F) :- occurs(A), condeffect(A, X, F, false), holds(G) : condition(A,X,G,true);\n",
    "%                                                 not holds(G) : condition(A,X,G,false).\n",
    "\n",
    "\n",
    "% GOAL\n",
    "% holds(goal_achieved) :-  holds(at(school)).\n",
    "\n",
    "% for preferences time_coffee, cost_coffee, time_n_cost, time_and_cost, time_v_cost, time_or_cost:\n",
    "holds(goal_achieved) :- holds(at(school)), holds(has_coffee).\n",
    ":- finally, not holds(goal_achieved).\n",
    "\n",
    "% as soon as the goal is achieved, fire stop (once)\n",
    "wnext(occurs(stop)) :- holds(goal_achieved), not holds(ended).\n",
    "prec(stop, goal_achieved, true).   % stop executable if goal\n",
    "wnext(executable(stop)) :- holds(goal_achieved), not holds(ended).\n",
    "\n",
    "\n",
    "eff(stop, ended,     true).        % stop causes ended\n",
    "\n",
    "% after ended holds, fire noop every step\n",
    "wnext(occurs(noop)) :- holds(ended).\n",
    "prec(noop, ended,    true).        % noop executable if ended\n",
    "wnext(executable(noop)) :-  holds(ended).\n",
    "\n",
    "eff(noop, ended, true).        % noop causes ended\n",
    "\n",
    "\n",
    "#external initially.\n",
    "#external finally.\n",
    "#external occurs(stop).\n",
    "#external wnext(occurs(noop)).\n",
    "#external holds(ended).\n",
    "#external eventually(holds(goal_achieved)).\n",
    "#external eventually(holds(at(school))).\n",
    "#external holds(has_coffee).\n",
    "#external prev(holds(sCost(N))) : holds(sCost(N)).\n",
    "#external wnext(holds(sCost(M))) : holds(sCost(M)).\n",
    "#external prev(holds(sTime(N))) : holds(sTime(N)).\n",
    "#external wnext(holds(sTime(M))) : holds(sTime(M)).\n",
    "#external prev(holds(F)) : prec(A,F,true).\n",
    "#external wnext(neg(F)) : prec(A,F,true).\n",
    "#external at(X) : location(X).\n",
    "#external wnext(neg(F)) : prec(A,F,true).\n",
    "#external eventually(holds(has_coffee)).\n",
    "\n",
    "\n",
    "#show show(occurs(X)) : action(X).\n"
   ]
  },
  {
   "cell_type": "markdown",
   "id": "fb524181",
   "metadata": {},
   "source": [
    "**11. `time = always(occ(buy_coffee) ∨ (take_taxi <e (drive ∨ bus) <e walk))`**"
   ]
  },
  {
   "cell_type": "markdown",
   "id": "8c4b4290",
   "metadata": {},
   "source": [
    "This is basically the same formula as **6.**, we just need to express that a coffee can also be bought with `or`: "
   ]
  },
  {
   "cell_type": "markdown",
   "id": "54eb551c",
   "metadata": {},
   "source": [
    "In `travel/auxiliary.lp`: \n",
    "\n",
    "`% (time_coffee) time_coffee = always(occ(buy_coffee) ∨ (take_taxi <e (drive ∨ bus) <e walk)) -> p. 579`\n",
    "\n",
    "`always(time_coffee_aux) :- initially, \n",
    "always(or(occurs(buy_coffee), and(if(and(executable(take_taxi), or(executable(drive), executable(bus))), and(occurs(take_taxi), negation(or(occurs(drive), occurs(bus))))), if(and(or(executable(drive), executable(bus)), executable(walk)), and(or(occurs(drive), occurs(bus)), negation(occurs(walk))))))).`"
   ]
  },
  {
   "cell_type": "code",
   "execution_count": 100,
   "id": "a1477969",
   "metadata": {},
   "outputs": [
    {
     "name": "stdout",
     "output_type": "stream",
     "text": [
      "Overwriting travel/pref.lp\n"
     ]
    }
   ],
   "source": [
    "%%file travel/pref.lp\n",
    "\n",
    "#optimize(time_coffee).\n",
    "\n",
    "% (time_coffee) time_coffee = always(occ(buy_coffee) | (take_taxi <e (drive | bus) <e walk)) -> p. 579\n",
    "#preference(time_coffee, more(cardinality)){\n",
    "    and(initially, always(time_coffee_aux))\n",
    "}."
   ]
  },
  {
   "cell_type": "code",
   "execution_count": 101,
   "id": "fb0ee386",
   "metadata": {},
   "outputs": [
    {
     "name": "stdout",
     "output_type": "stream",
     "text": [
      "asprin version 3.1.1\n",
      "Reading from - ...\n",
      "Solving...\n",
      "Answer: 1\n",
      "(occurs(buy_coffee),2) (occurs(bus(home,coffeeshop)),1) (occurs(bus(coffeeshop,school)),3)\n",
      "OPTIMUM FOUND\n",
      "Answer: 2\n",
      "(occurs(buy_coffee),2) (occurs(drive(home,coffeeshop)),1) (occurs(drive(coffeeshop,school)),3)\n",
      "OPTIMUM FOUND *\n",
      "Answer: 3\n",
      "(occurs(buy_coffee),2) (occurs(bus(coffeeshop,school)),3) (occurs(drive(home,coffeeshop)),1)\n",
      "OPTIMUM FOUND *\n",
      "\n",
      "Models       : 3\n",
      "  Optimum    : yes\n",
      "  Optimal    : 3\n",
      "Calls        : 4\n",
      "Time         : 2.670s (Solving: 0.05s 1st Model: 0.05s Unsat: 0.00s)\n",
      "CPU Time     : 2.469s\n"
     ]
    }
   ],
   "source": [
    "!clingo travel/travel_coffee.lp travel/instances.lp travel/auxiliary.lp travel/pref-externals.lp 0 --output=reify | \\\n",
    " asprin - meta-telingo.lp travel/pref.lp meta-telingo-extension.lp -c horizon=3 0"
   ]
  },
  {
   "cell_type": "markdown",
   "id": "8015867e",
   "metadata": {},
   "source": [
    "**12. `cost = always(occ(buy coffee) ∨ (walk <e (drive ∨ bus) <e take taxi))`**"
   ]
  },
  {
   "cell_type": "markdown",
   "id": "22108ae8",
   "metadata": {},
   "source": [
    "Again, this is basically the same formula as **7.**, we just need to express that a coffee can also be bought with `or`: "
   ]
  },
  {
   "cell_type": "markdown",
   "id": "cef2a239",
   "metadata": {},
   "source": [
    "In `travel/auxiliary.lp`: \n",
    "\n",
    "`% (cost_coffee) cost_coffee = always(occ(buy_coffee) ∨ (walk <e (drive ∨ bus) <e take taxi)). -> p. 579`\n",
    "\n",
    "`always(cost_coffee_aux) :- initially,\n",
    "always(or(occurs(buy_coffee), and(if(and(executable(walk), or(executable(drive), executable(bus))), and(occurs(walk), negation(or(occurs(drive), occurs(bus))))), if(and(or(executable(drive), executable(bus)), executable(take_taxi)), and(or(occurs(drive), occurs(bus)), negation(occurs(take_taxi))))))).`"
   ]
  },
  {
   "cell_type": "code",
   "execution_count": 102,
   "id": "2577dbd3",
   "metadata": {},
   "outputs": [
    {
     "name": "stdout",
     "output_type": "stream",
     "text": [
      "Overwriting travel/pref.lp\n"
     ]
    }
   ],
   "source": [
    "%%file travel/pref.lp\n",
    "\n",
    "#optimize(cost_coffee).\n",
    "\n",
    "% (cost_coffee) cost_coffee = always(occ(buy_coffee) | (walk <e (drive | bus) <e tak_taxi)). -> p. 579\n",
    "#preference(cost_coffee, more(cardinality)){\n",
    "    and(initially, always(cost_coffee_aux))\n",
    "}."
   ]
  },
  {
   "cell_type": "code",
   "execution_count": 103,
   "id": "eaaf4b80",
   "metadata": {},
   "outputs": [
    {
     "name": "stdout",
     "output_type": "stream",
     "text": [
      "asprin version 3.1.1\n",
      "Reading from - ...\n",
      "Solving...\n",
      "Answer: 1\n",
      "(occurs(buy_coffee),2) (occurs(bus(home,coffeeshop)),1) (occurs(bus(coffeeshop,school)),3)\n",
      "Answer: 2\n",
      "(occurs(buy_coffee),2) (occurs(walk(home,coffeeshop)),1) (occurs(walk(coffeeshop,school)),3)\n",
      "OPTIMUM FOUND\n",
      "\n",
      "Models       : 2\n",
      "  Optimum    : yes\n",
      "  Optimal    : 1\n",
      "Calls        : 5\n",
      "Time         : 2.314s (Solving: 0.03s 1st Model: 0.03s Unsat: 0.00s)\n",
      "CPU Time     : 2.219s\n"
     ]
    }
   ],
   "source": [
    "!clingo travel/travel_coffee.lp travel/instances.lp travel/auxiliary.lp travel/pref-externals.lp 0 --output=reify | \\\n",
    " asprin - meta-telingo.lp travel/pref.lp meta-telingo-extension.lp -c horizon=3 0"
   ]
  },
  {
   "cell_type": "markdown",
   "id": "801af421",
   "metadata": {},
   "source": [
    "**13. `Ψ1 = time ∧ cost`**"
   ]
  },
  {
   "cell_type": "markdown",
   "id": "3168b7c8",
   "metadata": {},
   "source": [
    "**14. `Ψ2 = time & cost.`**"
   ]
  },
  {
   "cell_type": "markdown",
   "id": "2c6f2df2",
   "metadata": {},
   "source": [
    "*\"Observe that $Ψ_1$ is a basic desire while $Ψ_2$ is a general preference. It is easy to see that there are no trajectories satisfying the preference $Ψ_1$. Thus, every trajectory achieving the goal is a most preferred trajectory w.r.t. $Ψ_1$. At the same time, we can show that for every pair of trajectories α and β, neither α $≺_{\\Psi_1}$\n",
    " β nor β $≺_{\\Psi_2}$ α holds.\"* (p. 579-580)"
   ]
  },
  {
   "cell_type": "markdown",
   "id": "39c40185",
   "metadata": {},
   "source": [
    "We can translate **13.** by combining both time_coffee and cost_coffee preferences into a single temporal formula, connected by an intersection: "
   ]
  },
  {
   "cell_type": "markdown",
   "id": "b95a9ed5",
   "metadata": {},
   "source": [
    "**`time_coffee`**: `or(occurs(buy_coffee), and(if(and(executable(walk), or(executable(drive), executable(bus))), and(occurs(walk), negation(or(occurs(drive), occurs(bus))))), if(and(or(executable(drive), executable(bus)), executable(take_taxi)), and(or(occurs(drive), occurs(bus)), negation(occurs(take_taxi))))))`\n",
    "    \n",
    "**`cost_coffee`**: `or(occurs(buy_coffee), and(if(and(executable(take_taxi), or(executable(drive), executable(bus))), and(occurs(take_taxi), negation(or(occurs(drive), occurs(bus))))), if(and(or(executable(drive), executable(bus)), executable(walk)), and(or(occurs(drive), occurs(bus)), negation(occurs(walk))))))`"
   ]
  },
  {
   "cell_type": "markdown",
   "id": "3d0fa221",
   "metadata": {},
   "source": [
    "In `travel/auxiliary.lp`: \n",
    "\n",
    "`% time n cost, combine time_coffee and cost_coffee within one formula`\n",
    "\n",
    "`always(time_n_cost_aux) :- initially,`\n",
    "\n",
    "`always(and(or(occurs(buy_coffee), and(if(and(executable(walk), or(executable(drive), executable(bus))), and(occurs(walk), negation(or(occurs(drive), occurs(bus))))), if(and(or(executable(drive), executable(bus)), executable(take_taxi)), and(or(occurs(drive), occurs(bus)), negation(occurs(take_taxi)))))),`\n",
    "\n",
    "`or(occurs(buy_coffee), and(if(and(executable(take_taxi), or(executable(drive), executable(bus))), and(occurs(take_taxi), negation(or(occurs(drive), occurs(bus))))), if(and(or(executable(drive), executable(bus)), executable(walk)), and(or(occurs(drive), occurs(bus)), negation(occurs(walk)))))))).`"
   ]
  },
  {
   "cell_type": "code",
   "execution_count": 104,
   "id": "d9e938af",
   "metadata": {},
   "outputs": [
    {
     "name": "stdout",
     "output_type": "stream",
     "text": [
      "Overwriting travel/pref.lp\n"
     ]
    }
   ],
   "source": [
    "%%file travel/pref.lp\n",
    "\n",
    "#optimize(time_n_cost).\n",
    "\n",
    "#preference(time_n_cost, more(cardinality)){\n",
    "    and(initially, always(time_n_cost_aux))\n",
    "    }."
   ]
  },
  {
   "cell_type": "code",
   "execution_count": 105,
   "id": "011c3f36",
   "metadata": {},
   "outputs": [
    {
     "name": "stdout",
     "output_type": "stream",
     "text": [
      "asprin version 3.1.1\n",
      "Reading from - ...\n",
      "Solving...\n",
      "Answer: 1\n",
      "(occurs(buy_coffee),2) (occurs(bus(home,coffeeshop)),1) (occurs(bus(coffeeshop,school)),3)\n",
      "OPTIMUM FOUND\n",
      "Answer: 2\n",
      "(occurs(buy_coffee),2) (occurs(walk(coffeeshop,school)),3) (occurs(bus(home,coffeeshop)),1)\n",
      "OPTIMUM FOUND *\n",
      "Answer: 3\n",
      "(occurs(buy_coffee),2) (occurs(drive(home,coffeeshop)),1) (occurs(drive(coffeeshop,school)),3)\n",
      "OPTIMUM FOUND *\n",
      "Answer: 4\n",
      "(occurs(buy_coffee),2) (occurs(bus(coffeeshop,school)),3) (occurs(drive(home,coffeeshop)),1)\n",
      "OPTIMUM FOUND *\n",
      "Answer: 5\n",
      "(occurs(buy_coffee),2) (occurs(walk(coffeeshop,school)),3) (occurs(drive(home,coffeeshop)),1)\n",
      "OPTIMUM FOUND *\n",
      "Answer: 6\n",
      "(occurs(buy_coffee),2) (occurs(walk(home,coffeeshop)),1) (occurs(bus(coffeeshop,school)),3)\n",
      "OPTIMUM FOUND *\n",
      "Answer: 7\n",
      "(occurs(buy_coffee),2) (occurs(walk(home,coffeeshop)),1) (occurs(walk(coffeeshop,school)),3)\n",
      "OPTIMUM FOUND *\n",
      "\n",
      "Models       : 7\n",
      "  Optimum    : yes\n",
      "  Optimal    : 7\n",
      "Calls        : 4\n",
      "Time         : 2.664s (Solving: 0.06s 1st Model: 0.06s Unsat: 0.00s)\n",
      "CPU Time     : 2.484s\n"
     ]
    }
   ],
   "source": [
    "!clingo travel/travel_coffee.lp travel/instances.lp travel/auxiliary.lp travel/pref-externals.lp 0 --output=reify | \\\n",
    " asprin - meta-telingo.lp travel/pref.lp meta-telingo-extension.lp -c horizon=3 0"
   ]
  },
  {
   "cell_type": "markdown",
   "id": "a9248169",
   "metadata": {},
   "source": [
    "We can translate **14.** easily with `asprin` as: "
   ]
  },
  {
   "cell_type": "code",
   "execution_count": 106,
   "id": "910e9c03",
   "metadata": {},
   "outputs": [
    {
     "name": "stdout",
     "output_type": "stream",
     "text": [
      "Overwriting travel/pref.lp\n"
     ]
    }
   ],
   "source": [
    "%%file travel/pref.lp\n",
    "\n",
    "#optimize(time_and_cost).\n",
    "\n",
    "% (time_coffee) time_coffee = always(occ(buy_coffee) | (take_taxi <e (drive | bus) <e walk)) -> p. 579\n",
    "#preference(time_coffee, more(cardinality)){\n",
    "    and(initially, always(time_coffee_aux))\n",
    "}.\n",
    "\n",
    "% add coffee as a goal in travel.lp! (different action theory) -> p. 579\n",
    "% (cost_coffee) cost_coffee = always(occ(buy_coffee) | (walk <e (drive | bus) <e tak_taxi)). -> p. 579\n",
    "#preference(cost_coffee, more(cardinality)){\n",
    "    and(initially, always(cost_coffee_aux))\n",
    "}.\n",
    "\n",
    "% Ψ2 = time & cost. -> p. 579\n",
    "#preference(time_and_cost,and){ **time_coffee; **cost_coffee}."
   ]
  },
  {
   "cell_type": "code",
   "execution_count": 107,
   "id": "cbc05ba7",
   "metadata": {},
   "outputs": [
    {
     "name": "stdout",
     "output_type": "stream",
     "text": [
      "asprin version 3.1.1\n",
      "Reading from - ...\n",
      "Solving...\n",
      "Answer: 1\n",
      "(occurs(buy_coffee),2) (occurs(bus(home,coffeeshop)),1) (occurs(bus(coffeeshop,school)),3)\n",
      "OPTIMUM FOUND\n",
      "Answer: 2\n",
      "(occurs(buy_coffee),2) (occurs(drive(home,coffeeshop)),1) (occurs(drive(coffeeshop,school)),3)\n",
      "OPTIMUM FOUND *\n",
      "Answer: 3\n",
      "(occurs(buy_coffee),2) (occurs(bus(coffeeshop,school)),3) (occurs(drive(home,coffeeshop)),1)\n",
      "OPTIMUM FOUND *\n",
      "Answer: 4\n",
      "(occurs(buy_coffee),2) (occurs(walk(home,coffeeshop)),1) (occurs(walk(coffeeshop,school)),3)\n",
      "OPTIMUM FOUND\n",
      "Answer: 5\n",
      "(occurs(buy_coffee),2) (occurs(walk(coffeeshop,school)),3) (occurs(bus(home,coffeeshop)),1)\n",
      "OPTIMUM FOUND\n",
      "Answer: 6\n",
      "(occurs(buy_coffee),2) (occurs(walk(home,coffeeshop)),1) (occurs(bus(coffeeshop,school)),3)\n",
      "OPTIMUM FOUND *\n",
      "Answer: 7\n",
      "(occurs(buy_coffee),2) (occurs(walk(coffeeshop,school)),3) (occurs(drive(home,coffeeshop)),1)\n",
      "OPTIMUM FOUND *\n",
      "\n",
      "Models       : 7\n",
      "  Optimum    : yes\n",
      "  Optimal    : 7\n",
      "Calls        : 10\n",
      "Time         : 2.445s (Solving: 0.06s 1st Model: 0.06s Unsat: 0.00s)\n",
      "CPU Time     : 2.234s\n"
     ]
    }
   ],
   "source": [
    "!clingo travel/travel_coffee.lp travel/instances.lp travel/auxiliary.lp travel/pref-externals.lp 0 --output=reify | \\\n",
    " asprin - meta-telingo.lp travel/pref.lp meta-telingo-extension.lp -c horizon=3 0"
   ]
  },
  {
   "cell_type": "markdown",
   "id": "61d1a7a4",
   "metadata": {},
   "source": [
    "→ For both preferences, we see that all trajectories achieving the goal are preferred, since both time and cost cannot be simultaneously satisfied. "
   ]
  },
  {
   "cell_type": "markdown",
   "id": "3ce413b6",
   "metadata": {},
   "source": [
    "**15. `Ψ3 = time ∨ cost`**"
   ]
  },
  {
   "cell_type": "markdown",
   "id": "0cfc96fc",
   "metadata": {},
   "source": [
    "**16. `Ψ4 = time | cost`**"
   ]
  },
  {
   "cell_type": "markdown",
   "id": "8dd74543",
   "metadata": {},
   "source": [
    "\"Here, $Ψ_3$ is a basic desire while $Ψ_4$\n",
    "is a general preference. We can see that any trajectory containing the actions *taxi* and *walk* would be most preferred with respect to $Ψ_3$. All of these trajectories are indistinguishable. For example, the trajectory\n",
    "\n",
    "*α = $s_0$ walk(home, coffee shop) $s_1$ buy coffee $s_2$ walk(coffee shop, school) $s_3$*\n",
    "\n",
    "and the trajectory\n",
    "\n",
    "*β = $s_0$ walk(home, coffee shop) $s_1$ buy coffee $s_2$ take taxi(coffee shop, school) $s_3$*\n",
    "\n",
    "are indistinguishable with respect to $Ψ_3$. On the other hand, we have that $\\alpha \\prec_{\\text{cost}} \\beta$\n",
    " (the minimal cost action is always used) and $\\alpha \\approx_{\\text{time}} \\beta$\n",
    "(the fastest action is not used every time). This implies that $\\alpha \\prec_{\\Psi_4}$\" -- p. 580"
   ]
  },
  {
   "cell_type": "markdown",
   "id": "db09d942",
   "metadata": {},
   "source": [
    "We can translate **15.** as (same as **13.** but with `or` instead of `and`): "
   ]
  },
  {
   "cell_type": "markdown",
   "id": "889497a8",
   "metadata": {},
   "source": [
    "In `travel/auxiliary.lp`: \n",
    "\n",
    "`% time v cost, combine time_coffee or cost_coffee within one formula`\n",
    "\n",
    "`always(time_v_cost_aux) :- initially,`  \n",
    "\n",
    "`always(or(or(occurs(buy_coffee), and(if(and(executable(walk), or(executable(drive), executable(bus))), and(occurs(walk), negation(or(occurs(drive), occurs(bus))))), if(and(or(executable(drive), executable(bus)), executable(take_taxi)), and(or(occurs(drive), occurs(bus)), negation(occurs(take_taxi)))))), `\n",
    "\n",
    "`or(occurs(buy_coffee), and(if(and(executable(take_taxi), or(executable(drive), executable(bus))), and(occurs(take_taxi), negation(or(occurs(drive), occurs(bus))))), if(and(or(executable(drive), executable(bus)), executable(walk)), and(or(occurs(drive), occurs(bus)), negation(occurs(walk)))))))).`"
   ]
  },
  {
   "cell_type": "code",
   "execution_count": 108,
   "id": "821f5cc6",
   "metadata": {},
   "outputs": [
    {
     "name": "stdout",
     "output_type": "stream",
     "text": [
      "Overwriting travel/pref.lp\n"
     ]
    }
   ],
   "source": [
    "%%file travel/pref.lp\n",
    "\n",
    "#optimize(time_v_cost).\n",
    "\n",
    "% Ψ3 = time u cost -> p. 580\n",
    "#preference(time_v_cost, more(cardinality)){\n",
    "    and(initially, always(time_v_cost_aux))\n",
    "    }."
   ]
  },
  {
   "cell_type": "code",
   "execution_count": 109,
   "id": "4152829f",
   "metadata": {},
   "outputs": [
    {
     "name": "stdout",
     "output_type": "stream",
     "text": [
      "asprin version 3.1.1\n",
      "Reading from - ...\n",
      "Solving...\n",
      "Answer: 1\n",
      "(occurs(buy_coffee),2) (occurs(bus(home,coffeeshop)),1) (occurs(bus(coffeeshop,school)),3)\n",
      "OPTIMUM FOUND\n",
      "Answer: 2\n",
      "(occurs(buy_coffee),2) (occurs(drive(home,coffeeshop)),1) (occurs(drive(coffeeshop,school)),3)\n",
      "OPTIMUM FOUND *\n",
      "Answer: 3\n",
      "(occurs(buy_coffee),2) (occurs(bus(coffeeshop,school)),3) (occurs(drive(home,coffeeshop)),1)\n",
      "OPTIMUM FOUND *\n",
      "Answer: 4\n",
      "(occurs(buy_coffee),2) (occurs(walk(coffeeshop,school)),3) (occurs(drive(home,coffeeshop)),1)\n",
      "OPTIMUM FOUND *\n",
      "Answer: 5\n",
      "(occurs(buy_coffee),2) (occurs(walk(coffeeshop,school)),3) (occurs(bus(home,coffeeshop)),1)\n",
      "OPTIMUM FOUND *\n",
      "Answer: 6\n",
      "(occurs(buy_coffee),2) (occurs(walk(home,coffeeshop)),1) (occurs(walk(coffeeshop,school)),3)\n",
      "OPTIMUM FOUND *\n",
      "Answer: 7\n",
      "(occurs(buy_coffee),2) (occurs(walk(home,coffeeshop)),1) (occurs(bus(coffeeshop,school)),3)\n",
      "OPTIMUM FOUND *\n",
      "\n",
      "Models       : 7\n",
      "  Optimum    : yes\n",
      "  Optimal    : 7\n",
      "Calls        : 4\n",
      "Time         : 2.371s (Solving: 0.05s 1st Model: 0.05s Unsat: 0.00s)\n",
      "CPU Time     : 2.297s\n"
     ]
    }
   ],
   "source": [
    "!clingo travel/travel_coffee.lp travel/instances.lp travel/auxiliary.lp travel/pref-externals.lp 0 --output=reify | \\\n",
    " asprin - meta-telingo.lp travel/pref.lp meta-telingo-extension.lp -c horizon=3 0"
   ]
  },
  {
   "cell_type": "markdown",
   "id": "cfff4424",
   "metadata": {},
   "source": [
    "→ Since taxi is never executable, either walking or taking the bus/car is preferred. "
   ]
  },
  {
   "cell_type": "markdown",
   "id": "c11da45c",
   "metadata": {},
   "source": [
    "We can translate **16.** with `asprin's pareto` as: "
   ]
  },
  {
   "cell_type": "code",
   "execution_count": 110,
   "id": "aa5503f4",
   "metadata": {},
   "outputs": [
    {
     "name": "stdout",
     "output_type": "stream",
     "text": [
      "Overwriting travel/pref.lp\n"
     ]
    }
   ],
   "source": [
    "%%file travel/pref.lp\n",
    "\n",
    "#optimize(time_or_cost).\n",
    "\n",
    "% (time_coffee) time_coffee = always(occ(buy_coffee) | (take_taxi <e (drive | bus) <e walk)) -> p. 579\n",
    "#preference(time_coffee, more(cardinality)){\n",
    "    and(initially, always(time_coffee_aux))\n",
    "}.\n",
    "\n",
    "% add coffee as a goal in travel.lp! (different action theory) -> p. 579\n",
    "% (cost_coffee) cost_coffee = always(occ(buy_coffee) | (walk <e (drive | bus) <e tak_taxi)). -> p. 579\n",
    "#preference(cost_coffee, more(cardinality)){\n",
    "    and(initially, always(cost_coffee_aux))\n",
    "}.\n",
    "\n",
    "% Ψ4 = time | cost -> p. 580\n",
    "#preference(time_or_cost,pareto){ **time_coffee; **cost_coffee}.\n"
   ]
  },
  {
   "cell_type": "code",
   "execution_count": 111,
   "id": "6781c4c8",
   "metadata": {},
   "outputs": [
    {
     "name": "stdout",
     "output_type": "stream",
     "text": [
      "asprin version 3.1.1\n",
      "Reading from - ...\n",
      "Solving...\n",
      "Answer: 1\n",
      "(occurs(buy_coffee),2) (occurs(bus(home,coffeeshop)),1) (occurs(bus(coffeeshop,school)),3)\n",
      "OPTIMUM FOUND\n",
      "Answer: 2\n",
      "(occurs(buy_coffee),2) (occurs(drive(home,coffeeshop)),1) (occurs(drive(coffeeshop,school)),3)\n",
      "OPTIMUM FOUND *\n",
      "Answer: 3\n",
      "(occurs(buy_coffee),2) (occurs(bus(coffeeshop,school)),3) (occurs(drive(home,coffeeshop)),1)\n",
      "OPTIMUM FOUND *\n",
      "Answer: 4\n",
      "(occurs(buy_coffee),2) (occurs(walk(home,coffeeshop)),1) (occurs(walk(coffeeshop,school)),3)\n",
      "OPTIMUM FOUND\n",
      "\n",
      "Models       : 4\n",
      "  Optimum    : yes\n",
      "  Optimal    : 4\n",
      "Calls        : 7\n",
      "Time         : 2.519s (Solving: 0.05s 1st Model: 0.05s Unsat: 0.00s)\n",
      "CPU Time     : 2.344s\n"
     ]
    }
   ],
   "source": [
    "!clingo travel/travel_coffee.lp travel/instances.lp travel/auxiliary.lp travel/pref-externals.lp 0 --output=reify | \\\n",
    " asprin - meta-telingo.lp travel/pref.lp meta-telingo-extension.lp -c horizon=3 0"
   ]
  },
  {
   "cell_type": "markdown",
   "id": "86a890cf",
   "metadata": {},
   "source": [
    "→ Here only trajectories **always** satisfiying the preference `time_coffee` or **always** satisfying the preference `cost_coffee` are preferred (so only walking or only driving/taking the bus), which is why we get a subset of the answer sets from the basic desire before. "
   ]
  },
  {
   "cell_type": "markdown",
   "id": "afd29b12",
   "metadata": {},
   "source": [
    "**17. `Ψ5 =! time.`**"
   ]
  },
  {
   "cell_type": "markdown",
   "id": "a2030895",
   "metadata": {},
   "source": [
    "This can be translated with `asprin's neg` as: "
   ]
  },
  {
   "cell_type": "code",
   "execution_count": 114,
   "id": "4ed61a3d",
   "metadata": {},
   "outputs": [
    {
     "name": "stdout",
     "output_type": "stream",
     "text": [
      "Overwriting travel/pref.lp\n"
     ]
    }
   ],
   "source": [
    "%%file travel/pref.lp\n",
    "\n",
    "#optimize(negated_time).\n",
    "\n",
    "% (time_coffee) time_coffee = always(occ(buy_coffee) | (take_taxi <e (drive | bus) <e walk)) -> p. 579\n",
    "#preference(time_coffee, more(cardinality)){\n",
    "    and(initially, always(time_coffee_aux))\n",
    "}.\n",
    "\n",
    "% Ψ5 =! time -> p. 580\n",
    "#preference(negated_time, neg){\n",
    "    **time_coffee\n",
    "    }."
   ]
  },
  {
   "cell_type": "code",
   "execution_count": 115,
   "id": "828cf15b",
   "metadata": {},
   "outputs": [
    {
     "name": "stdout",
     "output_type": "stream",
     "text": [
      "asprin version 3.1.1\n",
      "Reading from - ...\n",
      "Solving...\n",
      "Answer: 1\n",
      "(occurs(buy_coffee),2) (occurs(bus(home,coffeeshop)),1) (occurs(bus(coffeeshop,school)),3)\n",
      "Answer: 2\n",
      "(occurs(buy_coffee),2) (occurs(walk(coffeeshop,school)),3) (occurs(bus(home,coffeeshop)),1)\n",
      "OPTIMUM FOUND\n",
      "Answer: 3\n",
      "(occurs(buy_coffee),2) (occurs(walk(coffeeshop,school)),3) (occurs(drive(home,coffeeshop)),1)\n",
      "OPTIMUM FOUND *\n",
      "Answer: 4\n",
      "(occurs(buy_coffee),2) (occurs(walk(home,coffeeshop)),1) (occurs(walk(coffeeshop,school)),3)\n",
      "OPTIMUM FOUND *\n",
      "Answer: 5\n",
      "(occurs(buy_coffee),2) (occurs(walk(home,coffeeshop)),1) (occurs(bus(coffeeshop,school)),3)\n",
      "OPTIMUM FOUND *\n",
      "\n",
      "Models       : 5\n",
      "  Optimum    : yes\n",
      "  Optimal    : 4\n",
      "Calls        : 5\n",
      "Time         : 2.841s (Solving: 0.06s 1st Model: 0.06s Unsat: 0.00s)\n",
      "CPU Time     : 2.562s\n"
     ]
    }
   ],
   "source": [
    "!clingo travel/travel_coffee.lp travel/instances.lp travel/auxiliary.lp travel/pref-externals.lp 0 --output=reify | \\\n",
    " asprin - meta-telingo.lp travel/pref.lp meta-telingo-extension.lp -c horizon=3 0"
   ]
  },
  {
   "cell_type": "markdown",
   "id": "b5babd39",
   "metadata": {},
   "source": [
    "→ Every trajectory containing `walk` is not preferred. "
   ]
  },
  {
   "cell_type": "markdown",
   "id": "c073321a",
   "metadata": {},
   "source": [
    "**Preference for shortest trajectory – formula based encoding** (p. 592)"
   ]
  },
  {
   "cell_type": "markdown",
   "id": "b9ef33a0",
   "metadata": {},
   "source": [
    "For a bound n given, we can also implement a preference for the shortest trajectory. In our example we will use up to `n=5`:"
   ]
  },
  {
   "cell_type": "markdown",
   "id": "6a0cd85c",
   "metadata": {},
   "source": [
    "In `travel/auxiliary.lp`: \n",
    "\n",
    "`% shortest, for n = 5`\n",
    "\n",
    "`sigma(0) :- initially, holds(goal_achieved).`\n",
    "\n",
    "`sigma(1)  :- initially, not holds(goal_achieved), next(holds(goal_achieved)).`\n",
    "\n",
    "`sigma(2) :- initially, not holds(goal_achieved), not \n",
    "             next(holds(goal_achieved)), next(next(holds(goal_achieved))).`\n",
    "             \n",
    "`sigma(3) :- initially, not holds(goal_achieved), not next(holds(goal_achieved)), not next(next(holds(goal_achieved))), \n",
    "next(next(next(holds(goal_achieved)))).`\n",
    "            \n",
    "`sigma(4) :- initially, not holds(goal_achieved), not next(holds(goal_achieved)), not next(next(holds(goal_achieved))), not next(next(next(holds(goal_achieved)))), next(next(next(next(holds(goal_achieved))))).`\n",
    "            \n",
    "`sigma(5) :- initially, not holds(goal_achieved), not next(holds(goal_achieved)), not next(next(holds(goal_achieved))), not next(next(next(holds(goal_achieved)))),\n",
    "not next(next(next(next(holds(goal_achieved))))), next(next(next(next(next(holds(goal_achieved)))))).`"
   ]
  },
  {
   "cell_type": "code",
   "execution_count": 116,
   "id": "686ab7f8",
   "metadata": {},
   "outputs": [
    {
     "name": "stdout",
     "output_type": "stream",
     "text": [
      "Overwriting travel/pref.lp\n"
     ]
    }
   ],
   "source": [
    "%%file travel/pref.lp\n",
    "\n",
    "#optimize(shortest_formula_based).\n",
    "\n",
    "% for n = 5 (4.4.1)  p. 592\n",
    "#preference(t(W), more(cardinality)){\n",
    "    and(initially,sigma(W))} : W = 0..5.\n",
    "\n",
    "#preference(shortest_formula_based,lexico){\n",
    "    -W :: **t(W) : W = 0..5\n",
    "    }."
   ]
  },
  {
   "cell_type": "code",
   "execution_count": 117,
   "id": "a5b0b6c8",
   "metadata": {},
   "outputs": [
    {
     "name": "stdout",
     "output_type": "stream",
     "text": [
      "asprin version 3.1.1\n",
      "Reading from - ...\n",
      "Solving...\n",
      "Answer: 1\n",
      "(occurs(buy_coffee),4) (occurs(walk(home,coffeeshop)),3) (occurs(walk(coffeeshop,school)),5) (occurs(bus(home,school)),1) (occurs(bus(school,home)),2)\n",
      "Answer: 2\n",
      "(occurs(buy_coffee),3) (occurs(walk(coffeeshop,school)),4) (occurs(take_taxi(home,coffeeshop)),2) (occurs(call_taxi(home)),1) (occurs(stop),5)\n",
      "Answer: 3\n",
      "(occurs(buy_coffee),2) (occurs(walk(coffeeshop,school)),3) (occurs(bus(home,coffeeshop)),1) (occurs(noop),5) (occurs(stop),4)\n",
      "OPTIMUM FOUND\n",
      "Answer: 4\n",
      "(occurs(buy_coffee),2) (occurs(walk(home,coffeeshop)),1) (occurs(walk(coffeeshop,school)),3) (occurs(noop),5) (occurs(stop),4)\n",
      "OPTIMUM FOUND *\n",
      "Answer: 5\n",
      "(occurs(buy_coffee),2) (occurs(walk(home,coffeeshop)),1) (occurs(bus(coffeeshop,school)),3) (occurs(noop),5) (occurs(stop),4)\n",
      "OPTIMUM FOUND *\n",
      "Answer: 6\n",
      "(occurs(buy_coffee),2) (occurs(walk(coffeeshop,school)),3) (occurs(drive(home,coffeeshop)),1) (occurs(noop),5) (occurs(stop),4)\n",
      "OPTIMUM FOUND *\n",
      "Answer: 7\n",
      "(occurs(buy_coffee),2) (occurs(drive(home,coffeeshop)),1) (occurs(drive(coffeeshop,school)),3) (occurs(noop),5) (occurs(stop),4)\n",
      "OPTIMUM FOUND *\n",
      "Answer: 8\n",
      "(occurs(buy_coffee),2) (occurs(bus(home,coffeeshop)),1) (occurs(bus(coffeeshop,school)),3) (occurs(noop),5) (occurs(stop),4)\n",
      "OPTIMUM FOUND *\n",
      "Answer: 9\n",
      "(occurs(buy_coffee),2) (occurs(bus(coffeeshop,school)),3) (occurs(drive(home,coffeeshop)),1) (occurs(noop),5) (occurs(stop),4)\n",
      "OPTIMUM FOUND *\n",
      "\n",
      "Models       : 9\n",
      "  Optimum    : yes\n",
      "  Optimal    : 7\n",
      "Calls        : 6\n",
      "Time         : 3.827s (Solving: 0.56s 1st Model: 0.42s Unsat: 0.09s)\n",
      "CPU Time     : 3.547s\n"
     ]
    }
   ],
   "source": [
    "!clingo travel/travel_coffee.lp travel/instances.lp travel/auxiliary.lp travel/pref-externals.lp 0 --output=reify | \\\n",
    " asprin - meta-telingo.lp travel/pref.lp meta-telingo-extension.lp -c horizon=5 0"
   ]
  },
  {
   "cell_type": "markdown",
   "id": "ac4d5ce3",
   "metadata": {},
   "source": [
    "Although we give `horizon=5`, the goal can be achieved in 3 timesteps and this is also reflected in the preferred paths. "
   ]
  },
  {
   "cell_type": "markdown",
   "id": "aad968df",
   "metadata": {},
   "source": [
    "**Preference for shortest trajectory – action based encoding** (p. 592)"
   ]
  },
  {
   "cell_type": "markdown",
   "id": "385d7559",
   "metadata": {},
   "source": [
    "\"The formula based encoding $\\textit{short}(n, \\varphi)$\n",
    "requires the bound $\\textit{n}$ to be given. We now present another encoding that does not require this condition. We introduce two additional fictitious actions *stop* and *noop* and a new fluent *ended*. The action *stop* will be triggered when the goal is achieved; *noop* is used to fill the slot so that we can compare between trajectories; the fluent ended will denote the fact that the goal has been achieved. We add to the action theory the propositions:\n",
    "\n",
    "\n",
    "*stop* **causes** *ended*\n",
    "\n",
    "*stop* **executable if** *ϕ*\n",
    "\n",
    "*noop* **causes** *ended*\n",
    "\n",
    "*noop* **executable if** *ended*\n",
    "\n",
    "\n",
    "Furthermore, we add the condition ¬*ended* to the executability condition of every action in ($\\textit{D}$, $\\textit{I}$) and to the initial state $\\textit{I}$. We can encode the condition of shortest length trajectory as follows. Let\n",
    "\n",
    "\n",
    "*short* = **always**((*stop* ∨ *noop*) $<^e$ ($a_1$ ∨ ... ∨ $a_k$)).\n",
    "\n",
    "\n",
    "where $a_1$,...,$a_k$ are the actions in the original action theory. Again, we can show that any most preferred trajectory w.r.t. short is a shortest length trajectory satisfying the goal ϕ. Observe the difference between *short(n, ϕ)* and *short*: both are built using temporal connectives but the former uses fluent formula and the latter uses actions. The second one, we believe, is simpler than the first one; however, it requires some modifications to the original action theory.\" (p. 592)"
   ]
  },
  {
   "cell_type": "markdown",
   "id": "02778f42",
   "metadata": {},
   "source": [
    "We now add *stop*, *noop* and *ended* to our action theory and show with a simpler example that this implementation does not work as suggested in the paper:"
   ]
  },
  {
   "cell_type": "code",
   "execution_count": null,
   "id": "8e412a9b",
   "metadata": {},
   "outputs": [],
   "source": [
    "%%file travel/test.lp\n",
    "\n",
    "% FLUENTS\n",
    "\n",
    "% clingo travel/test.lp travel/auxiliary.lp travel/pref-externals.lp  0 --output=reify | asprin - meta-telingo.lp travel/pref.lp meta-telingo-extension.lp -c horizon=1 0\n",
    "% ACTIONS WITH THEIR EXECUTABILITY CONDITIONS (ACTION PRECONDITION AXIOMS)\n",
    "\n",
    "action(do_f).\n",
    "action(wait).\n",
    "\n",
    ":- prec(A,F,true), occurs(A), not prev(holds(F)).\n",
    ":- prec(A,F,false), occurs(A), prev(holds(F)).\n",
    "\n",
    "\n",
    "% ACTIONS WITH THEIR EFFECTS (EFFECTS)\n",
    "eff(do_f, f, true) :- action(do_f).\n",
    "executable(do_f).\n",
    "executable(wait).\n",
    "\n",
    "% Update by effects\n",
    "holds(F) :- occurs(A), eff(A, F, true).\n",
    "\n",
    "{ occurs(A) : action(A), A != stop, A != noop } 1 :- not holds(ended).\n",
    "\n",
    "% INERTIA\n",
    "wnext(holds(F)) :- holds(F), not wnext(neg(F)).\n",
    "\n",
    "\n",
    "% GOAL\n",
    "holds(goal_achieved) :- holds(f).\n",
    ":- finally, not holds(goal_achieved).\n",
    "\n",
    "% as soon as the goal is achieved, fire stop (once)\n",
    "wnext(occurs(stop)) :- holds(goal_achieved), not holds(ended).\n",
    "prec(stop, goal_achieved, true).   % stop executable if goal\n",
    "wnext(executable(stop)) :- holds(goal_achieved), not holds(ended).\n",
    "\n",
    "\n",
    "eff(stop, ended, true).        % stop causes ended\n",
    "\n",
    "% after ended holds, fire noop every step\n",
    "wnext(occurs(noop)) :- holds(ended).\n",
    "prec(noop, ended,    true).        % noop executable if ended\n",
    "wnext(executable(noop)) :-  holds(ended).\n",
    "\n",
    "eff(noop, ended, true).        % noop causes ended\n",
    "\n",
    "\n",
    "\n",
    "#external initially.\n",
    "#external finally.\n",
    "#external occurs(stop).\n",
    "#external wnext(occurs(noop)).\n",
    "#external holds(ended).\n",
    "#external eventually(holds(goal_achieved)).\n",
    "#external eventually(holds(f)).\n",
    "#external prev(holds(F)) : prec(A,F,true).\n",
    "#external wnext(neg(F)) : prec(A,F,true).\n",
    "\n",
    "#show show(occurs(X)) : action(X).\n",
    "#show show(holds(F)) : eff(A, F, true).\n"
   ]
  },
  {
   "cell_type": "markdown",
   "id": "543027cd",
   "metadata": {},
   "source": [
    "The temporal formula  `short = always((stop ∨ noop) <e (a1 ∨ ... ∨ ak))`. is translated in `travel/auxiliary.lp` as: \n",
    "    \n",
    "`always(short_aux_test) :- initially, \n",
    "always(if(and(or(executable(stop), executable(noop)), or(executable(wait), executable(do_f))), and(or(occurs(stop), occurs(noop)), negation(or(occurs(wait), occurs(do_f)))))).`\n",
    "\n",
    " → Translation: If `stop` or `noop` and any other action is executable, `stop` or `noop` shoud be occur, no other action."
   ]
  },
  {
   "cell_type": "code",
   "execution_count": 126,
   "id": "c18f3f13",
   "metadata": {},
   "outputs": [
    {
     "name": "stdout",
     "output_type": "stream",
     "text": [
      "Overwriting travel/pref.lp\n"
     ]
    }
   ],
   "source": [
    "%%file travel/pref.lp\n",
    "\n",
    "#optimize(shortest_action_based).\n",
    "\n",
    "% for unbound n (4.4.2)-> p. 592\n",
    "% run with test.lp\n",
    "% short = always((stop v noop) <e (a1 v ... v ak)).\n",
    "#preference(shortest_action_based,  more(cardinality)) {\n",
    "    and(initially, always(short_aux_test))\n",
    "}.\n"
   ]
  },
  {
   "cell_type": "code",
   "execution_count": 127,
   "id": "13e1cf1f",
   "metadata": {},
   "outputs": [
    {
     "name": "stdout",
     "output_type": "stream",
     "text": [
      "asprin version 3.1.1\n",
      "Reading from - ...\n",
      "Solving...\n",
      "Answer: 1\n",
      "(holds(ended),1) (holds(f),1) (holds(f),0) (occurs(do_f),0) (occurs(stop),1)\n",
      "OPTIMUM FOUND\n",
      "Answer: 2\n",
      "(holds(f),1) (occurs(do_f),1)\n",
      "OPTIMUM FOUND *\n",
      "Answer: 3\n",
      "(holds(f),1) (occurs(do_f),1) (occurs(wait),0)\n",
      "OPTIMUM FOUND *\n",
      "\n",
      "Models       : 3\n",
      "  Optimum    : yes\n",
      "  Optimal    : 3\n",
      "Calls        : 4\n",
      "Time         : 0.289s (Solving: 0.01s 1st Model: 0.01s Unsat: 0.00s)\n",
      "CPU Time     : 0.281s\n"
     ]
    }
   ],
   "source": [
    "!clingo travel/test.lp travel/auxiliary.lp travel/pref-externals.lp  0 --output=reify | asprin - meta-telingo.lp travel/pref.lp meta-telingo-extension.lp -c horizon=1 0"
   ]
  },
  {
   "cell_type": "markdown",
   "id": "2a21b62a",
   "metadata": {},
   "source": [
    "→ We see that all trajectories are preferred although the goal can be achieved in the first step `((holds(ended),1) (holds(f),1) (holds(f),0) (occurs(do_f),0) (occurs(stop),1))`. This is because, if the action that achieves this goal is not executed, neither `stop` nor `noop` is executable, leading for the formula to be true in these cases as well. Thus, all models are optimal"
   ]
  },
  {
   "cell_type": "markdown",
   "id": "44c525b9",
   "metadata": {},
   "source": [
    "**Cheapest Plan** (p. 592)"
   ]
  },
  {
   "cell_type": "markdown",
   "id": "158b8ea6",
   "metadata": {},
   "source": [
    "We can associate costs to each action and determine trajectories that have minimal cost by adding up values of all actions and then minimizing that number (see p. 593). We simply added this to `travel/travel.lp`:\n",
    "\n",
    "`holds(sCost(0)) :- initially. `\n",
    "`holds(sCost(NC)) :-\n",
    "    prev(holds(sCost(N))),\n",
    "    occurs(A),\n",
    "    cost(A, C),\n",
    "    num(N), num(C), NC = N + C, num(NC).`\n",
    "\n",
    "`wnext(neg(sCost(N))) :-\n",
    "    holds(sCost(N)),\n",
    "    wnext(holds(sCost(M))), N != M.`\n",
    "\n",
    ".... and this* into `travel/instances.lp`:\n",
    "\n",
    "`% Costs`\n",
    "`cost(walk(X,Y), 0) :- action(walk(X,Y)).\n",
    "cost(bus(X,Y), 2) :- action(bus(X,Y)).\n",
    "cost(flight(X,Y), 0) :- action(flight(X,Y)).\n",
    "cost(take_taxi(X,Y), 3) :- action(take_taxi(X,Y)).\n",
    "cost(call_taxi(X), 0) :- action(call_taxi(X)).\n",
    "cost(rent_car(X), 0) :- action(rent_car(X)).\n",
    "cost(drive(X,Y), 2) :- action(drive(X,Y)).\n",
    "cost(buy_ticket(X,Y), 10) :- action(buy_ticket(X,Y)).\n",
    "cost(buy_coffee, 1) :- action(buy_coffee).\n",
    "cost(noop, 0).\n",
    "cost(stop, 0).`\n",
    "\n",
    "`#const maxCost=100.\n",
    "num(0..maxCost).`\n",
    "\n",
    "\\*Note: Costs for actions are not given in the paper, we assigned these values."
   ]
  },
  {
   "cell_type": "code",
   "execution_count": 128,
   "id": "3dbe51a8",
   "metadata": {},
   "outputs": [
    {
     "name": "stdout",
     "output_type": "stream",
     "text": [
      "Overwriting travel/pref.lp\n"
     ]
    }
   ],
   "source": [
    "%%file travel/pref.lp\n",
    "\n",
    "#const maxCost=100.\n",
    "\n",
    "#optimize(cheapest).\n",
    "\n",
    "% cheapest trajectory -> p. 593\n",
    "#preference(c(W), more(cardinality)){\n",
    "    eventually(cost_overall(W))}: W = 0..maxCost.\n",
    "\n",
    "#preference(cheapest,lexico){\n",
    "    -W :: **c(W) : W = 0..maxCost\n",
    "    }."
   ]
  },
  {
   "cell_type": "code",
   "execution_count": 129,
   "id": "2338e051",
   "metadata": {},
   "outputs": [
    {
     "name": "stdout",
     "output_type": "stream",
     "text": [
      "asprin version 3.1.1\n",
      "Reading from - ...\n",
      "Solving...\n",
      "Answer: 1\n",
      "(occurs(buy_coffee),2) (occurs(bus(home,coffeeshop)),1) (occurs(bus(coffeeshop,school)),3)\n",
      "Answer: 2\n",
      "(occurs(buy_coffee),2) (occurs(walk(coffeeshop,school)),3) (occurs(bus(home,coffeeshop)),1)\n",
      "Answer: 3\n",
      "(occurs(buy_coffee),2) (occurs(walk(home,coffeeshop)),1) (occurs(walk(coffeeshop,school)),3)\n",
      "OPTIMUM FOUND\n",
      "\n",
      "Models       : 3\n",
      "  Optimum    : yes\n",
      "  Optimal    : 1\n",
      "Calls        : 6\n",
      "Time         : 2.810s (Solving: 0.06s 1st Model: 0.05s Unsat: 0.00s)\n",
      "CPU Time     : 2.562s\n"
     ]
    }
   ],
   "source": [
    "!clingo travel/travel_coffee.lp travel/instances.lp travel/auxiliary.lp travel/pref-externals.lp  0 --output=reify | asprin - meta-telingo.lp travel/pref.lp meta-telingo-extension.lp -c horizon=3 0"
   ]
  },
  {
   "cell_type": "markdown",
   "id": "7064d239",
   "metadata": {},
   "source": [
    "→ The cheapest plan contains only walking (note that the agent still needs to get a coffee to achieve the goal)."
   ]
  },
  {
   "cell_type": "markdown",
   "id": "57b07851",
   "metadata": {},
   "source": [
    "**Additional implementation--Weak Desire**"
   ]
  },
  {
   "cell_type": "markdown",
   "id": "69f94c8e",
   "metadata": {},
   "source": [
    "When implementing the \"enabled desires\" such as `time = always(taxi <e (drive ∨ bus) <e walk)` (p.570) we noticed some behaviours that may be undesirable:\n",
    "\n",
    "1) Since taking a taxi is never executable without calling a taxi first (at least in this problem setting), a taxi is never called. If we called a taxi at a time step instead of just taking the next best option, i.e. taking the car or a bus, the formula would not be satisfied, leading to a non-optimal model. \n",
    "\n",
    "2) If **all** actions are executable at the same time, there is a contradiction in the formula since a. Since *taxi* and *(drive v bus)* is executable, *taxi* must be true and *(drive v bus)* must be false and since b. Since *drive v bus* and *walk* is executable, *(drive v bus)* must be true and *walk* must be false. So *(drive v bus)* would both be true and false, leading to this contradiction, never satisfying the formula. \n",
    "\n",
    "In order to avoid these drawbacks, one could implement these desires with the formula for a weak basic desire instead of an enabled desire. We present this approach for `time = always(taxi <w (drive ∨ bus) <w walk)`:"
   ]
  },
  {
   "cell_type": "markdown",
   "id": "cc57e581",
   "metadata": {},
   "source": [
    "**Time (Weak Desire)**"
   ]
  },
  {
   "cell_type": "markdown",
   "id": "5f83024c",
   "metadata": {},
   "source": [
    "In `travel/auxiliary.lp`:\n",
    "\n",
    "`% (time weak) time = always(taxi <w (drive|bus) <w walk) -> p. 570`\n",
    "\n",
    "`always(time_weak_aux) :- initially, always(and(or(occurs(take_taxi), negation(or(occurs(drive), occurs(bus)))), or(or(occurs(drive), occurs(bus)), negation(occurs(walk))))).`"
   ]
  },
  {
   "cell_type": "code",
   "execution_count": 130,
   "id": "a754fbc2",
   "metadata": {},
   "outputs": [
    {
     "name": "stdout",
     "output_type": "stream",
     "text": [
      "Overwriting travel/pref.lp\n"
     ]
    }
   ],
   "source": [
    "%%file travel/pref.lp\n",
    "#optimize(time_weak).\n",
    "\n",
    "#preference(time_weak, more(cardinality)){\n",
    "    and(initially, always(time_weak_aux))\n",
    "}."
   ]
  },
  {
   "cell_type": "code",
   "execution_count": 131,
   "id": "b3448f27",
   "metadata": {},
   "outputs": [
    {
     "name": "stdout",
     "output_type": "stream",
     "text": [
      "asprin version 3.1.1\n",
      "Reading from - ...\n",
      "Solving...\n",
      "Answer: 1\n",
      "(occurs(walk(home,school)),2) (occurs(rent_car(home)),1)\n",
      "Answer: 2\n",
      "(occurs(take_taxi(home,school)),2) (occurs(call_taxi(home)),1)\n",
      "OPTIMUM FOUND\n",
      "Answer: 3\n",
      "(occurs(flight(home,school)),2) (occurs(buy_ticket(home,school)),1)\n",
      "OPTIMUM FOUND *\n",
      "\n",
      "Models       : 3\n",
      "  Optimum    : yes\n",
      "  Optimal    : 2\n",
      "Calls        : 5\n",
      "Time         : 2.958s (Solving: 0.03s 1st Model: 0.02s Unsat: 0.01s)\n",
      "CPU Time     : 2.625s\n"
     ]
    }
   ],
   "source": [
    "!clingo travel/travel.lp travel/instances.lp travel/auxiliary.lp travel/pref-externals.lp  0 --output=reify | asprin - meta-telingo.lp travel/pref.lp meta-telingo-extension.lp -c horizon=2 0"
   ]
  },
  {
   "cell_type": "markdown",
   "id": "97a33fc8",
   "metadata": {},
   "source": [
    "→ Now, instead of taking the bus or car immediately, the agent can call a taxi (or buy a plane ticket) and fulfill the preference."
   ]
  },
  {
   "cell_type": "markdown",
   "id": "9ab67637",
   "metadata": {},
   "source": [
    "## Monkey Problem 🐒🍌🍫🥥"
   ]
  },
  {
   "cell_type": "markdown",
   "id": "9c96290f",
   "metadata": {},
   "source": [
    "Modelling after paper: **Son, T. C., & Pontelli, E. (2006). Planning with preferences using logic programming. Theory and Practice of Logic Programming, 6(5), 559-607.** https://www.cambridge.org/core/journals/theory-and-practice-of-logic-programming/article/planning-with-preferences-using-logic-programming/441D04E11B5B0008367591DA813382A7"
   ]
  },
  {
   "cell_type": "markdown",
   "id": "4cc03dc4",
   "metadata": {},
   "source": [
    "*\"Let us consider the monkey-and-banana example as formulated in Delgrande et al.\n",
    "(2004). The world includes the following entities: a monkey, a banana hanging from\n",
    "the ceiling, a coconut on the floor, and a chocolate bar inside a closed drawer.\n",
    "Initially, all the entities are in different locations in a room. The room includes also\n",
    "a box that can be pushed and climbed on to reach the ceiling and grab the banana.\n",
    "The goal is to get the chocolate as well as at least one of the banana or the coconut.\" \n",
    "The domain description includes the following fluents: (p. 594)*"
   ]
  },
  {
   "cell_type": "markdown",
   "id": "24d67856",
   "metadata": {},
   "source": [
    "Again, we can directly translate the problem into ASP: "
   ]
  },
  {
   "cell_type": "markdown",
   "id": "8ff7d522",
   "metadata": {},
   "source": [
    "• *location(Entity, Location) denoting the current Location of Entity; the domain\n",
    "of Entity is {monkey, banana, coconut, drawer, box} and the domain of Location\n",
    "is {1,..., 5} (denoting 5 different positions in the room).*"
   ]
  },
  {
   "cell_type": "markdown",
   "id": "b09d1570",
   "metadata": {},
   "source": [
    "... can be translated as ..."
   ]
  },
  {
   "cell_type": "code",
   "execution_count": 132,
   "id": "91eca551",
   "metadata": {},
   "outputs": [
    {
     "name": "stdout",
     "output_type": "stream",
     "text": [
      "Overwriting monkey/instances.lp\n"
     ]
    }
   ],
   "source": [
    "%%file monkey/instances.lp\n",
    "\n",
    "% Entities\n",
    "entity(monkey; banana; coconut; drawer; box).\n",
    "\n",
    "% Locations\n",
    "location(1..5)."
   ]
  },
  {
   "cell_type": "markdown",
   "id": "cc12074c",
   "metadata": {},
   "source": [
    "*\"The action theory provides actions to walk in the room, move the box, climb on and off the box, grab objects, and open drawers. The goal considered here is expressed by the fluent formula: `hasChocolate ∧ (hasCoconut ∨ hasBanana)`\"*\n",
    "\n",
    "The monkey problem can thus be translated (as we've seen before) by the help of fluents and action items: "
   ]
  },
  {
   "cell_type": "code",
   "execution_count": 133,
   "id": "fc018dbd",
   "metadata": {},
   "outputs": [
    {
     "name": "stdout",
     "output_type": "stream",
     "text": [
      "Overwriting monkey/monkey.lp\n"
     ]
    }
   ],
   "source": [
    "%%file monkey/monkey.lp\n",
    "% FLUENTS\n",
    "\n",
    "% 2: ceiling, 3: floor, 4: drawer\n",
    "holds(at(monkey, 1)) :- initially.\n",
    "holds(at(banana, 2)) :- initially.\n",
    "holds(at(coconut, 3)) :- initially.\n",
    "holds(at(drawer, 4)) :- initially.\n",
    "holds(at(chocolate, 4)) :- initially.\n",
    "holds(at(box, 5)) :- initially.\n",
    "\n",
    "% ACTIONS WITH THEIR EXECUTABILITY CONDITIONS (ACTION PRECONDITION AXIOMS)\n",
    "action(walk(X,Y)) :- location(X), location(Y), X != Y.\n",
    "prec(walk(X,Y), at(monkey, Y), false) :- action(walk(X,Y)).\n",
    "prec(walk(X,Y), at(monkey, X), true) :- action(walk(X,Y)).\n",
    "prec(walk(X,Y), onBox, false) :- action(walk(X,Y)).\n",
    "\n",
    "action(push(X,Y)) :- location(X), location(Y), X!=Y.\n",
    "prec(push(X,Y), at(monkey,X), true) :- action(push(X,Y)).\n",
    "prec(push(X,Y), at(box,X), true) :- action(push(X,Y)).\n",
    "prec(push(X,Y), onBox, false) :- action(push(X,Y)).\n",
    "\n",
    "action(climb).\n",
    "prec(climb, onBox, false) :- action(climb).\n",
    "prec(climb, at(monkey,X), true) :- action(climb), holds(at(box,X)).\n",
    "\n",
    "action(descend).\n",
    "prec(descend, onBox, true) :- action(descend).\n",
    "\n",
    "action(grasp).\n",
    "prec(grasp, onBox, true) :- action(grasp).\n",
    "prec(grasp, at(monkey, X), true) : holds(at(box,X)) :- action(grasp).\n",
    "prec(grasp, at(banana, X), true) : holds(at(box,X)) :- action(grasp).\n",
    "\n",
    "action(open).\n",
    "prec(open, drawerOpen, false) :- action(open).\n",
    "prec(open, at(monkey,X), true) : holds(at(drawer,X)) :- action(open).\n",
    "\n",
    "action(take_chocolate).\n",
    "prec(take_chocolate, drawerOpen, true) :- action(take_chocolate).\n",
    "prec(take_chocolate, at(monkey, X), true) : holds(at(chocolate,X)) :- action(take_chocolate).\n",
    "\n",
    "\n",
    "action(take_coconut).\n",
    "prec(take_coconut, at(monkey, X) , true) : holds(at(coconut,X)) :- action(take_coconut).\n",
    "\n",
    ":- prec(A,F,true), occurs(A), not prev(holds(F)).\n",
    ":- prec(A,F,false), occurs(A), prev(holds(F)).\n",
    "\n",
    "% ACTIONS WITH THEIR EFFECTS (EFFECTS)\n",
    "eff(walk(X,Y), at(monkey, Y), true) :- action(walk(X,Y)).\n",
    "eff(walk(X,Y), at(monkey, X), false) :- action(walk(X,Y)).\n",
    "\n",
    "eff(push(X,Y), at(monkey, Y), true) :- action(push(X,Y)).\n",
    "eff(push(X,Y), at(box, Y), true) :- action(push(X,Y)).\n",
    "\n",
    "eff(push(X,Y), at(monkey, X), false) :- action(push(X,Y)).\n",
    "eff(push(X,Y), at(box, X), false) :- action(push(X,Y)).\n",
    "\n",
    "eff(grasp, hasBanana, true) :- action(grasp).\n",
    "\n",
    "eff(climb, onBox, true) :- action(climb).\n",
    "\n",
    "eff(descend, onBox, false) :- action(descend).\n",
    "\n",
    "eff(open, drawerOpen, true) :- action(open).\n",
    "\n",
    "eff(take_coconut, hasCoconut, true) :- action(take_coconut).\n",
    "\n",
    "eff(take_chocolate, hasChocolate, true) :- action(take_chocolate).\n",
    "\n",
    "% Update by effects\n",
    "holds(F) :- occurs(A), eff(A, F, true).\n",
    "neg(F) :- occurs(A), eff(A, F, false).\n",
    "\n",
    "{ occurs(A) : action(A), A != stop, A != noop } 1 :- not holds(ended).\n",
    "\n",
    "% Inertia\n",
    "wnext(holds(F)) :- holds(F), not wnext(neg(F)).\n",
    "\n",
    "% GOAL\n",
    "holds(goal_achieved) :- holds(hasCoconut), holds(hasChocolate).\n",
    "holds(goal_achieved) :- holds(hasBanana), holds(hasChocolate).\n",
    "    \n",
    ":- not eventually(holds(goal_achieved)).\n",
    "\n",
    "\n",
    "% as soon as the goal is achieved, fire stop (once)\n",
    "wnext(occurs(stop)) :- holds(goal_achieved), not holds(ended).\n",
    "prec(stop, goal_achieved, true).   % stop executable if goal\n",
    "wnext(executable(stop)) :- holds(goal_achieved), not holds(ended).\n",
    "\n",
    "\n",
    "eff(stop, ended,     true).        % stop causes ended\n",
    "\n",
    "% after ended holds, fire noop every step\n",
    "wnext(occurs(noop)) :- holds(ended).\n",
    "prec(noop, ended,    true).        % noop executable if ended\n",
    "wnext(executable(noop)) :-  holds(ended).\n",
    "\n",
    "eff(noop, ended, true).        % noop causes ended\n",
    "\n",
    "\n",
    "\n",
    "#external initially.\n",
    "#external eventually(holds(goal_achieved)).\n",
    "#external eventually(occurs(noop)).\n",
    "#external eventually(holds(ended)).\n",
    "#external occurs(stop).\n",
    "#external finally.\n",
    "#external and(holds(hasCoconut), or(holds(hasChocolate), holds(hasBanana))).\n",
    "#external prev(holds(F)) : prec(A,F,true).\n",
    "#external wnext(neg(F)) : prec(A,F,true).\n",
    "#external wnext(neg(F)) : prec(A,F,true).\n",
    "\n",
    "#show show(occurs(X)) : action(X)."
   ]
  },
  {
   "cell_type": "markdown",
   "id": "bae7455b",
   "metadata": {},
   "source": [
    "More specifically, the goal can be expressed with the temporal formula: \n",
    "    `and(holds(hasCoconut), or(holds(hasChocolate), holds(hasBanana)))`"
   ]
  },
  {
   "cell_type": "markdown",
   "id": "a0878136",
   "metadata": {},
   "source": [
    "The program is satifsied with at least 5 time steps:"
   ]
  },
  {
   "cell_type": "code",
   "execution_count": 134,
   "id": "bada4532",
   "metadata": {},
   "outputs": [
    {
     "name": "stdout",
     "output_type": "stream",
     "text": [
      "clingo version 5.4.0\n",
      "Reading from - ...\n",
      "Solving...\n",
      "Answer: 1\n",
      "(occurs(take_coconut),5) (occurs(walk(4,3)),4) (occurs(take_chocolate),3) (occurs(open),2) (occurs(walk(1,4)),1)\n",
      "Answer: 2\n",
      "(occurs(take_chocolate),5) (occurs(open),4) (occurs(walk(3,4)),3) (occurs(take_coconut),2) (occurs(walk(1,3)),1)\n",
      "SATISFIABLE\n",
      "\n",
      "Models       : 2\n",
      "Calls        : 1\n",
      "Time         : 0.111s (Solving: 0.00s 1st Model: 0.00s Unsat: 0.00s)\n",
      "CPU Time     : 0.109s\n"
     ]
    }
   ],
   "source": [
    "!clingo monkey/monkey.lp monkey/instances.lp  0 --output=reify | clingo - meta-telingo.lp -c horizon=5 0"
   ]
  },
  {
   "cell_type": "markdown",
   "id": "6fa2588d",
   "metadata": {},
   "source": [
    "But we also see that we quickly obtain a large number of answer sets: "
   ]
  },
  {
   "cell_type": "code",
   "execution_count": 135,
   "id": "fde23cb1",
   "metadata": {},
   "outputs": [
    {
     "name": "stdout",
     "output_type": "stream",
     "text": [
      "clingo version 5.4.0\n",
      "Reading from - ...\n",
      "Solving...\n",
      "Answer: 1\n",
      "(occurs(take_coconut),6) (occurs(walk(4,3)),5) (occurs(take_chocolate),4) (occurs(open),3) (occurs(push(5,4)),2) (occurs(walk(1,5)),1)\n",
      "Answer: 2\n",
      "(occurs(take_coconut),6) (occurs(push(4,3)),5) (occurs(take_chocolate),4) (occurs(open),3) (occurs(push(5,4)),2) (occurs(walk(1,5)),1)\n",
      "Answer: 3\n",
      "(occurs(take_chocolate),5) (occurs(open),4) (occurs(walk(3,4)),3) (occurs(take_coconut),2) (occurs(walk(1,3)),1)\n",
      "Answer: 4\n",
      "(occurs(take_coconut),6) (occurs(walk(4,3)),5) (occurs(take_chocolate),4) (occurs(open),3) (occurs(walk(1,4)),1)\n",
      "Answer: 5\n",
      "(occurs(take_coconut),6) (occurs(walk(4,3)),5) (occurs(take_chocolate),4) (occurs(open),3) (occurs(walk(3,4)),2) (occurs(walk(1,3)),1)\n",
      "Answer: 6\n",
      "(occurs(take_coconut),6) (occurs(walk(4,3)),5) (occurs(take_chocolate),4) (occurs(open),3) (occurs(walk(1,4)),2)\n",
      "Answer: 7\n",
      "(occurs(take_coconut),6) (occurs(walk(4,3)),5) (occurs(take_chocolate),4) (occurs(open),3) (occurs(walk(2,4)),2) (occurs(walk(1,2)),1)\n",
      "Answer: 8\n",
      "(occurs(take_coconut),6) (occurs(walk(4,3)),5) (occurs(take_chocolate),4) (occurs(open),3) (occurs(walk(5,4)),2) (occurs(walk(1,5)),1)\n",
      "Answer: 9\n",
      "(occurs(take_chocolate),6) (occurs(walk(3,4)),5) (occurs(take_coconut),4) (occurs(walk(4,3)),3) (occurs(open),2) (occurs(walk(1,4)),1)\n",
      "Answer: 10\n",
      "(occurs(take_coconut),5) (occurs(walk(4,3)),4) (occurs(take_chocolate),3) (occurs(open),2) (occurs(walk(1,4)),1)\n",
      "Answer: 11\n",
      "(occurs(take_coconut),6) (occurs(walk(4,3)),5) (occurs(take_chocolate),4) (occurs(take_chocolate),3) (occurs(open),2) (occurs(walk(1,4)),1)\n",
      "Answer: 12\n",
      "(occurs(take_coconut),6) (occurs(walk(4,3)),5) (occurs(take_chocolate),4) (occurs(open),2) (occurs(walk(1,4)),1)\n",
      "Answer: 13\n",
      "(occurs(take_coconut),6) (occurs(walk(4,3)),4) (occurs(take_chocolate),3) (occurs(open),2) (occurs(walk(1,4)),1)\n",
      "Answer: 14\n",
      "(occurs(take_coconut),6) (occurs(walk(5,3)),5) (occurs(walk(4,5)),4) (occurs(take_chocolate),3) (occurs(open),2) (occurs(walk(1,4)),1)\n",
      "Answer: 15\n",
      "(occurs(take_coconut),6) (occurs(walk(2,3)),5) (occurs(walk(4,2)),4) (occurs(take_chocolate),3) (occurs(open),2) (occurs(walk(1,4)),1)\n",
      "Answer: 16\n",
      "(occurs(take_coconut),6) (occurs(walk(1,3)),5) (occurs(walk(4,1)),4) (occurs(take_chocolate),3) (occurs(open),2) (occurs(walk(1,4)),1)\n",
      "Answer: 17\n",
      "(occurs(take_coconut),6) (occurs(push(5,3)),5) (occurs(walk(4,5)),4) (occurs(take_chocolate),3) (occurs(open),2) (occurs(walk(1,4)),1)\n",
      "Answer: 18\n",
      "(occurs(take_coconut),6) (occurs(walk(4,3)),5) (occurs(take_chocolate),3) (occurs(open),2) (occurs(walk(1,4)),1)\n",
      "Answer: 19\n",
      "(occurs(take_chocolate),6) (occurs(open),5) (occurs(push(3,4)),4) (occurs(take_coconut),3) (occurs(push(5,3)),2) (occurs(walk(1,5)),1)\n",
      "Answer: 20\n",
      "(occurs(take_chocolate),6) (occurs(open),5) (occurs(walk(3,4)),4) (occurs(take_coconut),3) (occurs(push(5,3)),2) (occurs(walk(1,5)),1)\n",
      "Answer: 21\n",
      "(occurs(take_chocolate),6) (occurs(open),5) (occurs(walk(3,4)),4) (occurs(take_coconut),3) (occurs(walk(5,3)),2) (occurs(walk(1,5)),1)\n",
      "Answer: 22\n",
      "(occurs(take_chocolate),6) (occurs(open),5) (occurs(walk(3,4)),4) (occurs(take_coconut),3) (occurs(walk(4,3)),2) (occurs(walk(1,4)),1)\n",
      "Answer: 23\n",
      "(occurs(take_chocolate),6) (occurs(open),5) (occurs(walk(3,4)),4) (occurs(take_coconut),3) (occurs(walk(2,3)),2) (occurs(walk(1,2)),1)\n",
      "Answer: 24\n",
      "(occurs(take_chocolate),6) (occurs(open),5) (occurs(walk(3,4)),4) (occurs(take_coconut),3) (occurs(walk(1,3)),2)\n",
      "Answer: 25\n",
      "(occurs(take_chocolate),6) (occurs(open),5) (occurs(push(5,4)),4) (occurs(walk(3,5)),3) (occurs(take_coconut),2) (occurs(walk(1,3)),1)\n",
      "Answer: 26\n",
      "(occurs(take_chocolate),6) (occurs(open),5) (occurs(walk(5,4)),4) (occurs(walk(3,5)),3) (occurs(take_coconut),2) (occurs(walk(1,3)),1)\n",
      "Answer: 27\n",
      "(occurs(take_chocolate),6) (occurs(open),5) (occurs(walk(3,4)),4) (occurs(take_coconut),3) (occurs(walk(1,3)),1)\n",
      "Answer: 28\n",
      "(occurs(take_chocolate),6) (occurs(open),5) (occurs(walk(3,4)),4) (occurs(take_coconut),3) (occurs(take_coconut),2) (occurs(walk(1,3)),1)\n",
      "Answer: 29\n",
      "(occurs(take_chocolate),6) (occurs(open),5) (occurs(walk(2,4)),4) (occurs(walk(3,2)),3) (occurs(take_coconut),2) (occurs(walk(1,3)),1)\n",
      "Answer: 30\n",
      "(occurs(take_chocolate),6) (occurs(open),5) (occurs(walk(1,4)),4) (occurs(walk(3,1)),3) (occurs(take_coconut),2) (occurs(walk(1,3)),1)\n",
      "Answer: 31\n",
      "(occurs(take_chocolate),6) (occurs(open),5) (occurs(walk(3,4)),4) (occurs(take_coconut),2) (occurs(walk(1,3)),1)\n",
      "Answer: 32\n",
      "(occurs(take_chocolate),6) (occurs(open),5) (occurs(walk(3,4)),3) (occurs(take_coconut),2) (occurs(walk(1,3)),1)\n",
      "Answer: 33\n",
      "(occurs(take_chocolate),6) (occurs(open),4) (occurs(walk(3,4)),3) (occurs(take_coconut),2) (occurs(walk(1,3)),1)\n",
      "SATISFIABLE\n",
      "\n",
      "Models       : 33\n",
      "Calls        : 1\n",
      "Time         : 0.117s (Solving: 0.00s 1st Model: 0.00s Unsat: 0.00s)\n",
      "CPU Time     : 0.109s\n"
     ]
    }
   ],
   "source": [
    "!clingo monkey/monkey.lp monkey/instances.lp  0 --output=reify | clingo - meta-telingo.lp -c horizon=6 0"
   ]
  },
  {
   "cell_type": "markdown",
   "id": "00fef82e",
   "metadata": {},
   "source": [
    "Thus, we will try to satisfy some preferences. "
   ]
  },
  {
   "cell_type": "markdown",
   "id": "33bcf6cd",
   "metadata": {},
   "source": [
    "1) \"*The preference discussed in Delgrande et al. Delgrande et al. (2004) is that bananas\n",
    "are preferred over coconuts – i.e., hasCoconut ≤c hasBanana – and in our framework\n",
    "it can be expressed as*\n",
    "\n",
    "`eventually(hasBanana)◁ eventually(hasCoconut)`\""
   ]
  },
  {
   "cell_type": "markdown",
   "id": "c5293729",
   "metadata": {},
   "source": [
    "We can represent this lexico preference in monkey/pref.lp as: \n",
    "\n",
    "`% (P1) eventually(hasBanana) > eventually(hasCoconut). -> p. 594`\n",
    "\n",
    "`#preference(hasBanana, more(cardinality)){\n",
    "    eventually(holds(hasBanana))}.`\n",
    "\n",
    "`#preference(hasChocolate, more(cardinality)){\n",
    "    eventually(holds(hasChocolate))}.`\n",
    "\n",
    "`#preference(p1,lexico){1 ::**hasChocolate; 2::**hasBanana}.`\n"
   ]
  },
  {
   "cell_type": "markdown",
   "id": "68dd3c2d",
   "metadata": {},
   "source": [
    "2) \"*Let us continue Example 8 by removing the choice preference and assuming instead the temporal preference hasBanana ≤t hasChocolate – i.e., the banana should be obtained before the chocolate. The corresponding encoding in our language is*\n",
    "\n",
    "`eventually(hasBanana ∧ eventually(hasChocolate)) ∧ until(¬hasChocolate, hasBanana)`\""
   ]
  },
  {
   "cell_type": "markdown",
   "id": "dd522ccf",
   "metadata": {},
   "source": [
    "`% (P2) eventually(hasBanana n eventually(hasChocolate)) n until(not hasChocolate, hasBanana) -> p. 595`\n",
    "\n",
    "`#preference(p2,more(cardinality)){\n",
    "    and(and(eventually(holds(hasBanana)),\n",
    "    eventually(holds(hasChocolate))),\n",
    "    until(negation(holds(hasChocolate)), holds(hasBanana)))\n",
    "    }.`"
   ]
  },
  {
   "cell_type": "markdown",
   "id": "55f3f71b",
   "metadata": {},
   "source": [
    "We can now test this out by optimizing either with p1 (having a banana is more important than having chocolate):"
   ]
  },
  {
   "cell_type": "code",
   "execution_count": 136,
   "id": "8b461f69",
   "metadata": {},
   "outputs": [
    {
     "name": "stdout",
     "output_type": "stream",
     "text": [
      "Overwriting monkey/pref.lp\n"
     ]
    }
   ],
   "source": [
    "%%file monkey/pref.lp\n",
    "% clingo monkey/monkey.lp monkey/instances.lp  0 --output=reify | clingo - meta-telingo.lp -c horizon=2 0 --project\n",
    "% clingo monkey/monkey.lp monkey/instances.lp monkey/auxiliary.lp monkey/pref-externals.lp  0 --output=reify | asprin - meta-telingo.lp monkey/pref.lp meta-telingo-extension.lp -c horizon=2 0\n",
    "\n",
    "#optimize(p1).\n",
    "\n",
    "% (P1) eventually(hasBanana) > eventually(hasCoconut). -> p. 594\n",
    "#preference(hasBanana, more(cardinality)){\n",
    "    eventually(holds(hasBanana))}.\n",
    "\n",
    "#preference(hasChocolate, more(cardinality)){\n",
    "    eventually(holds(hasChocolate))}.\n",
    "\n",
    "#preference(p1,lexico){1 ::**hasChocolate; 2::**hasBanana}.\n",
    "\n",
    "\n",
    "% (P2) eventually(hasBanana n eventually(hasChocolate)) n until(not hasChocolate, hasBanana) -> p. 595\n",
    "\n",
    "#preference(p2,more(cardinality)){\n",
    "    and(and(eventually(holds(hasBanana)),\n",
    "    eventually(holds(hasChocolate))),\n",
    "    until(negation(holds(hasChocolate)), holds(hasBanana)))\n",
    "    }.\n"
   ]
  },
  {
   "cell_type": "code",
   "execution_count": 138,
   "id": "273903e0",
   "metadata": {},
   "outputs": [
    {
     "name": "stdout",
     "output_type": "stream",
     "text": [
      "asprin version 3.1.1\n",
      "Reading from - ...\n",
      "Solving...\n",
      "Answer: 1\n",
      "(occurs(open),2) (occurs(take_chocolate),7) (occurs(take_coconut),5) (occurs(walk(1,4)),1) (occurs(walk(3,4)),6) (occurs(walk(4,5)),3) (occurs(push(5,3)),4)\n",
      "Answer: 2\n",
      "(occurs(climb),6) (occurs(grasp),7) (occurs(open),2) (occurs(take_chocolate),3) (occurs(walk(1,4)),1) (occurs(walk(4,5)),4) (occurs(push(5,2)),5)\n",
      "OPTIMUM FOUND\n",
      "Answer: 3\n",
      "(occurs(climb),6) (occurs(grasp),7) (occurs(open),3) (occurs(take_chocolate),4) (occurs(walk(1,5)),1) (occurs(push(4,2)),5) (occurs(push(5,4)),2)\n",
      "OPTIMUM FOUND *\n",
      "\n",
      "Models       : 3\n",
      "  Optimum    : yes\n",
      "  Optimal    : 2\n",
      "Calls        : 5\n",
      "Time         : 0.322s (Solving: 0.02s 1st Model: 0.01s Unsat: 0.01s)\n",
      "CPU Time     : 0.297s\n"
     ]
    }
   ],
   "source": [
    "!clingo monkey/monkey.lp monkey/instances.lp monkey/auxiliary.lp monkey/pref-externals.lp 0 --output=reify | \\\n",
    " asprin - meta-telingo.lp monkey/pref.lp meta-telingo-extension.lp -c horizon=7 0"
   ]
  },
  {
   "cell_type": "markdown",
   "id": "a1df925b",
   "metadata": {},
   "source": [
    "or with p2 (the banana should be obtained before the chocolate): "
   ]
  },
  {
   "cell_type": "code",
   "execution_count": 139,
   "id": "9391076a",
   "metadata": {},
   "outputs": [
    {
     "name": "stdout",
     "output_type": "stream",
     "text": [
      "Overwriting monkey/pref.lp\n"
     ]
    }
   ],
   "source": [
    "%%file monkey/pref.lp\n",
    "% clingo monkey/monkey.lp monkey/instances.lp  0 --output=reify | clingo - meta-telingo.lp -c horizon=2 0 --project\n",
    "% clingo monkey/monkey.lp monkey/instances.lp monkey/auxiliary.lp monkey/pref-externals.lp  0 --output=reify | asprin - meta-telingo.lp monkey/pref.lp meta-telingo-extension.lp -c horizon=2 0\n",
    "\n",
    "#optimize(p2).\n",
    "\n",
    "% (P1) eventually(hasBanana) > eventually(hasCoconut). -> p. 594\n",
    "#preference(hasBanana, more(cardinality)){\n",
    "    eventually(holds(hasBanana))}.\n",
    "\n",
    "#preference(hasChocolate, more(cardinality)){\n",
    "    eventually(holds(hasChocolate))}.\n",
    "\n",
    "#preference(p1,lexico){1 ::**hasChocolate; 2::**hasBanana}.\n",
    "\n",
    "\n",
    "% (P2) eventually(hasBanana n eventually(hasChocolate)) n until(not hasChocolate, hasBanana) -> p. 595\n",
    "\n",
    "#preference(p2,more(cardinality)){\n",
    "    and(and(eventually(holds(hasBanana)),\n",
    "    eventually(holds(hasChocolate))),\n",
    "    until(negation(holds(hasChocolate)), holds(hasBanana)))\n",
    "    }.\n"
   ]
  },
  {
   "cell_type": "code",
   "execution_count": 140,
   "id": "e8f54fc3",
   "metadata": {},
   "outputs": [
    {
     "name": "stdout",
     "output_type": "stream",
     "text": [
      "asprin version 3.1.1\n",
      "Reading from - ...\n",
      "Solving...\n",
      "Answer: 1\n",
      "(occurs(climb),3) (occurs(descend),5) (occurs(open),4) (occurs(take_chocolate),6) (occurs(take_coconut),8) (occurs(walk(1,5)),1) (occurs(push(4,3)),7) (occurs(push(5,4)),2)\n",
      "Answer: 2\n",
      "(occurs(climb),3) (occurs(descend),5) (occurs(grasp),4) (occurs(open),7) (occurs(take_chocolate),8) (occurs(walk(2,4)),6) (occurs(walk(1,5)),1) (occurs(push(5,2)),2)\n",
      "OPTIMUM FOUND\n",
      "Answer: 3\n",
      "(occurs(climb),3) (occurs(descend),5) (occurs(grasp),4) (occurs(open),7) (occurs(take_chocolate),8) (occurs(walk(1,5)),1) (occurs(push(5,2)),2) (occurs(push(2,4)),6)\n",
      "OPTIMUM FOUND *\n",
      "\n",
      "Models       : 3\n",
      "  Optimum    : yes\n",
      "  Optimal    : 2\n",
      "Calls        : 5\n",
      "Time         : 0.341s (Solving: 0.03s 1st Model: 0.03s Unsat: 0.00s)\n",
      "CPU Time     : 0.328s\n"
     ]
    }
   ],
   "source": [
    "!clingo monkey/monkey.lp monkey/instances.lp monkey/auxiliary.lp monkey/pref-externals.lp 0 --output=reify | \\\n",
    " asprin - meta-telingo.lp monkey/pref.lp meta-telingo-extension.lp -c horizon=8 0"
   ]
  },
  {
   "cell_type": "markdown",
   "id": "0224679a",
   "metadata": {},
   "source": [
    "Here, we see that the monkey first takes the banana (grasp) and then the takes the chocolate."
   ]
  }
 ],
 "metadata": {
  "kernelspec": {
   "display_name": "Python 3",
   "language": "python",
   "name": "python3"
  },
  "language_info": {
   "codemirror_mode": {
    "name": "ipython",
    "version": 3
   },
   "file_extension": ".py",
   "mimetype": "text/x-python",
   "name": "python",
   "nbconvert_exporter": "python",
   "pygments_lexer": "ipython3",
   "version": "3.5.3"
  }
 },
 "nbformat": 4,
 "nbformat_minor": 5
}
