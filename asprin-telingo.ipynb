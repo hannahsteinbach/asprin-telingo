{
 "cells": [
  {
   "cell_type": "code",
   "execution_count": null,
   "id": "fc9fbcae",
   "metadata": {},
   "outputs": [],
   "source": [
    "!clingo monkey/monkey.lp monkey/instances.lp monkey/auxiliary.lp monkey/pref-externals.lp 0 --output=reify | \\\n",
    " asprin - meta-telingo.lp monkey/pref.lp meta-telingo-extension.lp -c horizon=8 0"
   ]
  },
  {
   "cell_type": "code",
   "execution_count": null,
   "id": "ad24c031",
   "metadata": {},
   "outputs": [],
   "source": []
  }
 ],
 "metadata": {
  "kernelspec": {
   "display_name": "Python 3",
   "language": "python",
   "name": "python3"
  },
  "language_info": {
   "codemirror_mode": {
    "name": "ipython",
    "version": 3
   },
   "file_extension": ".py",
   "mimetype": "text/x-python",
   "name": "python",
   "nbconvert_exporter": "python",
   "pygments_lexer": "ipython3",
   "version": "3.5.3"
  }
 },
 "nbformat": 4,
 "nbformat_minor": 5
}
