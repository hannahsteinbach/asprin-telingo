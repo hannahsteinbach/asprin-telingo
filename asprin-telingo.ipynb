{
 "cells": [
  {
   "cell_type": "code",
   "execution_count": 6,
   "id": "724a4896",
   "metadata": {},
   "outputs": [
    {
     "name": "stdout",
     "output_type": "stream",
     "text": [
      "asprin version 3.1.1\n",
      "Reading from - ...\n",
      "Solving...\n",
      "Answer: 1\n",
      "(occurs(open),2) (occurs(take_chocolate),3) (occurs(take_coconut),5) (occurs(walk(4,3)),4) (occurs(walk(1,4)),1)\n",
      "Answer: 2\n",
      "(occurs(climb),3) (occurs(descend),5) (occurs(grasp),4) (occurs(open),7) (occurs(take_chocolate),8) (occurs(walk(2,4)),6) (occurs(walk(1,5)),1) (occurs(push(5,2)),2)\n",
      "OPTIMUM FOUND\n",
      "Answer: 3\n",
      "(occurs(climb),3) (occurs(descend),5) (occurs(grasp),4) (occurs(open),7) (occurs(take_chocolate),8) (occurs(walk(1,5)),1) (occurs(push(5,2)),2) (occurs(push(2,4)),6)\n",
      "OPTIMUM FOUND *\n",
      "\n",
      "Models       : 3\n",
      "  Optimum    : yes\n",
      "  Optimal    : 2\n",
      "Calls        : 5\n",
      "Time         : 0.310s (Solving: 0.02s 1st Model: 0.02s Unsat: 0.00s)\n",
      "CPU Time     : 0.297s\n"
     ]
    }
   ],
   "source": [
    "!clingo monkey/monkey.lp monkey/instances.lp monkey/auxiliary.lp monkey/pref-externals.lp 0 --output=reify | \\\n",
    " asprin - meta-telingo.lp monkey/pref.lp meta-telingo-extension.lp -c horizon=8 0"
   ]
  },
  {
   "cell_type": "code",
   "execution_count": null,
   "id": "8bf454b4",
   "metadata": {},
   "outputs": [],
   "source": []
  }
 ],
 "metadata": {
  "kernelspec": {
   "display_name": "Python 3",
   "language": "python",
   "name": "python3"
  },
  "language_info": {
   "codemirror_mode": {
    "name": "ipython",
    "version": 3
   },
   "file_extension": ".py",
   "mimetype": "text/x-python",
   "name": "python",
   "nbconvert_exporter": "python",
   "pygments_lexer": "ipython3",
   "version": "3.5.3"
  }
 },
 "nbformat": 4,
 "nbformat_minor": 5
}
